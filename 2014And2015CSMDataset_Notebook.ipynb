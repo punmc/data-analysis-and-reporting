{
  "nbformat": 4,
  "nbformat_minor": 0,
  "metadata": {
    "colab": {
      "name": "Do_An.ipynb",
      "provenance": [],
      "collapsed_sections": []
    },
    "kernelspec": {
      "name": "python3",
      "display_name": "Python 3"
    },
    "language_info": {
      "name": "python"
    }
  },
  "cells": [
    {
      "cell_type": "code",
      "metadata": {
        "id": "2xQR2ox4yTL6"
      },
      "source": [
        "import numpy as np\n",
        "import pandas as pd\n",
        "import seaborn as sb\n",
        "import scipy.stats as st\n",
        "import matplotlib.pyplot as plt\n",
        "%matplotlib inline\n",
        "import statsmodels.api as sm\n",
        "import statsmodels.formula.api as smf\n",
        "import statsmodels.stats.multicomp as multi\n",
        "from sklearn import tree\n",
        "from sklearn.model_selection import train_test_split\n",
        "from sklearn import metrics\n",
        "import graphviz"
      ],
      "execution_count": null,
      "outputs": []
    },
    {
      "cell_type": "code",
      "metadata": {
        "colab": {
          "base_uri": "https://localhost:8080/"
        },
        "id": "CioP9GNd97_a",
        "outputId": "4f7e5169-14a7-421c-84d6-f3dcc5e35321"
      },
      "source": [
        "from google.colab import drive\n",
        "drive.mount('/content/drive')"
      ],
      "execution_count": null,
      "outputs": [
        {
          "output_type": "stream",
          "name": "stdout",
          "text": [
            "Drive already mounted at /content/drive; to attempt to forcibly remount, call drive.mount(\"/content/drive\", force_remount=True).\n"
          ]
        }
      ]
    },
    {
      "cell_type": "code",
      "metadata": {
        "id": "J_cckIJj02EM"
      },
      "source": [
        "data = pd.read_excel('/content/drive/MyDrive/Data_BTVN/2014 and 2015 CSM dataset.xlsx')"
      ],
      "execution_count": null,
      "outputs": []
    },
    {
      "cell_type": "code",
      "metadata": {
        "colab": {
          "base_uri": "https://localhost:8080/",
          "height": 252
        },
        "id": "em6hBowk2szt",
        "outputId": "fe1dbbec-6747-45c6-a45b-d6ebdec3b753"
      },
      "source": [
        "data.head()"
      ],
      "execution_count": null,
      "outputs": [
        {
          "output_type": "execute_result",
          "data": {
            "text/html": [
              "<div>\n",
              "<style scoped>\n",
              "    .dataframe tbody tr th:only-of-type {\n",
              "        vertical-align: middle;\n",
              "    }\n",
              "\n",
              "    .dataframe tbody tr th {\n",
              "        vertical-align: top;\n",
              "    }\n",
              "\n",
              "    .dataframe thead th {\n",
              "        text-align: right;\n",
              "    }\n",
              "</style>\n",
              "<table border=\"1\" class=\"dataframe\">\n",
              "  <thead>\n",
              "    <tr style=\"text-align: right;\">\n",
              "      <th></th>\n",
              "      <th>Movie</th>\n",
              "      <th>Year</th>\n",
              "      <th>Ratings</th>\n",
              "      <th>Genre</th>\n",
              "      <th>Gross</th>\n",
              "      <th>Budget</th>\n",
              "      <th>Screens</th>\n",
              "      <th>Sequel</th>\n",
              "      <th>Sentiment</th>\n",
              "      <th>Views</th>\n",
              "      <th>Likes</th>\n",
              "      <th>Dislikes</th>\n",
              "      <th>Comments</th>\n",
              "      <th>Aggregate Followers</th>\n",
              "    </tr>\n",
              "  </thead>\n",
              "  <tbody>\n",
              "    <tr>\n",
              "      <th>0</th>\n",
              "      <td>13 Sins</td>\n",
              "      <td>2014</td>\n",
              "      <td>6.3</td>\n",
              "      <td>8</td>\n",
              "      <td>9130</td>\n",
              "      <td>4000000.0</td>\n",
              "      <td>45.0</td>\n",
              "      <td>1</td>\n",
              "      <td>0</td>\n",
              "      <td>3280543</td>\n",
              "      <td>4632</td>\n",
              "      <td>425</td>\n",
              "      <td>636</td>\n",
              "      <td>1120000.0</td>\n",
              "    </tr>\n",
              "    <tr>\n",
              "      <th>1</th>\n",
              "      <td>22 Jump Street</td>\n",
              "      <td>2014</td>\n",
              "      <td>7.1</td>\n",
              "      <td>1</td>\n",
              "      <td>192000000</td>\n",
              "      <td>50000000.0</td>\n",
              "      <td>3306.0</td>\n",
              "      <td>2</td>\n",
              "      <td>2</td>\n",
              "      <td>583289</td>\n",
              "      <td>3465</td>\n",
              "      <td>61</td>\n",
              "      <td>186</td>\n",
              "      <td>12350000.0</td>\n",
              "    </tr>\n",
              "    <tr>\n",
              "      <th>2</th>\n",
              "      <td>3 Days to Kill</td>\n",
              "      <td>2014</td>\n",
              "      <td>6.2</td>\n",
              "      <td>1</td>\n",
              "      <td>30700000</td>\n",
              "      <td>28000000.0</td>\n",
              "      <td>2872.0</td>\n",
              "      <td>1</td>\n",
              "      <td>0</td>\n",
              "      <td>304861</td>\n",
              "      <td>328</td>\n",
              "      <td>34</td>\n",
              "      <td>47</td>\n",
              "      <td>483000.0</td>\n",
              "    </tr>\n",
              "    <tr>\n",
              "      <th>3</th>\n",
              "      <td>300: Rise of an Empire</td>\n",
              "      <td>2014</td>\n",
              "      <td>6.3</td>\n",
              "      <td>1</td>\n",
              "      <td>106000000</td>\n",
              "      <td>110000000.0</td>\n",
              "      <td>3470.0</td>\n",
              "      <td>2</td>\n",
              "      <td>0</td>\n",
              "      <td>452917</td>\n",
              "      <td>2429</td>\n",
              "      <td>132</td>\n",
              "      <td>590</td>\n",
              "      <td>568000.0</td>\n",
              "    </tr>\n",
              "    <tr>\n",
              "      <th>4</th>\n",
              "      <td>A Haunted House 2</td>\n",
              "      <td>2014</td>\n",
              "      <td>4.7</td>\n",
              "      <td>8</td>\n",
              "      <td>17300000</td>\n",
              "      <td>3500000.0</td>\n",
              "      <td>2310.0</td>\n",
              "      <td>2</td>\n",
              "      <td>0</td>\n",
              "      <td>3145573</td>\n",
              "      <td>12163</td>\n",
              "      <td>610</td>\n",
              "      <td>1082</td>\n",
              "      <td>1923800.0</td>\n",
              "    </tr>\n",
              "  </tbody>\n",
              "</table>\n",
              "</div>"
            ],
            "text/plain": [
              "                    Movie  Year  ...  Comments  Aggregate Followers\n",
              "0                 13 Sins  2014  ...       636            1120000.0\n",
              "1          22 Jump Street  2014  ...       186           12350000.0\n",
              "2          3 Days to Kill  2014  ...        47             483000.0\n",
              "3  300: Rise of an Empire  2014  ...       590             568000.0\n",
              "4       A Haunted House 2  2014  ...      1082            1923800.0\n",
              "\n",
              "[5 rows x 14 columns]"
            ]
          },
          "metadata": {},
          "execution_count": 6
        }
      ]
    },
    {
      "cell_type": "code",
      "metadata": {
        "colab": {
          "base_uri": "https://localhost:8080/"
        },
        "id": "otacxeKb09vJ",
        "outputId": "9b0824b9-ef15-4ddc-f844-65774b5db940"
      },
      "source": [
        "data.info()"
      ],
      "execution_count": null,
      "outputs": [
        {
          "output_type": "stream",
          "name": "stdout",
          "text": [
            "<class 'pandas.core.frame.DataFrame'>\n",
            "RangeIndex: 231 entries, 0 to 230\n",
            "Data columns (total 14 columns):\n",
            " #   Column               Non-Null Count  Dtype  \n",
            "---  ------               --------------  -----  \n",
            " 0   Movie                231 non-null    object \n",
            " 1   Year                 231 non-null    int64  \n",
            " 2   Ratings              231 non-null    float64\n",
            " 3   Genre                231 non-null    int64  \n",
            " 4   Gross                231 non-null    int64  \n",
            " 5   Budget               230 non-null    float64\n",
            " 6   Screens              221 non-null    float64\n",
            " 7   Sequel               231 non-null    int64  \n",
            " 8   Sentiment            231 non-null    int64  \n",
            " 9   Views                231 non-null    int64  \n",
            " 10  Likes                231 non-null    int64  \n",
            " 11  Dislikes             231 non-null    int64  \n",
            " 12  Comments             231 non-null    int64  \n",
            " 13  Aggregate Followers  196 non-null    float64\n",
            "dtypes: float64(4), int64(9), object(1)\n",
            "memory usage: 25.4+ KB\n"
          ]
        }
      ]
    },
    {
      "cell_type": "code",
      "metadata": {
        "id": "EieWrWiiBz5x"
      },
      "source": [
        "sub1 = data.copy()"
      ],
      "execution_count": null,
      "outputs": []
    },
    {
      "cell_type": "markdown",
      "metadata": {
        "id": "5N3qtb3Innzk"
      },
      "source": [
        "###Chương 2: Xử lý dữ liệu"
      ]
    },
    {
      "cell_type": "markdown",
      "metadata": {
        "id": "U4FKQ8Nlqxvl"
      },
      "source": [
        "* Tập dữ liệu có 231 dòng\n",
        "* Ở cột Budget có 1 dòng null\n",
        "* Ở cột Screens có 10 dòng null\n",
        "* Ở cột Aggregate Followers có 35 dòng null"
      ]
    },
    {
      "cell_type": "code",
      "metadata": {
        "id": "_ixu_k80n5ts"
      },
      "source": [
        "sub1 = sub1.replace('', np.nan)"
      ],
      "execution_count": null,
      "outputs": []
    },
    {
      "cell_type": "code",
      "metadata": {
        "id": "MVTTlIcc3OIJ",
        "colab": {
          "base_uri": "https://localhost:8080/"
        },
        "outputId": "cb3d13d5-ca3c-40af-8191-a7105c14354e"
      },
      "source": [
        "# Tỉ lệ các dữ liệu thiếu trong biến\n",
        "for col in sub1.columns:\n",
        "  missing_sub1 = sub1[col].isna().sum()\n",
        "  missing_percent = missing_sub1/len(data)*100\n",
        "  print(f\"Column {col}: has {missing_percent}% missing_data\")"
      ],
      "execution_count": null,
      "outputs": [
        {
          "output_type": "stream",
          "name": "stdout",
          "text": [
            "Column Movie: has 0.0% missing_data\n",
            "Column Year: has 0.0% missing_data\n",
            "Column Ratings: has 0.0% missing_data\n",
            "Column Genre: has 0.0% missing_data\n",
            "Column Gross: has 0.0% missing_data\n",
            "Column Budget: has 0.4329004329004329% missing_data\n",
            "Column Screens: has 4.329004329004329% missing_data\n",
            "Column Sequel: has 0.0% missing_data\n",
            "Column Sentiment: has 0.0% missing_data\n",
            "Column Views: has 0.0% missing_data\n",
            "Column Likes: has 0.0% missing_data\n",
            "Column Dislikes: has 0.0% missing_data\n",
            "Column Comments: has 0.0% missing_data\n",
            "Column Aggregate Followers: has 15.151515151515152% missing_data\n"
          ]
        }
      ]
    },
    {
      "cell_type": "markdown",
      "metadata": {
        "id": "gIATciz_qjHL"
      },
      "source": [
        "Trong tập dữ liệu cột Aggregate Followers(Tổng số người theo dõi) có số lượng dữ liệu thiếu khá cao có thể ảnh hưởng đến các phân tích sau này.\n",
        "\n",
        "Hãy xem thử các bộ phim bị thiếu cột này có dữ liệu như thế nào."
      ]
    },
    {
      "cell_type": "markdown",
      "metadata": {
        "id": "CNSTJxUDqpyb"
      },
      "source": [
        "###**Trực quan hóa dữ liệu thiếu bằng biểu đồ nhiệt**"
      ]
    },
    {
      "cell_type": "code",
      "metadata": {
        "id": "nBSr90evd80I",
        "colab": {
          "base_uri": "https://localhost:8080/",
          "height": 430
        },
        "outputId": "1ac53a1e-9633-4f01-9643-acb3bbb8e2ce"
      },
      "source": [
        "fig, ax = plt.subplots(figsize = (8,5))\n",
        "sb.heatmap(sub1.isna(), cmap=\"Blues\", cbar=False, yticklabels=False)"
      ],
      "execution_count": null,
      "outputs": [
        {
          "output_type": "execute_result",
          "data": {
            "text/plain": [
              "<matplotlib.axes._subplots.AxesSubplot at 0x7f34c859c190>"
            ]
          },
          "metadata": {},
          "execution_count": 11
        },
        {
          "output_type": "display_data",
          "data": {
            "image/png": "[encoded data removed]",
            "text/plain": [
              "<Figure size 576x360 with 1 Axes>"
            ]
          },
          "metadata": {
            "needs_background": "light"
          }
        }
      ]
    },
    {
      "cell_type": "code",
      "metadata": {
        "id": "iuoIbXaFjBve",
        "colab": {
          "base_uri": "https://localhost:8080/",
          "height": 1000
        },
        "outputId": "949b4ee0-b4d3-4144-8aff-1f0145670a3e"
      },
      "source": [
        "# In ra các dòng chứa dữ liệu thiếu\n",
        "null_sub1 = sub1[sub1.isna().any(axis=1)]\n",
        "null_sub1"
      ],
      "execution_count": null,
      "outputs": [
        {
          "output_type": "execute_result",
          "data": {
            "text/html": [
              "<div>\n",
              "<style scoped>\n",
              "    .dataframe tbody tr th:only-of-type {\n",
              "        vertical-align: middle;\n",
              "    }\n",
              "\n",
              "    .dataframe tbody tr th {\n",
              "        vertical-align: top;\n",
              "    }\n",
              "\n",
              "    .dataframe thead th {\n",
              "        text-align: right;\n",
              "    }\n",
              "</style>\n",
              "<table border=\"1\" class=\"dataframe\">\n",
              "  <thead>\n",
              "    <tr style=\"text-align: right;\">\n",
              "      <th></th>\n",
              "      <th>Movie</th>\n",
              "      <th>Year</th>\n",
              "      <th>Ratings</th>\n",
              "      <th>Genre</th>\n",
              "      <th>Gross</th>\n",
              "      <th>Budget</th>\n",
              "      <th>Screens</th>\n",
              "      <th>Sequel</th>\n",
              "      <th>Sentiment</th>\n",
              "      <th>Views</th>\n",
              "      <th>Likes</th>\n",
              "      <th>Dislikes</th>\n",
              "      <th>Comments</th>\n",
              "      <th>Aggregate Followers</th>\n",
              "    </tr>\n",
              "  </thead>\n",
              "  <tbody>\n",
              "    <tr>\n",
              "      <th>5</th>\n",
              "      <td>A Long Way Off</td>\n",
              "      <td>2014</td>\n",
              "      <td>4.6</td>\n",
              "      <td>3</td>\n",
              "      <td>29000</td>\n",
              "      <td>5.000000e+05</td>\n",
              "      <td>NaN</td>\n",
              "      <td>1</td>\n",
              "      <td>0</td>\n",
              "      <td>91137</td>\n",
              "      <td>112</td>\n",
              "      <td>7</td>\n",
              "      <td>1</td>\n",
              "      <td>310000.0</td>\n",
              "    </tr>\n",
              "    <tr>\n",
              "      <th>24</th>\n",
              "      <td>Camp X-Ray</td>\n",
              "      <td>2014</td>\n",
              "      <td>7.0</td>\n",
              "      <td>3</td>\n",
              "      <td>9840</td>\n",
              "      <td>1.000000e+06</td>\n",
              "      <td>NaN</td>\n",
              "      <td>1</td>\n",
              "      <td>3</td>\n",
              "      <td>7128</td>\n",
              "      <td>1</td>\n",
              "      <td>0</td>\n",
              "      <td>0</td>\n",
              "      <td>2182.0</td>\n",
              "    </tr>\n",
              "    <tr>\n",
              "      <th>25</th>\n",
              "      <td>Cantinflas</td>\n",
              "      <td>2014</td>\n",
              "      <td>6.7</td>\n",
              "      <td>9</td>\n",
              "      <td>6370000</td>\n",
              "      <td>3.000000e+06</td>\n",
              "      <td>382.0</td>\n",
              "      <td>1</td>\n",
              "      <td>3</td>\n",
              "      <td>2902492</td>\n",
              "      <td>9522</td>\n",
              "      <td>558</td>\n",
              "      <td>2296</td>\n",
              "      <td>NaN</td>\n",
              "    </tr>\n",
              "    <tr>\n",
              "      <th>32</th>\n",
              "      <td>Dracula Untold</td>\n",
              "      <td>2014</td>\n",
              "      <td>6.3</td>\n",
              "      <td>1</td>\n",
              "      <td>55900000</td>\n",
              "      <td>7.000000e+07</td>\n",
              "      <td>NaN</td>\n",
              "      <td>1</td>\n",
              "      <td>0</td>\n",
              "      <td>9149892</td>\n",
              "      <td>26427</td>\n",
              "      <td>1342</td>\n",
              "      <td>5278</td>\n",
              "      <td>395500.0</td>\n",
              "    </tr>\n",
              "    <tr>\n",
              "      <th>38</th>\n",
              "      <td>Falcon Rising</td>\n",
              "      <td>2014</td>\n",
              "      <td>5.7</td>\n",
              "      <td>1</td>\n",
              "      <td>8690</td>\n",
              "      <td>4.500000e+06</td>\n",
              "      <td>NaN</td>\n",
              "      <td>1</td>\n",
              "      <td>0</td>\n",
              "      <td>735551</td>\n",
              "      <td>636</td>\n",
              "      <td>98</td>\n",
              "      <td>92</td>\n",
              "      <td>1060000.0</td>\n",
              "    </tr>\n",
              "    <tr>\n",
              "      <th>43</th>\n",
              "      <td>God's Pocket</td>\n",
              "      <td>2014</td>\n",
              "      <td>6.1</td>\n",
              "      <td>10</td>\n",
              "      <td>104000</td>\n",
              "      <td>1.000000e+06</td>\n",
              "      <td>3.0</td>\n",
              "      <td>1</td>\n",
              "      <td>0</td>\n",
              "      <td>99427</td>\n",
              "      <td>47</td>\n",
              "      <td>10</td>\n",
              "      <td>12</td>\n",
              "      <td>NaN</td>\n",
              "    </tr>\n",
              "    <tr>\n",
              "      <th>48</th>\n",
              "      <td>Heaven Is for Real</td>\n",
              "      <td>2014</td>\n",
              "      <td>5.8</td>\n",
              "      <td>3</td>\n",
              "      <td>91400000</td>\n",
              "      <td>1.200000e+07</td>\n",
              "      <td>2417.0</td>\n",
              "      <td>1</td>\n",
              "      <td>-9</td>\n",
              "      <td>175017</td>\n",
              "      <td>461</td>\n",
              "      <td>34</td>\n",
              "      <td>133</td>\n",
              "      <td>NaN</td>\n",
              "    </tr>\n",
              "    <tr>\n",
              "      <th>54</th>\n",
              "      <td>Inherent Vice</td>\n",
              "      <td>2014</td>\n",
              "      <td>6.7</td>\n",
              "      <td>8</td>\n",
              "      <td>8090000</td>\n",
              "      <td>2.000000e+07</td>\n",
              "      <td>645.0</td>\n",
              "      <td>1</td>\n",
              "      <td>1</td>\n",
              "      <td>1167941</td>\n",
              "      <td>2651</td>\n",
              "      <td>82</td>\n",
              "      <td>797</td>\n",
              "      <td>NaN</td>\n",
              "    </tr>\n",
              "    <tr>\n",
              "      <th>58</th>\n",
              "      <td>It Follows</td>\n",
              "      <td>2014</td>\n",
              "      <td>6.9</td>\n",
              "      <td>15</td>\n",
              "      <td>14700000</td>\n",
              "      <td>2.000000e+06</td>\n",
              "      <td>4.0</td>\n",
              "      <td>1</td>\n",
              "      <td>-9</td>\n",
              "      <td>4877</td>\n",
              "      <td>6</td>\n",
              "      <td>1</td>\n",
              "      <td>1</td>\n",
              "      <td>NaN</td>\n",
              "    </tr>\n",
              "    <tr>\n",
              "      <th>61</th>\n",
              "      <td>John Wick</td>\n",
              "      <td>2014</td>\n",
              "      <td>7.2</td>\n",
              "      <td>1</td>\n",
              "      <td>43000000</td>\n",
              "      <td>2.000000e+07</td>\n",
              "      <td>2589.0</td>\n",
              "      <td>1</td>\n",
              "      <td>0</td>\n",
              "      <td>4846645</td>\n",
              "      <td>14722</td>\n",
              "      <td>405</td>\n",
              "      <td>2732</td>\n",
              "      <td>NaN</td>\n",
              "    </tr>\n",
              "    <tr>\n",
              "      <th>64</th>\n",
              "      <td>Kung Fu Jungle</td>\n",
              "      <td>2014</td>\n",
              "      <td>6.5</td>\n",
              "      <td>1</td>\n",
              "      <td>129000</td>\n",
              "      <td>2.500000e+07</td>\n",
              "      <td>28.0</td>\n",
              "      <td>1</td>\n",
              "      <td>-2</td>\n",
              "      <td>289922</td>\n",
              "      <td>143</td>\n",
              "      <td>17</td>\n",
              "      <td>9</td>\n",
              "      <td>NaN</td>\n",
              "    </tr>\n",
              "    <tr>\n",
              "      <th>67</th>\n",
              "      <td>Life After Beth</td>\n",
              "      <td>2014</td>\n",
              "      <td>5.7</td>\n",
              "      <td>8</td>\n",
              "      <td>8300</td>\n",
              "      <td>2.400000e+06</td>\n",
              "      <td>NaN</td>\n",
              "      <td>1</td>\n",
              "      <td>0</td>\n",
              "      <td>1222921</td>\n",
              "      <td>5553</td>\n",
              "      <td>193</td>\n",
              "      <td>335</td>\n",
              "      <td>1463000.0</td>\n",
              "    </tr>\n",
              "    <tr>\n",
              "      <th>69</th>\n",
              "      <td>Lucy</td>\n",
              "      <td>2014</td>\n",
              "      <td>6.4</td>\n",
              "      <td>1</td>\n",
              "      <td>127000000</td>\n",
              "      <td>4.000000e+07</td>\n",
              "      <td>3173.0</td>\n",
              "      <td>1</td>\n",
              "      <td>1</td>\n",
              "      <td>1142964</td>\n",
              "      <td>2346</td>\n",
              "      <td>167</td>\n",
              "      <td>311</td>\n",
              "      <td>NaN</td>\n",
              "    </tr>\n",
              "    <tr>\n",
              "      <th>76</th>\n",
              "      <td>My Old Lady</td>\n",
              "      <td>2014</td>\n",
              "      <td>6.3</td>\n",
              "      <td>8</td>\n",
              "      <td>4010000</td>\n",
              "      <td>5.000000e+06</td>\n",
              "      <td>255.0</td>\n",
              "      <td>1</td>\n",
              "      <td>0</td>\n",
              "      <td>446576</td>\n",
              "      <td>659</td>\n",
              "      <td>50</td>\n",
              "      <td>45</td>\n",
              "      <td>NaN</td>\n",
              "    </tr>\n",
              "    <tr>\n",
              "      <th>80</th>\n",
              "      <td>Nightcrawler</td>\n",
              "      <td>2014</td>\n",
              "      <td>7.9</td>\n",
              "      <td>10</td>\n",
              "      <td>32300000</td>\n",
              "      <td>8.500000e+06</td>\n",
              "      <td>2766.0</td>\n",
              "      <td>1</td>\n",
              "      <td>-1</td>\n",
              "      <td>6082510</td>\n",
              "      <td>12522</td>\n",
              "      <td>543</td>\n",
              "      <td>2170</td>\n",
              "      <td>NaN</td>\n",
              "    </tr>\n",
              "    <tr>\n",
              "      <th>84</th>\n",
              "      <td>Not Cool</td>\n",
              "      <td>2014</td>\n",
              "      <td>5.2</td>\n",
              "      <td>8</td>\n",
              "      <td>35700</td>\n",
              "      <td>6.000000e+05</td>\n",
              "      <td>NaN</td>\n",
              "      <td>1</td>\n",
              "      <td>0</td>\n",
              "      <td>5403836</td>\n",
              "      <td>187162</td>\n",
              "      <td>3145</td>\n",
              "      <td>24919</td>\n",
              "      <td>2720000.0</td>\n",
              "    </tr>\n",
              "    <tr>\n",
              "      <th>94</th>\n",
              "      <td>Rosewater</td>\n",
              "      <td>2014</td>\n",
              "      <td>6.6</td>\n",
              "      <td>9</td>\n",
              "      <td>3090000</td>\n",
              "      <td>5.000000e+06</td>\n",
              "      <td>371.0</td>\n",
              "      <td>1</td>\n",
              "      <td>1</td>\n",
              "      <td>909596</td>\n",
              "      <td>2214</td>\n",
              "      <td>186</td>\n",
              "      <td>632</td>\n",
              "      <td>NaN</td>\n",
              "    </tr>\n",
              "    <tr>\n",
              "      <th>95</th>\n",
              "      <td>Rudderless</td>\n",
              "      <td>2014</td>\n",
              "      <td>7.5</td>\n",
              "      <td>8</td>\n",
              "      <td>37400</td>\n",
              "      <td>5.000000e+06</td>\n",
              "      <td>NaN</td>\n",
              "      <td>1</td>\n",
              "      <td>0</td>\n",
              "      <td>827239</td>\n",
              "      <td>3221</td>\n",
              "      <td>89</td>\n",
              "      <td>432</td>\n",
              "      <td>217000.0</td>\n",
              "    </tr>\n",
              "    <tr>\n",
              "      <th>98</th>\n",
              "      <td>Serena</td>\n",
              "      <td>2014</td>\n",
              "      <td>5.4</td>\n",
              "      <td>3</td>\n",
              "      <td>176000</td>\n",
              "      <td>3.000000e+07</td>\n",
              "      <td>59.0</td>\n",
              "      <td>1</td>\n",
              "      <td>0</td>\n",
              "      <td>3726728</td>\n",
              "      <td>6221</td>\n",
              "      <td>405</td>\n",
              "      <td>1074</td>\n",
              "      <td>NaN</td>\n",
              "    </tr>\n",
              "    <tr>\n",
              "      <th>109</th>\n",
              "      <td>The Admiral</td>\n",
              "      <td>2014</td>\n",
              "      <td>7.1</td>\n",
              "      <td>2</td>\n",
              "      <td>2590000</td>\n",
              "      <td>9.500000e+06</td>\n",
              "      <td>1586.0</td>\n",
              "      <td>1</td>\n",
              "      <td>3</td>\n",
              "      <td>134353</td>\n",
              "      <td>280</td>\n",
              "      <td>43</td>\n",
              "      <td>308</td>\n",
              "      <td>NaN</td>\n",
              "    </tr>\n",
              "    <tr>\n",
              "      <th>111</th>\n",
              "      <td>The Babadook</td>\n",
              "      <td>2014</td>\n",
              "      <td>6.9</td>\n",
              "      <td>3</td>\n",
              "      <td>924000</td>\n",
              "      <td>2.000000e+06</td>\n",
              "      <td>147.0</td>\n",
              "      <td>1</td>\n",
              "      <td>-3</td>\n",
              "      <td>6501107</td>\n",
              "      <td>14139</td>\n",
              "      <td>890</td>\n",
              "      <td>2928</td>\n",
              "      <td>NaN</td>\n",
              "    </tr>\n",
              "    <tr>\n",
              "      <th>115</th>\n",
              "      <td>The Devil's Hand</td>\n",
              "      <td>2014</td>\n",
              "      <td>4.8</td>\n",
              "      <td>7</td>\n",
              "      <td>4240</td>\n",
              "      <td>7.000000e+06</td>\n",
              "      <td>NaN</td>\n",
              "      <td>1</td>\n",
              "      <td>0</td>\n",
              "      <td>330363</td>\n",
              "      <td>406</td>\n",
              "      <td>52</td>\n",
              "      <td>92</td>\n",
              "      <td>NaN</td>\n",
              "    </tr>\n",
              "    <tr>\n",
              "      <th>116</th>\n",
              "      <td>The Drop</td>\n",
              "      <td>2014</td>\n",
              "      <td>7.1</td>\n",
              "      <td>10</td>\n",
              "      <td>10700000</td>\n",
              "      <td>1.260000e+07</td>\n",
              "      <td>809.0</td>\n",
              "      <td>1</td>\n",
              "      <td>-1</td>\n",
              "      <td>2897407</td>\n",
              "      <td>5953</td>\n",
              "      <td>153</td>\n",
              "      <td>569</td>\n",
              "      <td>NaN</td>\n",
              "    </tr>\n",
              "    <tr>\n",
              "      <th>120</th>\n",
              "      <td>The Fluffy Movie: Unity Through Laughter</td>\n",
              "      <td>2014</td>\n",
              "      <td>7.0</td>\n",
              "      <td>8</td>\n",
              "      <td>2820000</td>\n",
              "      <td>NaN</td>\n",
              "      <td>432.0</td>\n",
              "      <td>1</td>\n",
              "      <td>0</td>\n",
              "      <td>10747</td>\n",
              "      <td>4</td>\n",
              "      <td>1</td>\n",
              "      <td>1</td>\n",
              "      <td>818000.0</td>\n",
              "    </tr>\n",
              "    <tr>\n",
              "      <th>128</th>\n",
              "      <td>The Identical</td>\n",
              "      <td>2014</td>\n",
              "      <td>5.0</td>\n",
              "      <td>3</td>\n",
              "      <td>2820000</td>\n",
              "      <td>1.200000e+07</td>\n",
              "      <td>NaN</td>\n",
              "      <td>1</td>\n",
              "      <td>0</td>\n",
              "      <td>309610</td>\n",
              "      <td>729</td>\n",
              "      <td>97</td>\n",
              "      <td>113</td>\n",
              "      <td>275873.0</td>\n",
              "    </tr>\n",
              "    <tr>\n",
              "      <th>129</th>\n",
              "      <td>The Imitation Game</td>\n",
              "      <td>2014</td>\n",
              "      <td>8.1</td>\n",
              "      <td>9</td>\n",
              "      <td>91100000</td>\n",
              "      <td>1.400000e+07</td>\n",
              "      <td>747.0</td>\n",
              "      <td>1</td>\n",
              "      <td>9</td>\n",
              "      <td>3047849</td>\n",
              "      <td>11748</td>\n",
              "      <td>253</td>\n",
              "      <td>1237</td>\n",
              "      <td>NaN</td>\n",
              "    </tr>\n",
              "    <tr>\n",
              "      <th>138</th>\n",
              "      <td>The Nut Job</td>\n",
              "      <td>2014</td>\n",
              "      <td>5.8</td>\n",
              "      <td>12</td>\n",
              "      <td>64200000</td>\n",
              "      <td>4.200000e+07</td>\n",
              "      <td>3427.0</td>\n",
              "      <td>1</td>\n",
              "      <td>0</td>\n",
              "      <td>2269032</td>\n",
              "      <td>3046</td>\n",
              "      <td>546</td>\n",
              "      <td>554</td>\n",
              "      <td>NaN</td>\n",
              "    </tr>\n",
              "    <tr>\n",
              "      <th>144</th>\n",
              "      <td>The Salvation</td>\n",
              "      <td>2014</td>\n",
              "      <td>6.8</td>\n",
              "      <td>3</td>\n",
              "      <td>5000</td>\n",
              "      <td>1.171231e+07</td>\n",
              "      <td>2.0</td>\n",
              "      <td>1</td>\n",
              "      <td>0</td>\n",
              "      <td>253631</td>\n",
              "      <td>170</td>\n",
              "      <td>11</td>\n",
              "      <td>58</td>\n",
              "      <td>NaN</td>\n",
              "    </tr>\n",
              "    <tr>\n",
              "      <th>156</th>\n",
              "      <td>White God</td>\n",
              "      <td>2014</td>\n",
              "      <td>6.9</td>\n",
              "      <td>3</td>\n",
              "      <td>280000</td>\n",
              "      <td>2.487820e+06</td>\n",
              "      <td>2.0</td>\n",
              "      <td>1</td>\n",
              "      <td>11</td>\n",
              "      <td>166612</td>\n",
              "      <td>571</td>\n",
              "      <td>36</td>\n",
              "      <td>70</td>\n",
              "      <td>NaN</td>\n",
              "    </tr>\n",
              "    <tr>\n",
              "      <th>158</th>\n",
              "      <td>Wild Tales</td>\n",
              "      <td>2014</td>\n",
              "      <td>8.2</td>\n",
              "      <td>8</td>\n",
              "      <td>3080000</td>\n",
              "      <td>3.300000e+06</td>\n",
              "      <td>4.0</td>\n",
              "      <td>1</td>\n",
              "      <td>7</td>\n",
              "      <td>697105</td>\n",
              "      <td>1023</td>\n",
              "      <td>39</td>\n",
              "      <td>429</td>\n",
              "      <td>NaN</td>\n",
              "    </tr>\n",
              "    <tr>\n",
              "      <th>217</th>\n",
              "      <td>Ant-Man</td>\n",
              "      <td>2015</td>\n",
              "      <td>7.8</td>\n",
              "      <td>1</td>\n",
              "      <td>169000000</td>\n",
              "      <td>1.300000e+08</td>\n",
              "      <td>3856.0</td>\n",
              "      <td>1</td>\n",
              "      <td>18</td>\n",
              "      <td>9597644</td>\n",
              "      <td>32558</td>\n",
              "      <td>2672</td>\n",
              "      <td>8359</td>\n",
              "      <td>NaN</td>\n",
              "    </tr>\n",
              "    <tr>\n",
              "      <th>218</th>\n",
              "      <td>Southpaw</td>\n",
              "      <td>2015</td>\n",
              "      <td>7.7</td>\n",
              "      <td>1</td>\n",
              "      <td>49500000</td>\n",
              "      <td>3.000000e+07</td>\n",
              "      <td>2772.0</td>\n",
              "      <td>1</td>\n",
              "      <td>6</td>\n",
              "      <td>11476882</td>\n",
              "      <td>40496</td>\n",
              "      <td>1383</td>\n",
              "      <td>4435</td>\n",
              "      <td>NaN</td>\n",
              "    </tr>\n",
              "    <tr>\n",
              "      <th>219</th>\n",
              "      <td>Ex Machina</td>\n",
              "      <td>2015</td>\n",
              "      <td>7.7</td>\n",
              "      <td>3</td>\n",
              "      <td>25400000</td>\n",
              "      <td>1.500000e+07</td>\n",
              "      <td>1255.0</td>\n",
              "      <td>1</td>\n",
              "      <td>3</td>\n",
              "      <td>419470</td>\n",
              "      <td>2218</td>\n",
              "      <td>46</td>\n",
              "      <td>239</td>\n",
              "      <td>NaN</td>\n",
              "    </tr>\n",
              "    <tr>\n",
              "      <th>220</th>\n",
              "      <td>The Man from U.N.C.L.E.</td>\n",
              "      <td>2015</td>\n",
              "      <td>7.6</td>\n",
              "      <td>6</td>\n",
              "      <td>34600000</td>\n",
              "      <td>7.500000e+07</td>\n",
              "      <td>3638.0</td>\n",
              "      <td>1</td>\n",
              "      <td>8</td>\n",
              "      <td>5216680</td>\n",
              "      <td>20010</td>\n",
              "      <td>500</td>\n",
              "      <td>2300</td>\n",
              "      <td>NaN</td>\n",
              "    </tr>\n",
              "    <tr>\n",
              "      <th>221</th>\n",
              "      <td>Cinderella</td>\n",
              "      <td>2015</td>\n",
              "      <td>7.1</td>\n",
              "      <td>8</td>\n",
              "      <td>201000000</td>\n",
              "      <td>9.500000e+07</td>\n",
              "      <td>3845.0</td>\n",
              "      <td>1</td>\n",
              "      <td>2</td>\n",
              "      <td>10164908</td>\n",
              "      <td>22726</td>\n",
              "      <td>4245</td>\n",
              "      <td>5262</td>\n",
              "      <td>NaN</td>\n",
              "    </tr>\n",
              "    <tr>\n",
              "      <th>222</th>\n",
              "      <td>Chappie</td>\n",
              "      <td>2015</td>\n",
              "      <td>7.0</td>\n",
              "      <td>1</td>\n",
              "      <td>31600000</td>\n",
              "      <td>4.900000e+07</td>\n",
              "      <td>3201.0</td>\n",
              "      <td>1</td>\n",
              "      <td>8</td>\n",
              "      <td>7384182</td>\n",
              "      <td>23597</td>\n",
              "      <td>786</td>\n",
              "      <td>3481</td>\n",
              "      <td>NaN</td>\n",
              "    </tr>\n",
              "    <tr>\n",
              "      <th>223</th>\n",
              "      <td>Brotherly Love</td>\n",
              "      <td>2015</td>\n",
              "      <td>6.9</td>\n",
              "      <td>8</td>\n",
              "      <td>444000</td>\n",
              "      <td>1.900000e+06</td>\n",
              "      <td>200.0</td>\n",
              "      <td>1</td>\n",
              "      <td>0</td>\n",
              "      <td>890619</td>\n",
              "      <td>6352</td>\n",
              "      <td>293</td>\n",
              "      <td>700</td>\n",
              "      <td>NaN</td>\n",
              "    </tr>\n",
              "    <tr>\n",
              "      <th>224</th>\n",
              "      <td>Run All Night</td>\n",
              "      <td>2015</td>\n",
              "      <td>6.6</td>\n",
              "      <td>8</td>\n",
              "      <td>26400000</td>\n",
              "      <td>5.000000e+07</td>\n",
              "      <td>3171.0</td>\n",
              "      <td>1</td>\n",
              "      <td>3</td>\n",
              "      <td>5671767</td>\n",
              "      <td>10073</td>\n",
              "      <td>480</td>\n",
              "      <td>1712</td>\n",
              "      <td>NaN</td>\n",
              "    </tr>\n",
              "    <tr>\n",
              "      <th>225</th>\n",
              "      <td>The Second Best Exotic Marigold Hotel</td>\n",
              "      <td>2015</td>\n",
              "      <td>6.6</td>\n",
              "      <td>1</td>\n",
              "      <td>33100000</td>\n",
              "      <td>1.000000e+07</td>\n",
              "      <td>1573.0</td>\n",
              "      <td>2</td>\n",
              "      <td>26</td>\n",
              "      <td>831044</td>\n",
              "      <td>2427</td>\n",
              "      <td>99</td>\n",
              "      <td>247</td>\n",
              "      <td>NaN</td>\n",
              "    </tr>\n",
              "    <tr>\n",
              "      <th>226</th>\n",
              "      <td>Child 44</td>\n",
              "      <td>2015</td>\n",
              "      <td>6.4</td>\n",
              "      <td>4</td>\n",
              "      <td>1210000</td>\n",
              "      <td>5.000000e+07</td>\n",
              "      <td>66.0</td>\n",
              "      <td>1</td>\n",
              "      <td>4</td>\n",
              "      <td>3701061</td>\n",
              "      <td>9325</td>\n",
              "      <td>641</td>\n",
              "      <td>1859</td>\n",
              "      <td>NaN</td>\n",
              "    </tr>\n",
              "    <tr>\n",
              "      <th>227</th>\n",
              "      <td>Aloha</td>\n",
              "      <td>2015</td>\n",
              "      <td>5.5</td>\n",
              "      <td>15</td>\n",
              "      <td>21000000</td>\n",
              "      <td>3.700000e+07</td>\n",
              "      <td>2815.0</td>\n",
              "      <td>1</td>\n",
              "      <td>13</td>\n",
              "      <td>7119456</td>\n",
              "      <td>18803</td>\n",
              "      <td>1128</td>\n",
              "      <td>2290</td>\n",
              "      <td>NaN</td>\n",
              "    </tr>\n",
              "    <tr>\n",
              "      <th>228</th>\n",
              "      <td>Unfinished Business</td>\n",
              "      <td>2015</td>\n",
              "      <td>5.4</td>\n",
              "      <td>8</td>\n",
              "      <td>10200000</td>\n",
              "      <td>3.500000e+07</td>\n",
              "      <td>2777.0</td>\n",
              "      <td>1</td>\n",
              "      <td>7</td>\n",
              "      <td>3450614</td>\n",
              "      <td>6823</td>\n",
              "      <td>325</td>\n",
              "      <td>409</td>\n",
              "      <td>NaN</td>\n",
              "    </tr>\n",
              "    <tr>\n",
              "      <th>229</th>\n",
              "      <td>War Room</td>\n",
              "      <td>2015</td>\n",
              "      <td>5.4</td>\n",
              "      <td>1</td>\n",
              "      <td>12300000</td>\n",
              "      <td>3.000000e+06</td>\n",
              "      <td>NaN</td>\n",
              "      <td>1</td>\n",
              "      <td>10</td>\n",
              "      <td>66872</td>\n",
              "      <td>400</td>\n",
              "      <td>67</td>\n",
              "      <td>201</td>\n",
              "      <td>NaN</td>\n",
              "    </tr>\n",
              "    <tr>\n",
              "      <th>230</th>\n",
              "      <td>The Gallows</td>\n",
              "      <td>2015</td>\n",
              "      <td>4.4</td>\n",
              "      <td>15</td>\n",
              "      <td>22600000</td>\n",
              "      <td>1.000000e+05</td>\n",
              "      <td>2720.0</td>\n",
              "      <td>1</td>\n",
              "      <td>-5</td>\n",
              "      <td>659772</td>\n",
              "      <td>2841</td>\n",
              "      <td>431</td>\n",
              "      <td>606</td>\n",
              "      <td>NaN</td>\n",
              "    </tr>\n",
              "  </tbody>\n",
              "</table>\n",
              "</div>"
            ],
            "text/plain": [
              "                                        Movie  ...  Aggregate Followers\n",
              "5                              A Long Way Off  ...             310000.0\n",
              "24                                 Camp X-Ray  ...               2182.0\n",
              "25                                 Cantinflas  ...                  NaN\n",
              "32                             Dracula Untold  ...             395500.0\n",
              "38                              Falcon Rising  ...            1060000.0\n",
              "43                               God's Pocket  ...                  NaN\n",
              "48                         Heaven Is for Real  ...                  NaN\n",
              "54                              Inherent Vice  ...                  NaN\n",
              "58                                 It Follows  ...                  NaN\n",
              "61                                  John Wick  ...                  NaN\n",
              "64                             Kung Fu Jungle  ...                  NaN\n",
              "67                            Life After Beth  ...            1463000.0\n",
              "69                                       Lucy  ...                  NaN\n",
              "76                                My Old Lady  ...                  NaN\n",
              "80                               Nightcrawler  ...                  NaN\n",
              "84                                   Not Cool  ...            2720000.0\n",
              "94                                  Rosewater  ...                  NaN\n",
              "95                                 Rudderless  ...             217000.0\n",
              "98                                     Serena  ...                  NaN\n",
              "109                               The Admiral  ...                  NaN\n",
              "111                              The Babadook  ...                  NaN\n",
              "115                          The Devil's Hand  ...                  NaN\n",
              "116                                  The Drop  ...                  NaN\n",
              "120  The Fluffy Movie: Unity Through Laughter  ...             818000.0\n",
              "128                             The Identical  ...             275873.0\n",
              "129                        The Imitation Game  ...                  NaN\n",
              "138                               The Nut Job  ...                  NaN\n",
              "144                             The Salvation  ...                  NaN\n",
              "156                                 White God  ...                  NaN\n",
              "158                                Wild Tales  ...                  NaN\n",
              "217                                   Ant-Man  ...                  NaN\n",
              "218                                  Southpaw  ...                  NaN\n",
              "219                                Ex Machina  ...                  NaN\n",
              "220                   The Man from U.N.C.L.E.  ...                  NaN\n",
              "221                                Cinderella  ...                  NaN\n",
              "222                                   Chappie  ...                  NaN\n",
              "223                            Brotherly Love  ...                  NaN\n",
              "224                             Run All Night  ...                  NaN\n",
              "225     The Second Best Exotic Marigold Hotel  ...                  NaN\n",
              "226                                  Child 44  ...                  NaN\n",
              "227                                     Aloha  ...                  NaN\n",
              "228                       Unfinished Business  ...                  NaN\n",
              "229                                  War Room  ...                  NaN\n",
              "230                               The Gallows  ...                  NaN\n",
              "\n",
              "[44 rows x 14 columns]"
            ]
          },
          "metadata": {},
          "execution_count": 12
        }
      ]
    },
    {
      "cell_type": "code",
      "metadata": {
        "colab": {
          "base_uri": "https://localhost:8080/"
        },
        "id": "O_iEJD2z3n3e",
        "outputId": "809ab8d1-b9f8-4eb6-e285-90e9672764fb"
      },
      "source": [
        "null_sub1.shape"
      ],
      "execution_count": null,
      "outputs": [
        {
          "output_type": "execute_result",
          "data": {
            "text/plain": [
              "(44, 14)"
            ]
          },
          "metadata": {},
          "execution_count": 13
        }
      ]
    },
    {
      "cell_type": "markdown",
      "metadata": {
        "id": "SDKXJHRp2_Pn"
      },
      "source": [
        "Vì tập dữ liệu chỉ có 231 dòng, trong đó chứa đến 44 dòng chứa dữ liệu thiếu nên không thể xóa bỏ các dòng này được. Phương án đề ra là tạo giá trị mean của theo các cột để lấp vào các giá trị thiếu này."
      ]
    },
    {
      "cell_type": "code",
      "metadata": {
        "id": "TOIIeffx4HSw"
      },
      "source": [
        "from sklearn.impute import SimpleImputer"
      ],
      "execution_count": null,
      "outputs": []
    },
    {
      "cell_type": "code",
      "metadata": {
        "id": "OjJtbL7v4W84"
      },
      "source": [
        "impute = SimpleImputer(missing_values= np.nan, strategy=\"mean\")\n",
        "\n",
        "impute.fit(sub1[['Budget', 'Screens', 'Aggregate Followers']])\n",
        "sub1[['Budget', 'Screens', 'Aggregate Followers']] = impute.transform(sub1[['Budget', 'Screens', 'Aggregate Followers']])"
      ],
      "execution_count": null,
      "outputs": []
    },
    {
      "cell_type": "code",
      "metadata": {
        "colab": {
          "base_uri": "https://localhost:8080/"
        },
        "id": "jCO337T02-Wq",
        "outputId": "bfe14cb3-cb57-401c-fa12-6a52d8f9267f"
      },
      "source": [
        "sub1.info()"
      ],
      "execution_count": null,
      "outputs": [
        {
          "output_type": "stream",
          "name": "stdout",
          "text": [
            "<class 'pandas.core.frame.DataFrame'>\n",
            "RangeIndex: 231 entries, 0 to 230\n",
            "Data columns (total 14 columns):\n",
            " #   Column               Non-Null Count  Dtype  \n",
            "---  ------               --------------  -----  \n",
            " 0   Movie                231 non-null    object \n",
            " 1   Year                 231 non-null    int64  \n",
            " 2   Ratings              231 non-null    float64\n",
            " 3   Genre                231 non-null    int64  \n",
            " 4   Gross                231 non-null    int64  \n",
            " 5   Budget               231 non-null    float64\n",
            " 6   Screens              231 non-null    float64\n",
            " 7   Sequel               231 non-null    int64  \n",
            " 8   Sentiment            231 non-null    int64  \n",
            " 9   Views                231 non-null    int64  \n",
            " 10  Likes                231 non-null    int64  \n",
            " 11  Dislikes             231 non-null    int64  \n",
            " 12  Comments             231 non-null    int64  \n",
            " 13  Aggregate Followers  231 non-null    float64\n",
            "dtypes: float64(4), int64(9), object(1)\n",
            "memory usage: 25.4+ KB\n"
          ]
        }
      ]
    },
    {
      "cell_type": "markdown",
      "metadata": {
        "id": "M9rJv244pEEj"
      },
      "source": [
        "**Mã hóa lại dữ liệu**"
      ]
    },
    {
      "cell_type": "markdown",
      "metadata": {
        "id": "kmWULhhOwD6o"
      },
      "source": [
        ">* Chuyển đổi dữ liệu của biến Sentiment(Mức độ tình cảm tích cực hoặc tiêu cực) thành biến định tính: Với giá trị 0 là tiêu cực(Sentiment <= 0), giá trị 1 là tích cực(Sentiment > 0)\n",
        "\n"
      ]
    },
    {
      "cell_type": "code",
      "metadata": {
        "id": "ETvCP5JupDcL"
      },
      "source": [
        "for row in range(len(sub1)):\n",
        "  if sub1.loc[row, 'Sentiment'] > 0:\n",
        "    sub1.loc[row,'Sentiment'] = 1\n",
        "  else:\n",
        "    sub1.loc[row, 'Sentiment'] = 0"
      ],
      "execution_count": null,
      "outputs": []
    },
    {
      "cell_type": "code",
      "metadata": {
        "colab": {
          "base_uri": "https://localhost:8080/",
          "height": 488
        },
        "id": "hjssEOSovMhK",
        "outputId": "b896db70-f22a-417b-e61d-dcc9bf038cf1"
      },
      "source": [
        "#Sau khi mã hóa lại dữ liệu Sentiment\n",
        "sub1.head(10)"
      ],
      "execution_count": null,
      "outputs": [
        {
          "output_type": "execute_result",
          "data": {
            "text/html": [
              "<div>\n",
              "<style scoped>\n",
              "    .dataframe tbody tr th:only-of-type {\n",
              "        vertical-align: middle;\n",
              "    }\n",
              "\n",
              "    .dataframe tbody tr th {\n",
              "        vertical-align: top;\n",
              "    }\n",
              "\n",
              "    .dataframe thead th {\n",
              "        text-align: right;\n",
              "    }\n",
              "</style>\n",
              "<table border=\"1\" class=\"dataframe\">\n",
              "  <thead>\n",
              "    <tr style=\"text-align: right;\">\n",
              "      <th></th>\n",
              "      <th>Movie</th>\n",
              "      <th>Year</th>\n",
              "      <th>Ratings</th>\n",
              "      <th>Genre</th>\n",
              "      <th>Gross</th>\n",
              "      <th>Budget</th>\n",
              "      <th>Screens</th>\n",
              "      <th>Sequel</th>\n",
              "      <th>Sentiment</th>\n",
              "      <th>Views</th>\n",
              "      <th>Likes</th>\n",
              "      <th>Dislikes</th>\n",
              "      <th>Comments</th>\n",
              "      <th>Aggregate Followers</th>\n",
              "    </tr>\n",
              "  </thead>\n",
              "  <tbody>\n",
              "    <tr>\n",
              "      <th>0</th>\n",
              "      <td>13 Sins</td>\n",
              "      <td>2014</td>\n",
              "      <td>6.3</td>\n",
              "      <td>8</td>\n",
              "      <td>9130</td>\n",
              "      <td>4000000.0</td>\n",
              "      <td>45.000000</td>\n",
              "      <td>1</td>\n",
              "      <td>0</td>\n",
              "      <td>3280543</td>\n",
              "      <td>4632</td>\n",
              "      <td>425</td>\n",
              "      <td>636</td>\n",
              "      <td>1120000.0</td>\n",
              "    </tr>\n",
              "    <tr>\n",
              "      <th>1</th>\n",
              "      <td>22 Jump Street</td>\n",
              "      <td>2014</td>\n",
              "      <td>7.1</td>\n",
              "      <td>1</td>\n",
              "      <td>192000000</td>\n",
              "      <td>50000000.0</td>\n",
              "      <td>3306.000000</td>\n",
              "      <td>2</td>\n",
              "      <td>1</td>\n",
              "      <td>583289</td>\n",
              "      <td>3465</td>\n",
              "      <td>61</td>\n",
              "      <td>186</td>\n",
              "      <td>12350000.0</td>\n",
              "    </tr>\n",
              "    <tr>\n",
              "      <th>2</th>\n",
              "      <td>3 Days to Kill</td>\n",
              "      <td>2014</td>\n",
              "      <td>6.2</td>\n",
              "      <td>1</td>\n",
              "      <td>30700000</td>\n",
              "      <td>28000000.0</td>\n",
              "      <td>2872.000000</td>\n",
              "      <td>1</td>\n",
              "      <td>0</td>\n",
              "      <td>304861</td>\n",
              "      <td>328</td>\n",
              "      <td>34</td>\n",
              "      <td>47</td>\n",
              "      <td>483000.0</td>\n",
              "    </tr>\n",
              "    <tr>\n",
              "      <th>3</th>\n",
              "      <td>300: Rise of an Empire</td>\n",
              "      <td>2014</td>\n",
              "      <td>6.3</td>\n",
              "      <td>1</td>\n",
              "      <td>106000000</td>\n",
              "      <td>110000000.0</td>\n",
              "      <td>3470.000000</td>\n",
              "      <td>2</td>\n",
              "      <td>0</td>\n",
              "      <td>452917</td>\n",
              "      <td>2429</td>\n",
              "      <td>132</td>\n",
              "      <td>590</td>\n",
              "      <td>568000.0</td>\n",
              "    </tr>\n",
              "    <tr>\n",
              "      <th>4</th>\n",
              "      <td>A Haunted House 2</td>\n",
              "      <td>2014</td>\n",
              "      <td>4.7</td>\n",
              "      <td>8</td>\n",
              "      <td>17300000</td>\n",
              "      <td>3500000.0</td>\n",
              "      <td>2310.000000</td>\n",
              "      <td>2</td>\n",
              "      <td>0</td>\n",
              "      <td>3145573</td>\n",
              "      <td>12163</td>\n",
              "      <td>610</td>\n",
              "      <td>1082</td>\n",
              "      <td>1923800.0</td>\n",
              "    </tr>\n",
              "    <tr>\n",
              "      <th>5</th>\n",
              "      <td>A Long Way Off</td>\n",
              "      <td>2014</td>\n",
              "      <td>4.6</td>\n",
              "      <td>3</td>\n",
              "      <td>29000</td>\n",
              "      <td>500000.0</td>\n",
              "      <td>2209.244344</td>\n",
              "      <td>1</td>\n",
              "      <td>0</td>\n",
              "      <td>91137</td>\n",
              "      <td>112</td>\n",
              "      <td>7</td>\n",
              "      <td>1</td>\n",
              "      <td>310000.0</td>\n",
              "    </tr>\n",
              "    <tr>\n",
              "      <th>6</th>\n",
              "      <td>A Million Ways to Die in the West</td>\n",
              "      <td>2014</td>\n",
              "      <td>6.1</td>\n",
              "      <td>8</td>\n",
              "      <td>42600000</td>\n",
              "      <td>40000000.0</td>\n",
              "      <td>3158.000000</td>\n",
              "      <td>1</td>\n",
              "      <td>0</td>\n",
              "      <td>3013011</td>\n",
              "      <td>9595</td>\n",
              "      <td>419</td>\n",
              "      <td>1020</td>\n",
              "      <td>8153000.0</td>\n",
              "    </tr>\n",
              "    <tr>\n",
              "      <th>7</th>\n",
              "      <td>A Most Violent Year</td>\n",
              "      <td>2014</td>\n",
              "      <td>7.1</td>\n",
              "      <td>1</td>\n",
              "      <td>5750000</td>\n",
              "      <td>20000000.0</td>\n",
              "      <td>818.000000</td>\n",
              "      <td>1</td>\n",
              "      <td>1</td>\n",
              "      <td>1854103</td>\n",
              "      <td>2207</td>\n",
              "      <td>197</td>\n",
              "      <td>593</td>\n",
              "      <td>130655.0</td>\n",
              "    </tr>\n",
              "    <tr>\n",
              "      <th>8</th>\n",
              "      <td>A Walk Among the Tombstones</td>\n",
              "      <td>2014</td>\n",
              "      <td>6.5</td>\n",
              "      <td>10</td>\n",
              "      <td>26000000</td>\n",
              "      <td>28000000.0</td>\n",
              "      <td>2714.000000</td>\n",
              "      <td>1</td>\n",
              "      <td>1</td>\n",
              "      <td>2213659</td>\n",
              "      <td>2210</td>\n",
              "      <td>419</td>\n",
              "      <td>382</td>\n",
              "      <td>125646.0</td>\n",
              "    </tr>\n",
              "    <tr>\n",
              "      <th>9</th>\n",
              "      <td>About Last Night</td>\n",
              "      <td>2014</td>\n",
              "      <td>6.1</td>\n",
              "      <td>8</td>\n",
              "      <td>48600000</td>\n",
              "      <td>12500000.0</td>\n",
              "      <td>2253.000000</td>\n",
              "      <td>1</td>\n",
              "      <td>0</td>\n",
              "      <td>5218079</td>\n",
              "      <td>11709</td>\n",
              "      <td>532</td>\n",
              "      <td>770</td>\n",
              "      <td>21697300.0</td>\n",
              "    </tr>\n",
              "  </tbody>\n",
              "</table>\n",
              "</div>"
            ],
            "text/plain": [
              "                               Movie  Year  ...  Comments  Aggregate Followers\n",
              "0                            13 Sins  2014  ...       636            1120000.0\n",
              "1                     22 Jump Street  2014  ...       186           12350000.0\n",
              "2                     3 Days to Kill  2014  ...        47             483000.0\n",
              "3             300: Rise of an Empire  2014  ...       590             568000.0\n",
              "4                  A Haunted House 2  2014  ...      1082            1923800.0\n",
              "5                     A Long Way Off  2014  ...         1             310000.0\n",
              "6  A Million Ways to Die in the West  2014  ...      1020            8153000.0\n",
              "7                A Most Violent Year  2014  ...       593             130655.0\n",
              "8        A Walk Among the Tombstones  2014  ...       382             125646.0\n",
              "9                   About Last Night  2014  ...       770           21697300.0\n",
              "\n",
              "[10 rows x 14 columns]"
            ]
          },
          "metadata": {},
          "execution_count": 18
        }
      ]
    },
    {
      "cell_type": "markdown",
      "metadata": {
        "id": "maXM0-PKL9Wg"
      },
      "source": [
        "**Nhóm các giá trị và tạo biến phụ**"
      ]
    },
    {
      "cell_type": "markdown",
      "metadata": {
        "id": "kFUabKMHTf7-"
      },
      "source": [
        ">* Từ biến Rattings chúng ta phân loại thành 2 nhóm:<br/>\n",
        ">>1. Những bộ phim có ratings >=7\n",
        ">>0. Những bộ phim có ratings < 7\n",
        ">* Đồng thời tạo một biến phụ RateType để chứa thuộc tính phân loại này"
      ]
    },
    {
      "cell_type": "code",
      "metadata": {
        "id": "q1ZYPlmz6k6q"
      },
      "source": [
        "#Tạo một biến phụ\n",
        "sub1['RateType'] = 0"
      ],
      "execution_count": null,
      "outputs": []
    },
    {
      "cell_type": "code",
      "metadata": {
        "id": "wyi5-tYJ8opV"
      },
      "source": [
        "#Phân loại Ratings và lưu vào biến RateType\n",
        "for row in range(len(sub1)):\n",
        "  if sub1.loc[row, 'Ratings'] >= 7:\n",
        "    sub1.loc[row,'RateType'] = 1\n",
        "  else:\n",
        "    sub1.loc[row,'RateType'] = 0"
      ],
      "execution_count": null,
      "outputs": []
    },
    {
      "cell_type": "markdown",
      "metadata": {
        "id": "7ej1xo6sTEgU"
      },
      "source": [
        "\n",
        "*   Từ biến Year chúng ta phân loại thành 2 nhóm:\n",
        "1.   Những bộ phim có Year = 2014\n",
        "2.   Những bộ phim có Year = 2015\n",
        "*    Đồng thời tạo một biến phụ Class_ C để chứa thuộc tính phân loại này\n"
      ]
    },
    {
      "cell_type": "code",
      "metadata": {
        "id": "H9U3VZhgMzuI"
      },
      "source": [
        "#Tạo một biến phụ\n",
        "sub1['Year_C'] = 0"
      ],
      "execution_count": null,
      "outputs": []
    },
    {
      "cell_type": "code",
      "metadata": {
        "id": "t0Wp2pRTNSd2"
      },
      "source": [
        "#Phân loại Year và lưu vào biến Year_C\n",
        "for row in range(len(sub1)):\n",
        "  if sub1.loc[row, 'Year'] == 2014:\n",
        "    sub1.loc[row,'Year_C'] = 0\n",
        "  else:\n",
        "    sub1.loc[row,'Year_C'] = 1"
      ],
      "execution_count": null,
      "outputs": []
    },
    {
      "cell_type": "code",
      "metadata": {
        "colab": {
          "base_uri": "https://localhost:8080/",
          "height": 575
        },
        "id": "HznOFfAd8-J2",
        "outputId": "0e617210-1c7d-4f58-c7b0-5ff45679acbf"
      },
      "source": [
        "sub1.head(10)"
      ],
      "execution_count": null,
      "outputs": [
        {
          "output_type": "execute_result",
          "data": {
            "text/html": [
              "<div>\n",
              "<style scoped>\n",
              "    .dataframe tbody tr th:only-of-type {\n",
              "        vertical-align: middle;\n",
              "    }\n",
              "\n",
              "    .dataframe tbody tr th {\n",
              "        vertical-align: top;\n",
              "    }\n",
              "\n",
              "    .dataframe thead th {\n",
              "        text-align: right;\n",
              "    }\n",
              "</style>\n",
              "<table border=\"1\" class=\"dataframe\">\n",
              "  <thead>\n",
              "    <tr style=\"text-align: right;\">\n",
              "      <th></th>\n",
              "      <th>Movie</th>\n",
              "      <th>Year</th>\n",
              "      <th>Ratings</th>\n",
              "      <th>Genre</th>\n",
              "      <th>Gross</th>\n",
              "      <th>Budget</th>\n",
              "      <th>Screens</th>\n",
              "      <th>Sequel</th>\n",
              "      <th>Sentiment</th>\n",
              "      <th>Views</th>\n",
              "      <th>Likes</th>\n",
              "      <th>Dislikes</th>\n",
              "      <th>Comments</th>\n",
              "      <th>Aggregate Followers</th>\n",
              "      <th>RateType</th>\n",
              "      <th>Year_C</th>\n",
              "    </tr>\n",
              "  </thead>\n",
              "  <tbody>\n",
              "    <tr>\n",
              "      <th>0</th>\n",
              "      <td>13 Sins</td>\n",
              "      <td>2014</td>\n",
              "      <td>6.3</td>\n",
              "      <td>8</td>\n",
              "      <td>9130</td>\n",
              "      <td>4000000.0</td>\n",
              "      <td>45.000000</td>\n",
              "      <td>1</td>\n",
              "      <td>0</td>\n",
              "      <td>3280543</td>\n",
              "      <td>4632</td>\n",
              "      <td>425</td>\n",
              "      <td>636</td>\n",
              "      <td>1120000.0</td>\n",
              "      <td>0</td>\n",
              "      <td>0</td>\n",
              "    </tr>\n",
              "    <tr>\n",
              "      <th>1</th>\n",
              "      <td>22 Jump Street</td>\n",
              "      <td>2014</td>\n",
              "      <td>7.1</td>\n",
              "      <td>1</td>\n",
              "      <td>192000000</td>\n",
              "      <td>50000000.0</td>\n",
              "      <td>3306.000000</td>\n",
              "      <td>2</td>\n",
              "      <td>1</td>\n",
              "      <td>583289</td>\n",
              "      <td>3465</td>\n",
              "      <td>61</td>\n",
              "      <td>186</td>\n",
              "      <td>12350000.0</td>\n",
              "      <td>1</td>\n",
              "      <td>0</td>\n",
              "    </tr>\n",
              "    <tr>\n",
              "      <th>2</th>\n",
              "      <td>3 Days to Kill</td>\n",
              "      <td>2014</td>\n",
              "      <td>6.2</td>\n",
              "      <td>1</td>\n",
              "      <td>30700000</td>\n",
              "      <td>28000000.0</td>\n",
              "      <td>2872.000000</td>\n",
              "      <td>1</td>\n",
              "      <td>0</td>\n",
              "      <td>304861</td>\n",
              "      <td>328</td>\n",
              "      <td>34</td>\n",
              "      <td>47</td>\n",
              "      <td>483000.0</td>\n",
              "      <td>0</td>\n",
              "      <td>0</td>\n",
              "    </tr>\n",
              "    <tr>\n",
              "      <th>3</th>\n",
              "      <td>300: Rise of an Empire</td>\n",
              "      <td>2014</td>\n",
              "      <td>6.3</td>\n",
              "      <td>1</td>\n",
              "      <td>106000000</td>\n",
              "      <td>110000000.0</td>\n",
              "      <td>3470.000000</td>\n",
              "      <td>2</td>\n",
              "      <td>0</td>\n",
              "      <td>452917</td>\n",
              "      <td>2429</td>\n",
              "      <td>132</td>\n",
              "      <td>590</td>\n",
              "      <td>568000.0</td>\n",
              "      <td>0</td>\n",
              "      <td>0</td>\n",
              "    </tr>\n",
              "    <tr>\n",
              "      <th>4</th>\n",
              "      <td>A Haunted House 2</td>\n",
              "      <td>2014</td>\n",
              "      <td>4.7</td>\n",
              "      <td>8</td>\n",
              "      <td>17300000</td>\n",
              "      <td>3500000.0</td>\n",
              "      <td>2310.000000</td>\n",
              "      <td>2</td>\n",
              "      <td>0</td>\n",
              "      <td>3145573</td>\n",
              "      <td>12163</td>\n",
              "      <td>610</td>\n",
              "      <td>1082</td>\n",
              "      <td>1923800.0</td>\n",
              "      <td>0</td>\n",
              "      <td>0</td>\n",
              "    </tr>\n",
              "    <tr>\n",
              "      <th>5</th>\n",
              "      <td>A Long Way Off</td>\n",
              "      <td>2014</td>\n",
              "      <td>4.6</td>\n",
              "      <td>3</td>\n",
              "      <td>29000</td>\n",
              "      <td>500000.0</td>\n",
              "      <td>2209.244344</td>\n",
              "      <td>1</td>\n",
              "      <td>0</td>\n",
              "      <td>91137</td>\n",
              "      <td>112</td>\n",
              "      <td>7</td>\n",
              "      <td>1</td>\n",
              "      <td>310000.0</td>\n",
              "      <td>0</td>\n",
              "      <td>0</td>\n",
              "    </tr>\n",
              "    <tr>\n",
              "      <th>6</th>\n",
              "      <td>A Million Ways to Die in the West</td>\n",
              "      <td>2014</td>\n",
              "      <td>6.1</td>\n",
              "      <td>8</td>\n",
              "      <td>42600000</td>\n",
              "      <td>40000000.0</td>\n",
              "      <td>3158.000000</td>\n",
              "      <td>1</td>\n",
              "      <td>0</td>\n",
              "      <td>3013011</td>\n",
              "      <td>9595</td>\n",
              "      <td>419</td>\n",
              "      <td>1020</td>\n",
              "      <td>8153000.0</td>\n",
              "      <td>0</td>\n",
              "      <td>0</td>\n",
              "    </tr>\n",
              "    <tr>\n",
              "      <th>7</th>\n",
              "      <td>A Most Violent Year</td>\n",
              "      <td>2014</td>\n",
              "      <td>7.1</td>\n",
              "      <td>1</td>\n",
              "      <td>5750000</td>\n",
              "      <td>20000000.0</td>\n",
              "      <td>818.000000</td>\n",
              "      <td>1</td>\n",
              "      <td>1</td>\n",
              "      <td>1854103</td>\n",
              "      <td>2207</td>\n",
              "      <td>197</td>\n",
              "      <td>593</td>\n",
              "      <td>130655.0</td>\n",
              "      <td>1</td>\n",
              "      <td>0</td>\n",
              "    </tr>\n",
              "    <tr>\n",
              "      <th>8</th>\n",
              "      <td>A Walk Among the Tombstones</td>\n",
              "      <td>2014</td>\n",
              "      <td>6.5</td>\n",
              "      <td>10</td>\n",
              "      <td>26000000</td>\n",
              "      <td>28000000.0</td>\n",
              "      <td>2714.000000</td>\n",
              "      <td>1</td>\n",
              "      <td>1</td>\n",
              "      <td>2213659</td>\n",
              "      <td>2210</td>\n",
              "      <td>419</td>\n",
              "      <td>382</td>\n",
              "      <td>125646.0</td>\n",
              "      <td>0</td>\n",
              "      <td>0</td>\n",
              "    </tr>\n",
              "    <tr>\n",
              "      <th>9</th>\n",
              "      <td>About Last Night</td>\n",
              "      <td>2014</td>\n",
              "      <td>6.1</td>\n",
              "      <td>8</td>\n",
              "      <td>48600000</td>\n",
              "      <td>12500000.0</td>\n",
              "      <td>2253.000000</td>\n",
              "      <td>1</td>\n",
              "      <td>0</td>\n",
              "      <td>5218079</td>\n",
              "      <td>11709</td>\n",
              "      <td>532</td>\n",
              "      <td>770</td>\n",
              "      <td>21697300.0</td>\n",
              "      <td>0</td>\n",
              "      <td>0</td>\n",
              "    </tr>\n",
              "  </tbody>\n",
              "</table>\n",
              "</div>"
            ],
            "text/plain": [
              "                               Movie  Year  ...  RateType  Year_C\n",
              "0                            13 Sins  2014  ...         0       0\n",
              "1                     22 Jump Street  2014  ...         1       0\n",
              "2                     3 Days to Kill  2014  ...         0       0\n",
              "3             300: Rise of an Empire  2014  ...         0       0\n",
              "4                  A Haunted House 2  2014  ...         0       0\n",
              "5                     A Long Way Off  2014  ...         0       0\n",
              "6  A Million Ways to Die in the West  2014  ...         0       0\n",
              "7                A Most Violent Year  2014  ...         1       0\n",
              "8        A Walk Among the Tombstones  2014  ...         0       0\n",
              "9                   About Last Night  2014  ...         0       0\n",
              "\n",
              "[10 rows x 16 columns]"
            ]
          },
          "metadata": {},
          "execution_count": 23
        }
      ]
    },
    {
      "cell_type": "markdown",
      "metadata": {
        "id": "0xJ7xj-mnpqT"
      },
      "source": [
        "###CHƯƠNG 3: Kiểm định giả thuyết\n"
      ]
    },
    {
      "cell_type": "code",
      "metadata": {
        "id": "rf5uzvBZHNV_"
      },
      "source": [
        "# CHƯƠNG 3: Kiểm định giả thuyết\n",
        "# Phân tích phương sai ANOVA\n",
        "# Phân tích Chi - square\n",
        "# Tương quan Pearson"
      ],
      "execution_count": null,
      "outputs": []
    },
    {
      "cell_type": "code",
      "metadata": {
        "colab": {
          "base_uri": "https://localhost:8080/",
          "height": 314
        },
        "id": "wEvbNwRLIc-E",
        "outputId": "65cb3b2a-bcd1-416c-bc29-6c948b95b943"
      },
      "source": [
        "# Tương quan Pearson\n",
        "scat1 = sb.regplot(x=\"Ratings\", y=\"Gross\", data=data)\n",
        "plt.xlabel('Bình chọn ')\n",
        "plt.ylabel('Doanh thu')\n",
        "plt.title('Scatterplot cho mối liên hệ giữa bình chọn và doanh thu')"
      ],
      "execution_count": null,
      "outputs": [
        {
          "output_type": "execute_result",
          "data": {
            "text/plain": [
              "Text(0.5, 1.0, 'Scatterplot cho mối liên hệ giữa bình chọn và doanh thu')"
            ]
          },
          "metadata": {},
          "execution_count": 24
        },
        {
          "output_type": "display_data",
          "data": {
            "image/png": "[encoded data removed]",
            "text/plain": [
              "<Figure size 432x288 with 1 Axes>"
            ]
          },
          "metadata": {
            "needs_background": "light"
          }
        }
      ]
    },
    {
      "cell_type": "code",
      "metadata": {
        "colab": {
          "base_uri": "https://localhost:8080/"
        },
        "id": "dy25FJNbKnYG",
        "outputId": "c5098430-320a-428d-964f-4589914c3fd3"
      },
      "source": [
        "print(\"mối liên hệ\")\n",
        "print(st.pearsonr(sub1['Ratings'], sub1['Gross']))"
      ],
      "execution_count": null,
      "outputs": [
        {
          "output_type": "stream",
          "name": "stdout",
          "text": [
            "mối liên hệ\n",
            "(0.3422040512817663, 9.566423476558037e-08)\n"
          ]
        }
      ]
    },
    {
      "cell_type": "code",
      "metadata": {
        "colab": {
          "base_uri": "https://localhost:8080/"
        },
        "id": "b9XwAS_EPfKr",
        "outputId": "75b2bff7-6420-4407-dc42-9c88f8092303"
      },
      "source": [
        "# Phân tích Chi - square\n",
        "ct1 = pd.crosstab(sub1['Genre'], sub1['Ratings'])\n",
        "print (ct1)"
      ],
      "execution_count": null,
      "outputs": [
        {
          "output_type": "stream",
          "name": "stdout",
          "text": [
            "Ratings  3.1  4.0  4.2  4.3  4.4  4.5  4.6  ...  7.9  8.0  8.1  8.2  8.3  8.6  8.7\n",
            "Genre                                       ...                                   \n",
            "1          1    1    1    1    0    0    0  ...    1    0    2    0    1    0    0\n",
            "2          0    0    0    0    0    0    0  ...    0    0    0    0    0    0    1\n",
            "3          0    0    1    0    1    0    1  ...    1    1    0    1    0    1    0\n",
            "4          0    0    0    0    0    0    0  ...    0    0    0    0    0    0    0\n",
            "6          0    0    0    0    0    0    1  ...    0    0    0    0    0    0    0\n",
            "7          0    0    0    0    0    0    0  ...    0    0    0    0    0    0    0\n",
            "8          0    0    0    0    0    0    0  ...    0    0    0    2    0    0    0\n",
            "9          0    0    0    0    0    0    0  ...    0    0    1    0    1    0    0\n",
            "10         0    0    0    0    0    0    0  ...    1    0    0    0    0    0    0\n",
            "12         0    0    0    0    0    0    0  ...    2    0    0    0    0    1    0\n",
            "15         0    1    0    0    2    1    0  ...    0    0    0    0    0    0    0\n",
            "\n",
            "[11 rows x 45 columns]\n"
          ]
        }
      ]
    },
    {
      "cell_type": "code",
      "metadata": {
        "colab": {
          "base_uri": "https://localhost:8080/"
        },
        "id": "I83MQbAeRSiJ",
        "outputId": "d2756743-65e5-4256-dac0-636385a32a4a"
      },
      "source": [
        "colsum = ct1.sum(axis = 0)\n",
        "colpct = ct1/colsum\n",
        "print (colpct)"
      ],
      "execution_count": null,
      "outputs": [
        {
          "output_type": "stream",
          "name": "stdout",
          "text": [
            "Ratings  3.1  4.0  4.2  4.3       4.4  ...       8.1       8.2  8.3  8.6  8.7\n",
            "Genre                                  ...                                   \n",
            "1        1.0  0.5  0.5  1.0  0.000000  ...  0.666667  0.000000  0.5  0.0  0.0\n",
            "2        0.0  0.0  0.0  0.0  0.000000  ...  0.000000  0.000000  0.0  0.0  1.0\n",
            "3        0.0  0.0  0.5  0.0  0.333333  ...  0.000000  0.333333  0.0  0.5  0.0\n",
            "4        0.0  0.0  0.0  0.0  0.000000  ...  0.000000  0.000000  0.0  0.0  0.0\n",
            "6        0.0  0.0  0.0  0.0  0.000000  ...  0.000000  0.000000  0.0  0.0  0.0\n",
            "7        0.0  0.0  0.0  0.0  0.000000  ...  0.000000  0.000000  0.0  0.0  0.0\n",
            "8        0.0  0.0  0.0  0.0  0.000000  ...  0.000000  0.666667  0.0  0.0  0.0\n",
            "9        0.0  0.0  0.0  0.0  0.000000  ...  0.333333  0.000000  0.5  0.0  0.0\n",
            "10       0.0  0.0  0.0  0.0  0.000000  ...  0.000000  0.000000  0.0  0.0  0.0\n",
            "12       0.0  0.0  0.0  0.0  0.000000  ...  0.000000  0.000000  0.0  0.5  0.0\n",
            "15       0.0  0.5  0.0  0.0  0.666667  ...  0.000000  0.000000  0.0  0.0  0.0\n",
            "\n",
            "[11 rows x 45 columns]\n"
          ]
        }
      ]
    },
    {
      "cell_type": "code",
      "metadata": {
        "colab": {
          "base_uri": "https://localhost:8080/"
        },
        "id": "HXejB8jQRu2D",
        "outputId": "bd0fb37f-9cd4-4236-e0e1-20ab0a020082"
      },
      "source": [
        "print (\"chi - square, giá trị p, các số đếm mong đợi\")\n",
        "cs1 = st.chi2_contingency(ct1)\n",
        "print (cs1)"
      ],
      "execution_count": null,
      "outputs": [
        {
          "output_type": "stream",
          "name": "stdout",
          "text": [
            "chi - square, giá trị p, các số đếm mong đợi\n",
            "(573.0722334221066, 1.8803955657457512e-05, 440, array([[0.28138528, 0.56277056, 0.56277056, 0.28138528, 0.84415584,\n",
            "        0.28138528, 0.56277056, 0.56277056, 0.84415584, 0.28138528,\n",
            "        1.40692641, 0.56277056, 0.84415584, 1.96969697, 1.68831169,\n",
            "        1.40692641, 1.68831169, 2.25108225, 1.12554113, 0.56277056,\n",
            "        3.93939394, 1.96969697, 3.93939394, 2.81385281, 2.81385281,\n",
            "        3.93939394, 2.25108225, 3.0952381 , 2.25108225, 1.96969697,\n",
            "        2.53246753, 1.96969697, 2.25108225, 0.84415584, 1.40692641,\n",
            "        0.84415584, 0.84415584, 1.96969697, 1.40692641, 0.28138528,\n",
            "        0.84415584, 0.84415584, 0.56277056, 0.56277056, 0.28138528],\n",
            "       [0.05194805, 0.1038961 , 0.1038961 , 0.05194805, 0.15584416,\n",
            "        0.05194805, 0.1038961 , 0.1038961 , 0.15584416, 0.05194805,\n",
            "        0.25974026, 0.1038961 , 0.15584416, 0.36363636, 0.31168831,\n",
            "        0.25974026, 0.31168831, 0.41558442, 0.20779221, 0.1038961 ,\n",
            "        0.72727273, 0.36363636, 0.72727273, 0.51948052, 0.51948052,\n",
            "        0.72727273, 0.41558442, 0.57142857, 0.41558442, 0.36363636,\n",
            "        0.46753247, 0.36363636, 0.41558442, 0.15584416, 0.25974026,\n",
            "        0.15584416, 0.15584416, 0.36363636, 0.25974026, 0.05194805,\n",
            "        0.15584416, 0.15584416, 0.1038961 , 0.1038961 , 0.05194805],\n",
            "       [0.1991342 , 0.3982684 , 0.3982684 , 0.1991342 , 0.5974026 ,\n",
            "        0.1991342 , 0.3982684 , 0.3982684 , 0.5974026 , 0.1991342 ,\n",
            "        0.995671  , 0.3982684 , 0.5974026 , 1.39393939, 1.19480519,\n",
            "        0.995671  , 1.19480519, 1.59307359, 0.7965368 , 0.3982684 ,\n",
            "        2.78787879, 1.39393939, 2.78787879, 1.99134199, 1.99134199,\n",
            "        2.78787879, 1.59307359, 2.19047619, 1.59307359, 1.39393939,\n",
            "        1.79220779, 1.39393939, 1.59307359, 0.5974026 , 0.995671  ,\n",
            "        0.5974026 , 0.5974026 , 1.39393939, 0.995671  , 0.1991342 ,\n",
            "        0.5974026 , 0.5974026 , 0.3982684 , 0.3982684 , 0.1991342 ],\n",
            "       [0.004329  , 0.00865801, 0.00865801, 0.004329  , 0.01298701,\n",
            "        0.004329  , 0.00865801, 0.00865801, 0.01298701, 0.004329  ,\n",
            "        0.02164502, 0.00865801, 0.01298701, 0.03030303, 0.02597403,\n",
            "        0.02164502, 0.02597403, 0.03463203, 0.01731602, 0.00865801,\n",
            "        0.06060606, 0.03030303, 0.06060606, 0.04329004, 0.04329004,\n",
            "        0.06060606, 0.03463203, 0.04761905, 0.03463203, 0.03030303,\n",
            "        0.03896104, 0.03030303, 0.03463203, 0.01298701, 0.02164502,\n",
            "        0.01298701, 0.01298701, 0.03030303, 0.02164502, 0.004329  ,\n",
            "        0.01298701, 0.01298701, 0.00865801, 0.00865801, 0.004329  ],\n",
            "       [0.01298701, 0.02597403, 0.02597403, 0.01298701, 0.03896104,\n",
            "        0.01298701, 0.02597403, 0.02597403, 0.03896104, 0.01298701,\n",
            "        0.06493506, 0.02597403, 0.03896104, 0.09090909, 0.07792208,\n",
            "        0.06493506, 0.07792208, 0.1038961 , 0.05194805, 0.02597403,\n",
            "        0.18181818, 0.09090909, 0.18181818, 0.12987013, 0.12987013,\n",
            "        0.18181818, 0.1038961 , 0.14285714, 0.1038961 , 0.09090909,\n",
            "        0.11688312, 0.09090909, 0.1038961 , 0.03896104, 0.06493506,\n",
            "        0.03896104, 0.03896104, 0.09090909, 0.06493506, 0.01298701,\n",
            "        0.03896104, 0.03896104, 0.02597403, 0.02597403, 0.01298701],\n",
            "       [0.00865801, 0.01731602, 0.01731602, 0.00865801, 0.02597403,\n",
            "        0.00865801, 0.01731602, 0.01731602, 0.02597403, 0.00865801,\n",
            "        0.04329004, 0.01731602, 0.02597403, 0.06060606, 0.05194805,\n",
            "        0.04329004, 0.05194805, 0.06926407, 0.03463203, 0.01731602,\n",
            "        0.12121212, 0.06060606, 0.12121212, 0.08658009, 0.08658009,\n",
            "        0.12121212, 0.06926407, 0.0952381 , 0.06926407, 0.06060606,\n",
            "        0.07792208, 0.06060606, 0.06926407, 0.02597403, 0.04329004,\n",
            "        0.02597403, 0.02597403, 0.06060606, 0.04329004, 0.00865801,\n",
            "        0.02597403, 0.02597403, 0.01731602, 0.01731602, 0.00865801],\n",
            "       [0.23376623, 0.46753247, 0.46753247, 0.23376623, 0.7012987 ,\n",
            "        0.23376623, 0.46753247, 0.46753247, 0.7012987 , 0.23376623,\n",
            "        1.16883117, 0.46753247, 0.7012987 , 1.63636364, 1.4025974 ,\n",
            "        1.16883117, 1.4025974 , 1.87012987, 0.93506494, 0.46753247,\n",
            "        3.27272727, 1.63636364, 3.27272727, 2.33766234, 2.33766234,\n",
            "        3.27272727, 1.87012987, 2.57142857, 1.87012987, 1.63636364,\n",
            "        2.1038961 , 1.63636364, 1.87012987, 0.7012987 , 1.16883117,\n",
            "        0.7012987 , 0.7012987 , 1.63636364, 1.16883117, 0.23376623,\n",
            "        0.7012987 , 0.7012987 , 0.46753247, 0.46753247, 0.23376623],\n",
            "       [0.05627706, 0.11255411, 0.11255411, 0.05627706, 0.16883117,\n",
            "        0.05627706, 0.11255411, 0.11255411, 0.16883117, 0.05627706,\n",
            "        0.28138528, 0.11255411, 0.16883117, 0.39393939, 0.33766234,\n",
            "        0.28138528, 0.33766234, 0.45021645, 0.22510823, 0.11255411,\n",
            "        0.78787879, 0.39393939, 0.78787879, 0.56277056, 0.56277056,\n",
            "        0.78787879, 0.45021645, 0.61904762, 0.45021645, 0.39393939,\n",
            "        0.50649351, 0.39393939, 0.45021645, 0.16883117, 0.28138528,\n",
            "        0.16883117, 0.16883117, 0.39393939, 0.28138528, 0.05627706,\n",
            "        0.16883117, 0.16883117, 0.11255411, 0.11255411, 0.05627706],\n",
            "       [0.05194805, 0.1038961 , 0.1038961 , 0.05194805, 0.15584416,\n",
            "        0.05194805, 0.1038961 , 0.1038961 , 0.15584416, 0.05194805,\n",
            "        0.25974026, 0.1038961 , 0.15584416, 0.36363636, 0.31168831,\n",
            "        0.25974026, 0.31168831, 0.41558442, 0.20779221, 0.1038961 ,\n",
            "        0.72727273, 0.36363636, 0.72727273, 0.51948052, 0.51948052,\n",
            "        0.72727273, 0.41558442, 0.57142857, 0.41558442, 0.36363636,\n",
            "        0.46753247, 0.36363636, 0.41558442, 0.15584416, 0.25974026,\n",
            "        0.15584416, 0.15584416, 0.36363636, 0.25974026, 0.05194805,\n",
            "        0.15584416, 0.15584416, 0.1038961 , 0.1038961 , 0.05194805],\n",
            "       [0.05627706, 0.11255411, 0.11255411, 0.05627706, 0.16883117,\n",
            "        0.05627706, 0.11255411, 0.11255411, 0.16883117, 0.05627706,\n",
            "        0.28138528, 0.11255411, 0.16883117, 0.39393939, 0.33766234,\n",
            "        0.28138528, 0.33766234, 0.45021645, 0.22510823, 0.11255411,\n",
            "        0.78787879, 0.39393939, 0.78787879, 0.56277056, 0.56277056,\n",
            "        0.78787879, 0.45021645, 0.61904762, 0.45021645, 0.39393939,\n",
            "        0.50649351, 0.39393939, 0.45021645, 0.16883117, 0.28138528,\n",
            "        0.16883117, 0.16883117, 0.39393939, 0.28138528, 0.05627706,\n",
            "        0.16883117, 0.16883117, 0.11255411, 0.11255411, 0.05627706],\n",
            "       [0.04329004, 0.08658009, 0.08658009, 0.04329004, 0.12987013,\n",
            "        0.04329004, 0.08658009, 0.08658009, 0.12987013, 0.04329004,\n",
            "        0.21645022, 0.08658009, 0.12987013, 0.3030303 , 0.25974026,\n",
            "        0.21645022, 0.25974026, 0.34632035, 0.17316017, 0.08658009,\n",
            "        0.60606061, 0.3030303 , 0.60606061, 0.43290043, 0.43290043,\n",
            "        0.60606061, 0.34632035, 0.47619048, 0.34632035, 0.3030303 ,\n",
            "        0.38961039, 0.3030303 , 0.34632035, 0.12987013, 0.21645022,\n",
            "        0.12987013, 0.12987013, 0.3030303 , 0.21645022, 0.04329004,\n",
            "        0.12987013, 0.12987013, 0.08658009, 0.08658009, 0.04329004]]))\n"
          ]
        }
      ]
    },
    {
      "cell_type": "code",
      "metadata": {
        "colab": {
          "base_uri": "https://localhost:8080/",
          "height": 388
        },
        "id": "a5a9BckRxfyA",
        "outputId": "3a6ad69f-4fd5-4cab-cffc-82f7b3ea8fe5"
      },
      "source": [
        "sb.catplot(x='Genre', y='Ratings', data=sub1, kind='bar', ci=None)\n",
        "plt.xlabel('Thể loại phim')\n",
        "plt.ylabel('Lượng bình chọn')"
      ],
      "execution_count": null,
      "outputs": [
        {
          "output_type": "execute_result",
          "data": {
            "text/plain": [
              "Text(16.299999999999997, 0.5, 'Lượng bình chọn')"
            ]
          },
          "metadata": {},
          "execution_count": 29
        },
        {
          "output_type": "display_data",
          "data": {
            "image/png": "[encoded data removed]",
            "text/plain": [
              "<Figure size 360x360 with 1 Axes>"
            ]
          },
          "metadata": {
            "needs_background": "light"
          }
        }
      ]
    },
    {
      "cell_type": "code",
      "metadata": {
        "id": "7qQtmcqfnC2E"
      },
      "source": [
        "# Phân tích ANOVA: biến giải thích nhiều hơn 2 loại"
      ],
      "execution_count": null,
      "outputs": []
    },
    {
      "cell_type": "code",
      "metadata": {
        "colab": {
          "base_uri": "https://localhost:8080/"
        },
        "id": "5RPSVWRamH8D",
        "outputId": "78332518-afae-4192-f53d-6816ee7e1fcb"
      },
      "source": [
        "ct1 = sub1.groupby('Gross').size()\n",
        "print (ct1)"
      ],
      "execution_count": null,
      "outputs": [
        {
          "output_type": "stream",
          "name": "stdout",
          "text": [
            "Gross\n",
            "2470         1\n",
            "4240         1\n",
            "5000         1\n",
            "8300         1\n",
            "8690         1\n",
            "            ..\n",
            "337000000    1\n",
            "345000000    1\n",
            "350000000    2\n",
            "458000000    1\n",
            "643000000    1\n",
            "Length: 215, dtype: int64\n"
          ]
        }
      ]
    },
    {
      "cell_type": "code",
      "metadata": {
        "colab": {
          "base_uri": "https://localhost:8080/"
        },
        "id": "CefmZU7hgNKv",
        "outputId": "70465921-390f-41e0-fef5-d11e44953a5b"
      },
      "source": [
        "model1 = smf.ols(formula='Gross ~ C(Genre)', data = sub1)\n",
        "results1 = model1.fit()\n",
        "print(results1.summary())"
      ],
      "execution_count": null,
      "outputs": [
        {
          "output_type": "stream",
          "name": "stdout",
          "text": [
            "                            OLS Regression Results                            \n",
            "==============================================================================\n",
            "Dep. Variable:                  Gross   R-squared:                       0.217\n",
            "Model:                            OLS   Adj. R-squared:                  0.181\n",
            "Method:                 Least Squares   F-statistic:                     6.093\n",
            "Date:                Thu, 04 Nov 2021   Prob (F-statistic):           3.53e-08\n",
            "Time:                        10:01:31   Log-Likelihood:                -4527.0\n",
            "No. Observations:                 231   AIC:                             9076.\n",
            "Df Residuals:                     220   BIC:                             9114.\n",
            "Df Model:                          10                                         \n",
            "Covariance Type:            nonrobust                                         \n",
            "==================================================================================\n",
            "                     coef    std err          t      P>|t|      [0.025      0.975]\n",
            "----------------------------------------------------------------------------------\n",
            "Intercept       1.145e+08   9.98e+06     11.475      0.000    9.48e+07    1.34e+08\n",
            "C(Genre)[T.2]   9.545e+06   2.53e+07      0.378      0.706   -4.03e+07    5.94e+07\n",
            "C(Genre)[T.3]  -8.302e+07   1.55e+07     -5.356      0.000   -1.14e+08   -5.25e+07\n",
            "C(Genre)[T.4]  -1.133e+08   8.11e+07     -1.398      0.164   -2.73e+08    4.65e+07\n",
            "C(Genre)[T.6]  -8.917e+07   4.75e+07     -1.877      0.062   -1.83e+08    4.45e+06\n",
            "C(Genre)[T.7]  -1.145e+08   5.77e+07     -1.983      0.049   -2.28e+08    -6.8e+05\n",
            "C(Genre)[T.8]  -7.096e+07   1.48e+07     -4.791      0.000      -1e+08   -4.18e+07\n",
            "C(Genre)[T.9]  -6.934e+07   2.44e+07     -2.837      0.005   -1.18e+08   -2.12e+07\n",
            "C(Genre)[T.10]  -9.08e+07   2.53e+07     -3.593      0.000   -1.41e+08    -4.1e+07\n",
            "C(Genre)[T.12]  2.027e+07   2.44e+07      0.829      0.408   -2.79e+07    6.84e+07\n",
            "C(Genre)[T.15] -8.514e+07   2.73e+07     -3.116      0.002   -1.39e+08   -3.13e+07\n",
            "==============================================================================\n",
            "Omnibus:                      143.177   Durbin-Watson:                   1.379\n",
            "Prob(Omnibus):                  0.000   Jarque-Bera (JB):             1174.868\n",
            "Skew:                           2.358   Prob(JB):                    7.60e-256\n",
            "Kurtosis:                      12.992   Cond. No.                         16.2\n",
            "==============================================================================\n",
            "\n",
            "Warnings:\n",
            "[1] Standard Errors assume that the covariance matrix of the errors is correctly specified.\n"
          ]
        }
      ]
    },
    {
      "cell_type": "code",
      "metadata": {
        "id": "27ovK16klnE9"
      },
      "source": [
        "sub2 = sub1[['Gross', 'Genre']].dropna()"
      ],
      "execution_count": null,
      "outputs": []
    },
    {
      "cell_type": "code",
      "metadata": {
        "colab": {
          "base_uri": "https://localhost:8080/"
        },
        "id": "aRMZ3ug3namj",
        "outputId": "1bfe1184-bafa-49cc-dd01-e3305b44e4fc"
      },
      "source": [
        "print('trung bình cho doanh thu bởi thể loại phim')\n",
        "m1= sub2.groupby('Genre').mean()\n",
        "print (m1)"
      ],
      "execution_count": null,
      "outputs": [
        {
          "output_type": "stream",
          "name": "stdout",
          "text": [
            "trung bình cho doanh thu bởi thể loại phim\n",
            "              Gross\n",
            "Genre              \n",
            "1      1.144953e+08\n",
            "2      1.240408e+08\n",
            "3      3.147542e+07\n",
            "4      1.210000e+06\n",
            "6      2.532667e+07\n",
            "7      3.355000e+03\n",
            "8      4.353090e+07\n",
            "9      4.515669e+07\n",
            "10     2.369450e+07\n",
            "12     1.347615e+08\n",
            "15     2.935600e+07\n"
          ]
        }
      ]
    },
    {
      "cell_type": "code",
      "metadata": {
        "colab": {
          "base_uri": "https://localhost:8080/"
        },
        "id": "aJFReMSlnhDe",
        "outputId": "96169a15-83fe-4321-b3b9-0d66aa3104d2"
      },
      "source": [
        "print('độ lệch chuẩn cho doanh thu bởi thể loại phim')\n",
        "sd1 = sub2.groupby('Genre').std()\n",
        "print(sd1)"
      ],
      "execution_count": null,
      "outputs": [
        {
          "output_type": "stream",
          "name": "stdout",
          "text": [
            "độ lệch chuẩn cho doanh thu bởi thể loại phim\n",
            "              Gross\n",
            "Genre              \n",
            "1      1.217730e+08\n",
            "2      9.861645e+07\n",
            "3      4.517083e+07\n",
            "4               NaN\n",
            "6      1.675948e+07\n",
            "7      1.251579e+03\n",
            "8      5.173317e+07\n",
            "9      4.530539e+07\n",
            "10     1.768948e+07\n",
            "12     9.103953e+07\n",
            "15     2.538672e+07\n"
          ]
        }
      ]
    },
    {
      "cell_type": "code",
      "metadata": {
        "id": "UPJo6APpt5Rx"
      },
      "source": [
        "# Phân tích sâu"
      ],
      "execution_count": null,
      "outputs": []
    },
    {
      "cell_type": "code",
      "metadata": {
        "id": "Sl876_sIs2Eh"
      },
      "source": [
        "mc1 = multi.MultiComparison(sub2['Gross'], sub2['Genre'])"
      ],
      "execution_count": null,
      "outputs": []
    },
    {
      "cell_type": "code",
      "metadata": {
        "id": "StJ0Jq0htIBI"
      },
      "source": [
        "res1 = mc1.tukeyhsd()"
      ],
      "execution_count": null,
      "outputs": []
    },
    {
      "cell_type": "code",
      "metadata": {
        "colab": {
          "base_uri": "https://localhost:8080/"
        },
        "id": "pq4bVdyvtLOs",
        "outputId": "973cd8af-79df-419c-dd92-e3ca73783fa6"
      },
      "source": [
        "print(res1.summary())"
      ],
      "execution_count": null,
      "outputs": [
        {
          "output_type": "stream",
          "name": "stdout",
          "text": [
            "           Multiple Comparison of Means - Tukey HSD, FWER=0.05            \n",
            "==========================================================================\n",
            "group1 group2     meandiff    p-adj       lower          upper      reject\n",
            "--------------------------------------------------------------------------\n",
            "     1      2    9545484.2564    0.9  -72669845.7282   91760814.241  False\n",
            "     1      3  -83019924.2943  0.001 -133437346.6607 -32602501.9279   True\n",
            "     1      4 -113285349.0769    0.9 -376961003.4281 150390305.2742  False\n",
            "     1      6  -89168682.4103 0.7042 -243691242.0955   65353877.275  False\n",
            "     1      7 -114491994.0769 0.6395  -302346003.252  73362015.0981  False\n",
            "     1      8  -70964446.6695  0.001  -119145319.742 -22783573.5971   True\n",
            "     1      9  -69338656.7692 0.1512 -148839857.8451  10162544.3066  False\n",
            "     1     10  -90800849.0769 0.0173 -173016179.0615  -8585519.0923   True\n",
            "     1     12   20266189.3846    0.9  -59235011.6912  99767390.4605  False\n",
            "     1     15  -85139349.0769 0.0742 -174024394.0262   3745695.8723  False\n",
            "     2      3  -92565408.5507 0.0199 -177385590.7307  -7745226.3707   True\n",
            "     2      4 -122830833.3333    0.9 -395186111.4619 149524444.7953  False\n",
            "     2      6  -98714166.6667 0.6895 -267621739.8499  70193406.5166  False\n",
            "     2      7 -124037478.3333 0.6173 -323891614.1177   75816657.451  False\n",
            "     2      8  -80509930.9259 0.0702 -164020070.1726   3000208.3208  False\n",
            "     2      9  -78884141.0256  0.341 -183636171.0751  25867889.0238  False\n",
            "     2     10 -100346333.3333 0.0874 -207172862.3955   6480195.7288  False\n",
            "     2     12   10720705.1282    0.9  -94031324.9213 115472735.1777  False\n",
            "     2     15  -94684833.3333 0.1852  -206725442.233  17355775.5663  False\n",
            "     3      4  -30265424.7826    0.9 -294764864.3247 234234014.7595  False\n",
            "     3      6   -6148758.1159    0.9 -162072855.9079  149775339.676  False\n",
            "     3      7  -31472069.7826    0.9 -220480618.7525 157536479.1873  False\n",
            "     3      8   12055477.6248    0.9  -40446897.0891  64557852.3387  False\n",
            "     3      9   13681267.5251    0.9  -68510847.6264  95873382.6766  False\n",
            "     3     10   -7780924.7826    0.9  -92601106.9626  77039257.3974  False\n",
            "     3     12  103286113.6789 0.0029   21093998.5275 185478228.8304   True\n",
            "     3     15   -2119424.7826    0.9  -93419227.8284  89180378.2632  False\n",
            "     4      6   24116666.6667    0.9 -278034385.7751 326267719.1085  False\n",
            "     4      7      -1206645.0    0.9 -321686232.1864 319272942.1864  False\n",
            "     4      8   42320902.4074    0.9   -221761345.33 306403150.1448  False\n",
            "     4      9   43946692.3077    0.9 -227601605.4452 315494990.0606  False\n",
            "     4     10      22484500.0    0.9 -249870778.1286 294839778.1286  False\n",
            "     4     12  133551538.4615 0.8742 -137996759.2914 405099836.2145  False\n",
            "     4     15      28146000.0    0.9 -246296322.2749 302588322.2749  False\n",
            "     6      7  -25323311.6667    0.9 -264194692.4499 213548069.1166  False\n",
            "     6      8   18204235.7407    0.9 -137011112.4829 173419583.9644  False\n",
            "     6      9    19830025.641    0.9 -147773222.4381 187433273.7202  False\n",
            "     6     10   -1632166.6667    0.9 -170539739.8499 167275406.5166  False\n",
            "     6     12  109434871.7949 0.5529  -58168376.2843  277038119.874  False\n",
            "     6     15    4029333.3333    0.9 -168223268.9977 176281935.6643  False\n",
            "     7      8   43527547.4074    0.9 -144896738.8077 231951833.6225  False\n",
            "     7      9   45153337.3077    0.9 -153599665.3819 243906339.9973  False\n",
            "     7     10      23691145.0    0.9 -176162990.7844 223545280.7844  False\n",
            "     7     12  134758183.4615 0.5028  -63994819.2281 333511186.1511  False\n",
            "     7     15      29352645.0    0.9 -173336442.8199 232041732.8199  False\n",
            "     8      9    1625789.9003    0.9   -79213704.439  82465284.2395  False\n",
            "     8     10  -19836402.4074    0.9 -103346541.6541  63673736.8393  False\n",
            "     8     12   91230636.0541 0.0133   10391141.7149 172070130.3934   True\n",
            "     8     15  -14174902.4074    0.9 -104258941.4385  75909136.6237  False\n",
            "     9     10  -21462192.3077    0.9 -126214222.3571  83289837.7418  False\n",
            "     9     12   89604846.1538 0.1502  -13030763.1029 192240455.4106  False\n",
            "     9     15  -15800692.3077    0.9 -125865121.3056  94263736.6902  False\n",
            "    10     12  111067038.4615 0.0275    6315008.4121  215819068.511   True\n",
            "    10     15       5661500.0    0.9 -106379108.8997 117702108.8997  False\n",
            "    12     15 -105405538.4615 0.0744 -215469967.4594   4658890.5363  False\n",
            "--------------------------------------------------------------------------\n"
          ]
        }
      ]
    },
    {
      "cell_type": "code",
      "metadata": {
        "id": "PrMTEz7ynleb"
      },
      "source": [
        "# Phân tích ANOVA"
      ],
      "execution_count": null,
      "outputs": []
    },
    {
      "cell_type": "code",
      "metadata": {
        "colab": {
          "base_uri": "https://localhost:8080/"
        },
        "id": "OlAJtS0apEKr",
        "outputId": "b94255ba-6ea2-42bb-b7ac-93bbc97cbc75"
      },
      "source": [
        "ct2 = sub1.groupby('Gross').size()\n",
        "print (ct2)"
      ],
      "execution_count": null,
      "outputs": [
        {
          "output_type": "stream",
          "name": "stdout",
          "text": [
            "Gross\n",
            "2470         1\n",
            "4240         1\n",
            "5000         1\n",
            "8300         1\n",
            "8690         1\n",
            "            ..\n",
            "337000000    1\n",
            "345000000    1\n",
            "350000000    2\n",
            "458000000    1\n",
            "643000000    1\n",
            "Length: 215, dtype: int64\n"
          ]
        }
      ]
    },
    {
      "cell_type": "code",
      "metadata": {
        "colab": {
          "base_uri": "https://localhost:8080/"
        },
        "id": "LoF98vYFogkq",
        "outputId": "36c3bff9-b335-4d5a-a78f-92fb0523c17e"
      },
      "source": [
        "model2 = smf.ols(formula='Gross ~ C(Year)', data = sub1)\n",
        "results2 = model2.fit()\n",
        "print(results2.summary())"
      ],
      "execution_count": null,
      "outputs": [
        {
          "output_type": "stream",
          "name": "stdout",
          "text": [
            "                            OLS Regression Results                            \n",
            "==============================================================================\n",
            "Dep. Variable:                  Gross   R-squared:                       0.015\n",
            "Model:                            OLS   Adj. R-squared:                  0.011\n",
            "Method:                 Least Squares   F-statistic:                     3.499\n",
            "Date:                Thu, 04 Nov 2021   Prob (F-statistic):             0.0627\n",
            "Time:                        10:01:56   Log-Likelihood:                -4553.5\n",
            "No. Observations:                 231   AIC:                             9111.\n",
            "Df Residuals:                     229   BIC:                             9118.\n",
            "Df Model:                           1                                         \n",
            "Covariance Type:            nonrobust                                         \n",
            "===================================================================================\n",
            "                      coef    std err          t      P>|t|      [0.025      0.975]\n",
            "-----------------------------------------------------------------------------------\n",
            "Intercept        6.104e+07   6.93e+06      8.813      0.000    4.74e+07    7.47e+07\n",
            "C(Year)[T.2015]  2.388e+07   1.28e+07      1.870      0.063   -1.28e+06     4.9e+07\n",
            "==============================================================================\n",
            "Omnibus:                      143.501   Durbin-Watson:                   1.412\n",
            "Prob(Omnibus):                  0.000   Jarque-Bera (JB):              942.498\n",
            "Skew:                           2.477   Prob(JB):                    2.18e-205\n",
            "Kurtosis:                      11.566   Cond. No.                         2.43\n",
            "==============================================================================\n",
            "\n",
            "Warnings:\n",
            "[1] Standard Errors assume that the covariance matrix of the errors is correctly specified.\n"
          ]
        }
      ]
    },
    {
      "cell_type": "code",
      "metadata": {
        "id": "RGZKZP9gpqfS"
      },
      "source": [
        "sub3 = data[['Gross', 'Year']].dropna()"
      ],
      "execution_count": null,
      "outputs": []
    },
    {
      "cell_type": "code",
      "metadata": {
        "colab": {
          "base_uri": "https://localhost:8080/"
        },
        "id": "s739la0Lpw0r",
        "outputId": "fe7b43d7-f5c1-439e-9ffe-0826e30fef55"
      },
      "source": [
        "print('trung bình cho doanh thu bởi năm sản xuất')\n",
        "m2= sub3.groupby('Year').mean()\n",
        "print (m2)"
      ],
      "execution_count": null,
      "outputs": [
        {
          "output_type": "stream",
          "name": "stdout",
          "text": [
            "trung bình cho doanh thu bởi năm sản xuất\n",
            "             Gross\n",
            "Year              \n",
            "2014  6.103726e+07\n",
            "2015  8.491441e+07\n"
          ]
        }
      ]
    },
    {
      "cell_type": "code",
      "metadata": {
        "colab": {
          "base_uri": "https://localhost:8080/"
        },
        "id": "cUJ2i86Kp5xa",
        "outputId": "b2486442-13e6-4dbd-e7ab-3a6f63af1f36"
      },
      "source": [
        "print('độ lệch chuẩn cho doanh thu bởi năm sản xuất')\n",
        "sd2 = sub3.groupby('Year').std()\n",
        "print(sd2)"
      ],
      "execution_count": null,
      "outputs": [
        {
          "output_type": "stream",
          "name": "stdout",
          "text": [
            "độ lệch chuẩn cho doanh thu bởi năm sản xuất\n",
            "             Gross\n",
            "Year              \n",
            "2014  7.467896e+07\n",
            "2015  1.150623e+08\n"
          ]
        }
      ]
    },
    {
      "cell_type": "markdown",
      "metadata": {
        "id": "15GXtdqArDsz"
      },
      "source": [
        "CHƯƠNG 4: Phân tích các hồi quy"
      ]
    },
    {
      "cell_type": "code",
      "metadata": {
        "colab": {
          "base_uri": "https://localhost:8080/",
          "height": 314
        },
        "id": "JlJOb5K2ty5K",
        "outputId": "e066e0fb-e02a-4de6-c4e0-195fb33033b0"
      },
      "source": [
        "# Hồi quy tuyến tính giữa 2 biến định lượng \n",
        "scat1 = sb.regplot(x=\"Ratings\", y=\"Gross\", data=data)\n",
        "plt.xlabel('Bình chọn ')\n",
        "plt.ylabel('Doanh thu')\n",
        "plt.title('Scatterplot cho mối liên hệ giữa bình chọn và doanh thu')"
      ],
      "execution_count": null,
      "outputs": [
        {
          "output_type": "execute_result",
          "data": {
            "text/plain": [
              "Text(0.5, 1.0, 'Scatterplot cho mối liên hệ giữa bình chọn và doanh thu')"
            ]
          },
          "metadata": {},
          "execution_count": 44
        },
        {
          "output_type": "display_data",
          "data": {
            "image/png": "[encoded data removed]",
            "text/plain": [
              "<Figure size 432x288 with 1 Axes>"
            ]
          },
          "metadata": {
            "needs_background": "light"
          }
        }
      ]
    },
    {
      "cell_type": "code",
      "metadata": {
        "colab": {
          "base_uri": "https://localhost:8080/"
        },
        "id": "iRKNSAHDrI20",
        "outputId": "331249ee-4375-4337-855c-f519a57578b7"
      },
      "source": [
        "reg1 = smf.ols('Ratings ~ Gross', data = sub1).fit()\n",
        "print (reg1.summary())"
      ],
      "execution_count": null,
      "outputs": [
        {
          "output_type": "stream",
          "name": "stdout",
          "text": [
            "                            OLS Regression Results                            \n",
            "==============================================================================\n",
            "Dep. Variable:                Ratings   R-squared:                       0.117\n",
            "Model:                            OLS   Adj. R-squared:                  0.113\n",
            "Method:                 Least Squares   F-statistic:                     30.37\n",
            "Date:                Thu, 04 Nov 2021   Prob (F-statistic):           9.57e-08\n",
            "Time:                        10:02:13   Log-Likelihood:                -310.28\n",
            "No. Observations:                 231   AIC:                             624.6\n",
            "Df Residuals:                     229   BIC:                             631.4\n",
            "Df Model:                           1                                         \n",
            "Covariance Type:            nonrobust                                         \n",
            "==============================================================================\n",
            "                 coef    std err          t      P>|t|      [0.025      0.975]\n",
            "------------------------------------------------------------------------------\n",
            "Intercept      6.1825      0.077     80.067      0.000       6.030       6.335\n",
            "Gross       3.806e-09   6.91e-10      5.511      0.000    2.45e-09    5.17e-09\n",
            "==============================================================================\n",
            "Omnibus:                        6.280   Durbin-Watson:                   1.690\n",
            "Prob(Omnibus):                  0.043   Jarque-Bera (JB):                6.009\n",
            "Skew:                          -0.382   Prob(JB):                       0.0496\n",
            "Kurtosis:                       3.202   Cond. No.                     1.41e+08\n",
            "==============================================================================\n",
            "\n",
            "Warnings:\n",
            "[1] Standard Errors assume that the covariance matrix of the errors is correctly specified.\n",
            "[2] The condition number is large, 1.41e+08. This might indicate that there are\n",
            "strong multicollinearity or other numerical problems.\n"
          ]
        }
      ]
    },
    {
      "cell_type": "code",
      "metadata": {
        "colab": {
          "base_uri": "https://localhost:8080/",
          "height": 313
        },
        "id": "Pm2i7Oaquvkz",
        "outputId": "d23715d0-d3f1-4ad1-e057-03a110620184"
      },
      "source": [
        "# Hồi quy tuyến tính giữa biến định lượng và phân loại\n",
        "scat2 = sb.regplot(x=\"Gross\", y=\"Year\", data = sub1)\n",
        "plt.xlabel('Doanh thu')\n",
        "plt.ylabel('Năm')\n",
        "plt.title('Scatterplot cho mối liên hệ giữa năm và doanh thu')"
      ],
      "execution_count": null,
      "outputs": [
        {
          "output_type": "execute_result",
          "data": {
            "text/plain": [
              "Text(0.5, 1.0, 'Scatterplot cho mối liên hệ giữa năm và doanh thu')"
            ]
          },
          "metadata": {},
          "execution_count": 46
        },
        {
          "output_type": "display_data",
          "data": {
            "image/png": "[encoded data removed]",
            "text/plain": [
              "<Figure size 432x288 with 1 Axes>"
            ]
          },
          "metadata": {
            "needs_background": "light"
          }
        }
      ]
    },
    {
      "cell_type": "code",
      "metadata": {
        "colab": {
          "base_uri": "https://localhost:8080/"
        },
        "id": "CaCmxD8RsMZS",
        "outputId": "9431bb7d-2222-40f6-d147-53c6cffffb23"
      },
      "source": [
        "reg2 = smf.ols('Gross ~ Year', data = sub1).fit()\n",
        "print (reg2.summary())"
      ],
      "execution_count": null,
      "outputs": [
        {
          "output_type": "stream",
          "name": "stdout",
          "text": [
            "                            OLS Regression Results                            \n",
            "==============================================================================\n",
            "Dep. Variable:                  Gross   R-squared:                       0.015\n",
            "Model:                            OLS   Adj. R-squared:                  0.011\n",
            "Method:                 Least Squares   F-statistic:                     3.499\n",
            "Date:                Thu, 04 Nov 2021   Prob (F-statistic):             0.0627\n",
            "Time:                        10:02:21   Log-Likelihood:                -4553.5\n",
            "No. Observations:                 231   AIC:                             9111.\n",
            "Df Residuals:                     229   BIC:                             9118.\n",
            "Df Model:                           1                                         \n",
            "Covariance Type:            nonrobust                                         \n",
            "==============================================================================\n",
            "                 coef    std err          t      P>|t|      [0.025      0.975]\n",
            "------------------------------------------------------------------------------\n",
            "Intercept  -4.803e+10   2.57e+10     -1.868      0.063   -9.87e+10    2.64e+09\n",
            "Year        2.388e+07   1.28e+07      1.870      0.063   -1.28e+06     4.9e+07\n",
            "==============================================================================\n",
            "Omnibus:                      143.501   Durbin-Watson:                   1.412\n",
            "Prob(Omnibus):                  0.000   Jarque-Bera (JB):              942.498\n",
            "Skew:                           2.477   Prob(JB):                    2.18e-205\n",
            "Kurtosis:                      11.566   Cond. No.                     8.90e+06\n",
            "==============================================================================\n",
            "\n",
            "Warnings:\n",
            "[1] Standard Errors assume that the covariance matrix of the errors is correctly specified.\n",
            "[2] The condition number is large, 8.9e+06. This might indicate that there are\n",
            "strong multicollinearity or other numerical problems.\n"
          ]
        }
      ]
    },
    {
      "cell_type": "code",
      "metadata": {
        "id": "5_6YHv_0u73i"
      },
      "source": [
        "sub4 = data[['Gross', 'Year']].dropna()"
      ],
      "execution_count": null,
      "outputs": []
    },
    {
      "cell_type": "code",
      "metadata": {
        "colab": {
          "base_uri": "https://localhost:8080/"
        },
        "id": "rTq_vzrLv1nc",
        "outputId": "14ef44a4-9b7b-48a7-b02f-c46c9e027996"
      },
      "source": [
        "print (\"Trung bình\")\n",
        "ds1 = sub4.groupby('Gross').mean()\n",
        "print (ds1)\n",
        "print (\"Độ lệch chuẩn\")\n",
        "ds2 = sub4.groupby('Gross').std()\n",
        "print (ds2)"
      ],
      "execution_count": null,
      "outputs": [
        {
          "output_type": "stream",
          "name": "stdout",
          "text": [
            "Trung bình\n",
            "             Year\n",
            "Gross            \n",
            "2470       2014.0\n",
            "4240       2014.0\n",
            "5000       2014.0\n",
            "8300       2014.0\n",
            "8690       2014.0\n",
            "...           ...\n",
            "337000000  2014.0\n",
            "345000000  2015.0\n",
            "350000000  2014.5\n",
            "458000000  2015.0\n",
            "643000000  2015.0\n",
            "\n",
            "[215 rows x 1 columns]\n",
            "Độ lệch chuẩn\n",
            "               Year\n",
            "Gross              \n",
            "2470            NaN\n",
            "4240            NaN\n",
            "5000            NaN\n",
            "8300            NaN\n",
            "8690            NaN\n",
            "...             ...\n",
            "337000000       NaN\n",
            "345000000       NaN\n",
            "350000000  0.707107\n",
            "458000000       NaN\n",
            "643000000       NaN\n",
            "\n",
            "[215 rows x 1 columns]\n"
          ]
        }
      ]
    },
    {
      "cell_type": "code",
      "metadata": {
        "colab": {
          "base_uri": "https://localhost:8080/",
          "height": 442
        },
        "id": "RCsfOzu0v_Kp",
        "outputId": "b30c0900-3ecc-4994-a59e-205cbdc8a1c8"
      },
      "source": [
        "sb.factorplot(x=\"Year\", y=\"Gross\", data = sub1, kind=\"bar\", ci=None)\n",
        "plt.xlabel('Năm')\n",
        "plt.ylabel('Tổng doanh thu ')"
      ],
      "execution_count": null,
      "outputs": [
        {
          "output_type": "stream",
          "name": "stderr",
          "text": [
            "/usr/local/lib/python3.7/dist-packages/seaborn/categorical.py:3717: UserWarning: The `factorplot` function has been renamed to `catplot`. The original name will be removed in a future release. Please update your code. Note that the default `kind` in `factorplot` (`'point'`) has changed `'strip'` in `catplot`.\n",
            "  warnings.warn(msg)\n"
          ]
        },
        {
          "output_type": "execute_result",
          "data": {
            "text/plain": [
              "Text(16.299999999999997, 0.5, 'Tổng doanh thu ')"
            ]
          },
          "metadata": {},
          "execution_count": 50
        },
        {
          "output_type": "display_data",
          "data": {
            "image/png": "[encoded data removed]",
            "text/plain": [
              "<Figure size 360x360 with 1 Axes>"
            ]
          },
          "metadata": {
            "needs_background": "light"
          }
        }
      ]
    },
    {
      "cell_type": "code",
      "metadata": {
        "colab": {
          "base_uri": "https://localhost:8080/"
        },
        "id": "cORx7XBqey07",
        "outputId": "fe861314-b760-4d97-c241-cacbc961e402"
      },
      "source": [
        "# Hồi quy đa biến\n",
        "print('Canh chuẩn cho Screens')\n",
        "sub1['Screens_c'] = sub1['Screens'] - sub1['Screens'].mean()\n",
        "print(sub1['Screens_c'])"
      ],
      "execution_count": null,
      "outputs": [
        {
          "output_type": "stream",
          "name": "stdout",
          "text": [
            "Canh chuẩn cho Screens\n",
            "0     -2.164244e+03\n",
            "1      1.096756e+03\n",
            "2      6.627557e+02\n",
            "3      1.260756e+03\n",
            "4      1.007557e+02\n",
            "           ...     \n",
            "226   -2.143244e+03\n",
            "227    6.057557e+02\n",
            "228    5.677557e+02\n",
            "229    4.547474e-13\n",
            "230    5.107557e+02\n",
            "Name: Screens_c, Length: 231, dtype: float64\n"
          ]
        }
      ]
    },
    {
      "cell_type": "code",
      "metadata": {
        "id": "Fh_eqLX2e6w5",
        "colab": {
          "base_uri": "https://localhost:8080/"
        },
        "outputId": "007c9661-7e1c-4d1b-8ca8-1014f48668f8"
      },
      "source": [
        "print('Canh chuẩn cho Likes')\n",
        "sub1['Likes_c'] = sub1['Likes'] - sub1['Likes'].mean()\n",
        "print(sub1['Likes_c'])"
      ],
      "execution_count": null,
      "outputs": [
        {
          "output_type": "stream",
          "name": "stdout",
          "text": [
            "Canh chuẩn cho Likes\n",
            "0      -8100.536797\n",
            "1      -9267.536797\n",
            "2     -12404.536797\n",
            "3     -10303.536797\n",
            "4       -569.536797\n",
            "           ...     \n",
            "226    -3407.536797\n",
            "227     6070.463203\n",
            "228    -5909.536797\n",
            "229   -12332.536797\n",
            "230    -9891.536797\n",
            "Name: Likes_c, Length: 231, dtype: float64\n"
          ]
        }
      ]
    },
    {
      "cell_type": "code",
      "metadata": {
        "id": "j2zl5NiTe9qC",
        "colab": {
          "base_uri": "https://localhost:8080/"
        },
        "outputId": "6cc2396c-21fe-4d84-f0ba-5abcfb1b5c0e"
      },
      "source": [
        "print('Canh chuẩn cho Dislikes')\n",
        "sub1['Dislikes_c'] = sub1['Dislikes'] - sub1['Dislikes'].mean()\n",
        "print(sub1['Dislikes_c'])\n"
      ],
      "execution_count": null,
      "outputs": [
        {
          "output_type": "stream",
          "name": "stdout",
          "text": [
            "Canh chuẩn cho Dislikes\n",
            "0     -254.051948\n",
            "1     -618.051948\n",
            "2     -645.051948\n",
            "3     -547.051948\n",
            "4      -69.051948\n",
            "          ...    \n",
            "226    -38.051948\n",
            "227    448.948052\n",
            "228   -354.051948\n",
            "229   -612.051948\n",
            "230   -248.051948\n",
            "Name: Dislikes_c, Length: 231, dtype: float64\n"
          ]
        }
      ]
    },
    {
      "cell_type": "code",
      "metadata": {
        "id": "FNZDnfjhe_o5",
        "colab": {
          "base_uri": "https://localhost:8080/"
        },
        "outputId": "76a96157-3331-481b-9005-7fc5835c98aa"
      },
      "source": [
        "reg15 = smf.ols('Gross ~ Ratings + Screens_c + Likes_c + Dislikes_c ', data=sub1).fit()\n",
        "print(reg15.summary())"
      ],
      "execution_count": null,
      "outputs": [
        {
          "output_type": "stream",
          "name": "stdout",
          "text": [
            "                            OLS Regression Results                            \n",
            "==============================================================================\n",
            "Dep. Variable:                  Gross   R-squared:                       0.440\n",
            "Model:                            OLS   Adj. R-squared:                  0.430\n",
            "Method:                 Least Squares   F-statistic:                     44.36\n",
            "Date:                Thu, 04 Nov 2021   Prob (F-statistic):           1.84e-27\n",
            "Time:                        10:02:57   Log-Likelihood:                -4488.3\n",
            "No. Observations:                 231   AIC:                             8987.\n",
            "Df Residuals:                     226   BIC:                             9004.\n",
            "Df Model:                           4                                         \n",
            "Covariance Type:            nonrobust                                         \n",
            "==============================================================================\n",
            "                 coef    std err          t      P>|t|      [0.025      0.975]\n",
            "------------------------------------------------------------------------------\n",
            "Intercept   -1.26e+08   3.04e+07     -4.150      0.000   -1.86e+08   -6.62e+07\n",
            "Ratings     3.013e+07   4.67e+06      6.459      0.000    2.09e+07    3.93e+07\n",
            "Screens_c   3.361e+04   3226.668     10.415      0.000    2.72e+04       4e+04\n",
            "Likes_c     -151.5237    177.186     -0.855      0.393    -500.671     197.624\n",
            "Dislikes_c  7453.5575   4290.401      1.737      0.084   -1000.747    1.59e+04\n",
            "==============================================================================\n",
            "Omnibus:                      156.510   Durbin-Watson:                   1.331\n",
            "Prob(Omnibus):                  0.000   Jarque-Bera (JB):             1753.603\n",
            "Skew:                           2.514   Prob(JB):                         0.00\n",
            "Kurtosis:                      15.526   Cond. No.                     2.00e+05\n",
            "==============================================================================\n",
            "\n",
            "Warnings:\n",
            "[1] Standard Errors assume that the covariance matrix of the errors is correctly specified.\n",
            "[2] The condition number is large,  2e+05. This might indicate that there are\n",
            "strong multicollinearity or other numerical problems.\n"
          ]
        }
      ]
    },
    {
      "cell_type": "code",
      "metadata": {
        "id": "7viSXkR2JS7h"
      },
      "source": [
        "# Hồi quy đa thức\n",
        "sub5 = sub1[['Gross', 'Ratings']].dropna()\n"
      ],
      "execution_count": null,
      "outputs": []
    },
    {
      "cell_type": "code",
      "metadata": {
        "colab": {
          "base_uri": "https://localhost:8080/",
          "height": 298
        },
        "id": "i6pqg0ooK0rn",
        "outputId": "5336b92a-b7c8-44c4-948f-da4e5eb7a386"
      },
      "source": [
        "scat1 = sb.regplot(x=\"Gross\", y=\"Ratings\", scatter=True, data=sub5)\n",
        "scat1 = sb.regplot(x=\"Gross\", y=\"Ratings\", scatter=True, order=2, data=sub5)\n",
        "plt.xlabel('Tổng doanh thu')\n",
        "plt.ylabel('Lượng bình chọn')"
      ],
      "execution_count": null,
      "outputs": [
        {
          "output_type": "execute_result",
          "data": {
            "text/plain": [
              "Text(0, 0.5, 'Lượng bình chọn')"
            ]
          },
          "metadata": {},
          "execution_count": 56
        },
        {
          "output_type": "display_data",
          "data": {
            "image/png": "[encoded data removed]",
            "text/plain": [
              "<Figure size 432x288 with 1 Axes>"
            ]
          },
          "metadata": {
            "needs_background": "light"
          }
        }
      ]
    },
    {
      "cell_type": "code",
      "metadata": {
        "id": "2CXgfffQe41J",
        "colab": {
          "base_uri": "https://localhost:8080/"
        },
        "outputId": "f1f30f92-98ed-45d9-dfdf-47e51309d1d9"
      },
      "source": [
        "print('Canh chuẩn cho Ratings')\n",
        "sub1['Ratings_c'] = sub1['Ratings'] - sub1['Ratings'].mean()\n",
        "print(sub1['Ratings_c'])"
      ],
      "execution_count": null,
      "outputs": [
        {
          "output_type": "stream",
          "name": "stdout",
          "text": [
            "Canh chuẩn cho Ratings\n",
            "0     -0.141558\n",
            "1      0.658442\n",
            "2     -0.241558\n",
            "3     -0.141558\n",
            "4     -1.741558\n",
            "         ...   \n",
            "226   -0.041558\n",
            "227   -0.941558\n",
            "228   -1.041558\n",
            "229   -1.041558\n",
            "230   -2.041558\n",
            "Name: Ratings_c, Length: 231, dtype: float64\n"
          ]
        }
      ]
    },
    {
      "cell_type": "code",
      "metadata": {
        "colab": {
          "base_uri": "https://localhost:8080/"
        },
        "id": "eFHq21gkxI5E",
        "outputId": "6fea6ef9-7d86-4226-e241-3009c0ffdbec"
      },
      "source": [
        "reg5 = smf.ols('Gross ~ Ratings_c', data = sub1).fit()\n",
        "print (reg5.summary())"
      ],
      "execution_count": null,
      "outputs": [
        {
          "output_type": "stream",
          "name": "stdout",
          "text": [
            "                            OLS Regression Results                            \n",
            "==============================================================================\n",
            "Dep. Variable:                  Gross   R-squared:                       0.117\n",
            "Model:                            OLS   Adj. R-squared:                  0.113\n",
            "Method:                 Least Squares   F-statistic:                     30.37\n",
            "Date:                Thu, 04 Nov 2021   Prob (F-statistic):           9.57e-08\n",
            "Time:                        10:03:10   Log-Likelihood:                -4540.9\n",
            "No. Observations:                 231   AIC:                             9086.\n",
            "Df Residuals:                     229   BIC:                             9093.\n",
            "Df Model:                           1                                         \n",
            "Covariance Type:            nonrobust                                         \n",
            "==============================================================================\n",
            "                 coef    std err          t      P>|t|      [0.025      0.975]\n",
            "------------------------------------------------------------------------------\n",
            "Intercept   6.807e+07   5.51e+06     12.357      0.000    5.72e+07    7.89e+07\n",
            "Ratings_c   3.077e+07   5.58e+06      5.511      0.000    1.98e+07    4.18e+07\n",
            "==============================================================================\n",
            "Omnibus:                      139.042   Durbin-Watson:                   1.390\n",
            "Prob(Omnibus):                  0.000   Jarque-Bera (JB):             1011.145\n",
            "Skew:                           2.323   Prob(JB):                    2.71e-220\n",
            "Kurtosis:                      12.136   Cond. No.                         1.01\n",
            "==============================================================================\n",
            "\n",
            "Warnings:\n",
            "[1] Standard Errors assume that the covariance matrix of the errors is correctly specified.\n"
          ]
        }
      ]
    },
    {
      "cell_type": "code",
      "metadata": {
        "colab": {
          "base_uri": "https://localhost:8080/"
        },
        "id": "TaN7uskl03Ua",
        "outputId": "90487a7b-446b-4b58-e65a-1a4459f891c1"
      },
      "source": [
        "reg5 = smf.ols('Gross ~ Ratings_c + I(Ratings_c**2)', data = sub1).fit()\n",
        "print (reg5.summary())"
      ],
      "execution_count": null,
      "outputs": [
        {
          "output_type": "stream",
          "name": "stdout",
          "text": [
            "                            OLS Regression Results                            \n",
            "==============================================================================\n",
            "Dep. Variable:                  Gross   R-squared:                       0.143\n",
            "Model:                            OLS   Adj. R-squared:                  0.136\n",
            "Method:                 Least Squares   F-statistic:                     19.08\n",
            "Date:                Thu, 04 Nov 2021   Prob (F-statistic):           2.18e-08\n",
            "Time:                        10:03:13   Log-Likelihood:                -4537.4\n",
            "No. Observations:                 231   AIC:                             9081.\n",
            "Df Residuals:                     228   BIC:                             9091.\n",
            "Df Model:                           2                                         \n",
            "Covariance Type:            nonrobust                                         \n",
            "=====================================================================================\n",
            "                        coef    std err          t      P>|t|      [0.025      0.975]\n",
            "-------------------------------------------------------------------------------------\n",
            "Intercept          5.794e+07   6.65e+06      8.711      0.000    4.48e+07     7.1e+07\n",
            "Ratings_c          3.425e+07   5.67e+06      6.045      0.000    2.31e+07    4.54e+07\n",
            "I(Ratings_c ** 2)  1.041e+07   3.93e+06      2.645      0.009    2.65e+06    1.82e+07\n",
            "==============================================================================\n",
            "Omnibus:                      140.134   Durbin-Watson:                   1.399\n",
            "Prob(Omnibus):                  0.000   Jarque-Bera (JB):             1096.892\n",
            "Skew:                           2.312   Prob(JB):                    6.50e-239\n",
            "Kurtosis:                      12.622   Cond. No.                         2.47\n",
            "==============================================================================\n",
            "\n",
            "Warnings:\n",
            "[1] Standard Errors assume that the covariance matrix of the errors is correctly specified.\n"
          ]
        }
      ]
    },
    {
      "cell_type": "code",
      "metadata": {
        "colab": {
          "base_uri": "https://localhost:8080/"
        },
        "id": "20ZMsgj4HDBD",
        "outputId": "1acc17b8-fcc8-46a5-83f7-cdcd69281b8e"
      },
      "source": [
        "# Hồi quy Logistic (đơn biến)\n",
        "\n",
        "lreg1 = smf.logit (formula = 'RateType ~ Sentiment', data = sub1).fit()\n",
        "print(lreg1.summary()) "
      ],
      "execution_count": null,
      "outputs": [
        {
          "output_type": "stream",
          "name": "stdout",
          "text": [
            "Optimization terminated successfully.\n",
            "         Current function value: 0.581208\n",
            "         Iterations 5\n",
            "                           Logit Regression Results                           \n",
            "==============================================================================\n",
            "Dep. Variable:               RateType   No. Observations:                  231\n",
            "Model:                          Logit   Df Residuals:                      229\n",
            "Method:                           MLE   Df Model:                            1\n",
            "Date:                Thu, 04 Nov 2021   Pseudo R-squ.:                 0.04682\n",
            "Time:                        10:03:19   Log-Likelihood:                -134.26\n",
            "converged:                       True   LL-Null:                       -140.85\n",
            "Covariance Type:            nonrobust   LLR p-value:                 0.0002813\n",
            "==============================================================================\n",
            "                 coef    std err          z      P>|z|      [0.025      0.975]\n",
            "------------------------------------------------------------------------------\n",
            "Intercept     -1.4289      0.232     -6.155      0.000      -1.884      -0.974\n",
            "Sentiment      1.0678      0.301      3.544      0.000       0.477       1.658\n",
            "==============================================================================\n"
          ]
        }
      ]
    },
    {
      "cell_type": "code",
      "metadata": {
        "colab": {
          "base_uri": "https://localhost:8080/"
        },
        "id": "WR4rEEd9JQf_",
        "outputId": "f8b5d6ff-a9d6-40d3-ea9c-4eebbe16e140"
      },
      "source": [
        "print('ODD')\n",
        "print(np.exp(lreg1.params))"
      ],
      "execution_count": null,
      "outputs": [
        {
          "output_type": "stream",
          "name": "stdout",
          "text": [
            "ODD\n",
            "Intercept    0.239583\n",
            "Sentiment    2.909091\n",
            "dtype: float64\n"
          ]
        }
      ]
    },
    {
      "cell_type": "code",
      "metadata": {
        "colab": {
          "base_uri": "https://localhost:8080/"
        },
        "id": "C7d9wIN9Ji7v",
        "outputId": "91f0f42e-434d-47ee-fdd9-a08f177b90da"
      },
      "source": [
        "conf = lreg1.conf_int()\n",
        "conf['ODD'] = lreg1.params\n",
        "conf.columns = ['Lower CI', 'Upper CI', 'ODD']\n",
        "print (np.exp(conf))"
      ],
      "execution_count": null,
      "outputs": [
        {
          "output_type": "stream",
          "name": "stdout",
          "text": [
            "           Lower CI  Upper CI       ODD\n",
            "Intercept  0.152001  0.377629  0.239583\n",
            "Sentiment  1.611702  5.250852  2.909091\n"
          ]
        }
      ]
    },
    {
      "cell_type": "code",
      "metadata": {
        "id": "byiU1FzFK0Jq",
        "colab": {
          "base_uri": "https://localhost:8080/"
        },
        "outputId": "16b3d20c-c3af-4cb1-8a29-786742b2d31c"
      },
      "source": [
        "# Hồi quy Logistic (đa biến)\n",
        "\n",
        "lreg2 = smf.logit (formula = 'RateType ~ Sentiment + Year_C', data = sub1).fit()\n",
        "print(lreg2.summary()) "
      ],
      "execution_count": null,
      "outputs": [
        {
          "output_type": "stream",
          "name": "stdout",
          "text": [
            "Optimization terminated successfully.\n",
            "         Current function value: 0.580841\n",
            "         Iterations 5\n",
            "                           Logit Regression Results                           \n",
            "==============================================================================\n",
            "Dep. Variable:               RateType   No. Observations:                  231\n",
            "Model:                          Logit   Df Residuals:                      228\n",
            "Method:                           MLE   Df Model:                            2\n",
            "Date:                Thu, 04 Nov 2021   Pseudo R-squ.:                 0.04743\n",
            "Time:                        10:03:26   Log-Likelihood:                -134.17\n",
            "converged:                       True   LL-Null:                       -140.85\n",
            "Covariance Type:            nonrobust   LLR p-value:                  0.001255\n",
            "==============================================================================\n",
            "                 coef    std err          z      P>|z|      [0.025      0.975]\n",
            "------------------------------------------------------------------------------\n",
            "Intercept     -1.4098      0.236     -5.963      0.000      -1.873      -0.946\n",
            "Sentiment      1.1113      0.320      3.476      0.001       0.485       1.738\n",
            "Year_C        -0.1382      0.336     -0.411      0.681      -0.798       0.521\n",
            "==============================================================================\n"
          ]
        }
      ]
    },
    {
      "cell_type": "markdown",
      "metadata": {
        "id": "ehvyVYUjBZD8"
      },
      "source": [
        "###**Chương 5: Cây quyết định**"
      ]
    },
    {
      "cell_type": "code",
      "metadata": {
        "colab": {
          "base_uri": "https://localhost:8080/",
          "height": 372
        },
        "id": "gXxCFPQ97PQJ",
        "outputId": "e462defd-f110-437b-e44e-ea95ceca7e2e"
      },
      "source": [
        "sub1.head()"
      ],
      "execution_count": null,
      "outputs": [
        {
          "output_type": "execute_result",
          "data": {
            "text/html": [
              "<div>\n",
              "<style scoped>\n",
              "    .dataframe tbody tr th:only-of-type {\n",
              "        vertical-align: middle;\n",
              "    }\n",
              "\n",
              "    .dataframe tbody tr th {\n",
              "        vertical-align: top;\n",
              "    }\n",
              "\n",
              "    .dataframe thead th {\n",
              "        text-align: right;\n",
              "    }\n",
              "</style>\n",
              "<table border=\"1\" class=\"dataframe\">\n",
              "  <thead>\n",
              "    <tr style=\"text-align: right;\">\n",
              "      <th></th>\n",
              "      <th>Movie</th>\n",
              "      <th>Year</th>\n",
              "      <th>Ratings</th>\n",
              "      <th>Genre</th>\n",
              "      <th>Gross</th>\n",
              "      <th>Budget</th>\n",
              "      <th>Screens</th>\n",
              "      <th>Sequel</th>\n",
              "      <th>Sentiment</th>\n",
              "      <th>Views</th>\n",
              "      <th>Likes</th>\n",
              "      <th>Dislikes</th>\n",
              "      <th>Comments</th>\n",
              "      <th>Aggregate Followers</th>\n",
              "      <th>RateType</th>\n",
              "      <th>Year_C</th>\n",
              "      <th>Screens_c</th>\n",
              "      <th>Likes_c</th>\n",
              "      <th>Dislikes_c</th>\n",
              "      <th>Ratings_c</th>\n",
              "    </tr>\n",
              "  </thead>\n",
              "  <tbody>\n",
              "    <tr>\n",
              "      <th>0</th>\n",
              "      <td>13 Sins</td>\n",
              "      <td>2014</td>\n",
              "      <td>6.3</td>\n",
              "      <td>8</td>\n",
              "      <td>9130</td>\n",
              "      <td>4000000.0</td>\n",
              "      <td>45.0</td>\n",
              "      <td>1</td>\n",
              "      <td>0</td>\n",
              "      <td>3280543</td>\n",
              "      <td>4632</td>\n",
              "      <td>425</td>\n",
              "      <td>636</td>\n",
              "      <td>1120000.0</td>\n",
              "      <td>0</td>\n",
              "      <td>0</td>\n",
              "      <td>-2164.244344</td>\n",
              "      <td>-8100.536797</td>\n",
              "      <td>-254.051948</td>\n",
              "      <td>-0.141558</td>\n",
              "    </tr>\n",
              "    <tr>\n",
              "      <th>1</th>\n",
              "      <td>22 Jump Street</td>\n",
              "      <td>2014</td>\n",
              "      <td>7.1</td>\n",
              "      <td>1</td>\n",
              "      <td>192000000</td>\n",
              "      <td>50000000.0</td>\n",
              "      <td>3306.0</td>\n",
              "      <td>2</td>\n",
              "      <td>1</td>\n",
              "      <td>583289</td>\n",
              "      <td>3465</td>\n",
              "      <td>61</td>\n",
              "      <td>186</td>\n",
              "      <td>12350000.0</td>\n",
              "      <td>1</td>\n",
              "      <td>0</td>\n",
              "      <td>1096.755656</td>\n",
              "      <td>-9267.536797</td>\n",
              "      <td>-618.051948</td>\n",
              "      <td>0.658442</td>\n",
              "    </tr>\n",
              "    <tr>\n",
              "      <th>2</th>\n",
              "      <td>3 Days to Kill</td>\n",
              "      <td>2014</td>\n",
              "      <td>6.2</td>\n",
              "      <td>1</td>\n",
              "      <td>30700000</td>\n",
              "      <td>28000000.0</td>\n",
              "      <td>2872.0</td>\n",
              "      <td>1</td>\n",
              "      <td>0</td>\n",
              "      <td>304861</td>\n",
              "      <td>328</td>\n",
              "      <td>34</td>\n",
              "      <td>47</td>\n",
              "      <td>483000.0</td>\n",
              "      <td>0</td>\n",
              "      <td>0</td>\n",
              "      <td>662.755656</td>\n",
              "      <td>-12404.536797</td>\n",
              "      <td>-645.051948</td>\n",
              "      <td>-0.241558</td>\n",
              "    </tr>\n",
              "    <tr>\n",
              "      <th>3</th>\n",
              "      <td>300: Rise of an Empire</td>\n",
              "      <td>2014</td>\n",
              "      <td>6.3</td>\n",
              "      <td>1</td>\n",
              "      <td>106000000</td>\n",
              "      <td>110000000.0</td>\n",
              "      <td>3470.0</td>\n",
              "      <td>2</td>\n",
              "      <td>0</td>\n",
              "      <td>452917</td>\n",
              "      <td>2429</td>\n",
              "      <td>132</td>\n",
              "      <td>590</td>\n",
              "      <td>568000.0</td>\n",
              "      <td>0</td>\n",
              "      <td>0</td>\n",
              "      <td>1260.755656</td>\n",
              "      <td>-10303.536797</td>\n",
              "      <td>-547.051948</td>\n",
              "      <td>-0.141558</td>\n",
              "    </tr>\n",
              "    <tr>\n",
              "      <th>4</th>\n",
              "      <td>A Haunted House 2</td>\n",
              "      <td>2014</td>\n",
              "      <td>4.7</td>\n",
              "      <td>8</td>\n",
              "      <td>17300000</td>\n",
              "      <td>3500000.0</td>\n",
              "      <td>2310.0</td>\n",
              "      <td>2</td>\n",
              "      <td>0</td>\n",
              "      <td>3145573</td>\n",
              "      <td>12163</td>\n",
              "      <td>610</td>\n",
              "      <td>1082</td>\n",
              "      <td>1923800.0</td>\n",
              "      <td>0</td>\n",
              "      <td>0</td>\n",
              "      <td>100.755656</td>\n",
              "      <td>-569.536797</td>\n",
              "      <td>-69.051948</td>\n",
              "      <td>-1.741558</td>\n",
              "    </tr>\n",
              "  </tbody>\n",
              "</table>\n",
              "</div>"
            ],
            "text/plain": [
              "                    Movie  Year  Ratings  ...       Likes_c  Dislikes_c  Ratings_c\n",
              "0                 13 Sins  2014      6.3  ...  -8100.536797 -254.051948  -0.141558\n",
              "1          22 Jump Street  2014      7.1  ...  -9267.536797 -618.051948   0.658442\n",
              "2          3 Days to Kill  2014      6.2  ... -12404.536797 -645.051948  -0.241558\n",
              "3  300: Rise of an Empire  2014      6.3  ... -10303.536797 -547.051948  -0.141558\n",
              "4       A Haunted House 2  2014      4.7  ...   -569.536797  -69.051948  -1.741558\n",
              "\n",
              "[5 rows x 20 columns]"
            ]
          },
          "metadata": {},
          "execution_count": 83
        }
      ]
    },
    {
      "cell_type": "code",
      "metadata": {
        "id": "i9BQrWfqBiNS"
      },
      "source": [
        "#Chọn ra các biến có thể ảnh hưởng đến Sentiment để training mô hình\n",
        "feartures = ['Ratings', 'Gross', 'Genre','Views', 'Likes', 'Dislikes','Budget', 'Screens', 'Sequel', 'Comments', 'Aggregate Followers']"
      ],
      "execution_count": null,
      "outputs": []
    },
    {
      "cell_type": "code",
      "metadata": {
        "id": "deyDu5eMGUa8",
        "colab": {
          "base_uri": "https://localhost:8080/",
          "height": 414
        },
        "outputId": "0bc2e6e4-e802-49b7-c2ac-b0a4545dc13c"
      },
      "source": [
        "X = sub1[feartures].iloc[:,:]\n",
        "X"
      ],
      "execution_count": null,
      "outputs": [
        {
          "output_type": "execute_result",
          "data": {
            "text/html": [
              "<div>\n",
              "<style scoped>\n",
              "    .dataframe tbody tr th:only-of-type {\n",
              "        vertical-align: middle;\n",
              "    }\n",
              "\n",
              "    .dataframe tbody tr th {\n",
              "        vertical-align: top;\n",
              "    }\n",
              "\n",
              "    .dataframe thead th {\n",
              "        text-align: right;\n",
              "    }\n",
              "</style>\n",
              "<table border=\"1\" class=\"dataframe\">\n",
              "  <thead>\n",
              "    <tr style=\"text-align: right;\">\n",
              "      <th></th>\n",
              "      <th>Ratings</th>\n",
              "      <th>Gross</th>\n",
              "      <th>Genre</th>\n",
              "      <th>Views</th>\n",
              "      <th>Likes</th>\n",
              "      <th>Dislikes</th>\n",
              "      <th>Budget</th>\n",
              "      <th>Screens</th>\n",
              "      <th>Sequel</th>\n",
              "      <th>Comments</th>\n",
              "      <th>Aggregate Followers</th>\n",
              "    </tr>\n",
              "  </thead>\n",
              "  <tbody>\n",
              "    <tr>\n",
              "      <th>0</th>\n",
              "      <td>6.3</td>\n",
              "      <td>9130</td>\n",
              "      <td>8</td>\n",
              "      <td>3280543</td>\n",
              "      <td>4632</td>\n",
              "      <td>425</td>\n",
              "      <td>4000000.0</td>\n",
              "      <td>45.000000</td>\n",
              "      <td>1</td>\n",
              "      <td>636</td>\n",
              "      <td>1.120000e+06</td>\n",
              "    </tr>\n",
              "    <tr>\n",
              "      <th>1</th>\n",
              "      <td>7.1</td>\n",
              "      <td>192000000</td>\n",
              "      <td>1</td>\n",
              "      <td>583289</td>\n",
              "      <td>3465</td>\n",
              "      <td>61</td>\n",
              "      <td>50000000.0</td>\n",
              "      <td>3306.000000</td>\n",
              "      <td>2</td>\n",
              "      <td>186</td>\n",
              "      <td>1.235000e+07</td>\n",
              "    </tr>\n",
              "    <tr>\n",
              "      <th>2</th>\n",
              "      <td>6.2</td>\n",
              "      <td>30700000</td>\n",
              "      <td>1</td>\n",
              "      <td>304861</td>\n",
              "      <td>328</td>\n",
              "      <td>34</td>\n",
              "      <td>28000000.0</td>\n",
              "      <td>2872.000000</td>\n",
              "      <td>1</td>\n",
              "      <td>47</td>\n",
              "      <td>4.830000e+05</td>\n",
              "    </tr>\n",
              "    <tr>\n",
              "      <th>3</th>\n",
              "      <td>6.3</td>\n",
              "      <td>106000000</td>\n",
              "      <td>1</td>\n",
              "      <td>452917</td>\n",
              "      <td>2429</td>\n",
              "      <td>132</td>\n",
              "      <td>110000000.0</td>\n",
              "      <td>3470.000000</td>\n",
              "      <td>2</td>\n",
              "      <td>590</td>\n",
              "      <td>5.680000e+05</td>\n",
              "    </tr>\n",
              "    <tr>\n",
              "      <th>4</th>\n",
              "      <td>4.7</td>\n",
              "      <td>17300000</td>\n",
              "      <td>8</td>\n",
              "      <td>3145573</td>\n",
              "      <td>12163</td>\n",
              "      <td>610</td>\n",
              "      <td>3500000.0</td>\n",
              "      <td>2310.000000</td>\n",
              "      <td>2</td>\n",
              "      <td>1082</td>\n",
              "      <td>1.923800e+06</td>\n",
              "    </tr>\n",
              "    <tr>\n",
              "      <th>...</th>\n",
              "      <td>...</td>\n",
              "      <td>...</td>\n",
              "      <td>...</td>\n",
              "      <td>...</td>\n",
              "      <td>...</td>\n",
              "      <td>...</td>\n",
              "      <td>...</td>\n",
              "      <td>...</td>\n",
              "      <td>...</td>\n",
              "      <td>...</td>\n",
              "      <td>...</td>\n",
              "    </tr>\n",
              "    <tr>\n",
              "      <th>226</th>\n",
              "      <td>6.4</td>\n",
              "      <td>1210000</td>\n",
              "      <td>4</td>\n",
              "      <td>3701061</td>\n",
              "      <td>9325</td>\n",
              "      <td>641</td>\n",
              "      <td>50000000.0</td>\n",
              "      <td>66.000000</td>\n",
              "      <td>1</td>\n",
              "      <td>1859</td>\n",
              "      <td>3.038193e+06</td>\n",
              "    </tr>\n",
              "    <tr>\n",
              "      <th>227</th>\n",
              "      <td>5.5</td>\n",
              "      <td>21000000</td>\n",
              "      <td>15</td>\n",
              "      <td>7119456</td>\n",
              "      <td>18803</td>\n",
              "      <td>1128</td>\n",
              "      <td>37000000.0</td>\n",
              "      <td>2815.000000</td>\n",
              "      <td>1</td>\n",
              "      <td>2290</td>\n",
              "      <td>3.038193e+06</td>\n",
              "    </tr>\n",
              "    <tr>\n",
              "      <th>228</th>\n",
              "      <td>5.4</td>\n",
              "      <td>10200000</td>\n",
              "      <td>8</td>\n",
              "      <td>3450614</td>\n",
              "      <td>6823</td>\n",
              "      <td>325</td>\n",
              "      <td>35000000.0</td>\n",
              "      <td>2777.000000</td>\n",
              "      <td>1</td>\n",
              "      <td>409</td>\n",
              "      <td>3.038193e+06</td>\n",
              "    </tr>\n",
              "    <tr>\n",
              "      <th>229</th>\n",
              "      <td>5.4</td>\n",
              "      <td>12300000</td>\n",
              "      <td>1</td>\n",
              "      <td>66872</td>\n",
              "      <td>400</td>\n",
              "      <td>67</td>\n",
              "      <td>3000000.0</td>\n",
              "      <td>2209.244344</td>\n",
              "      <td>1</td>\n",
              "      <td>201</td>\n",
              "      <td>3.038193e+06</td>\n",
              "    </tr>\n",
              "    <tr>\n",
              "      <th>230</th>\n",
              "      <td>4.4</td>\n",
              "      <td>22600000</td>\n",
              "      <td>15</td>\n",
              "      <td>659772</td>\n",
              "      <td>2841</td>\n",
              "      <td>431</td>\n",
              "      <td>100000.0</td>\n",
              "      <td>2720.000000</td>\n",
              "      <td>1</td>\n",
              "      <td>606</td>\n",
              "      <td>3.038193e+06</td>\n",
              "    </tr>\n",
              "  </tbody>\n",
              "</table>\n",
              "<p>231 rows × 11 columns</p>\n",
              "</div>"
            ],
            "text/plain": [
              "     Ratings      Gross  Genre  ...  Sequel  Comments  Aggregate Followers\n",
              "0        6.3       9130      8  ...       1       636         1.120000e+06\n",
              "1        7.1  192000000      1  ...       2       186         1.235000e+07\n",
              "2        6.2   30700000      1  ...       1        47         4.830000e+05\n",
              "3        6.3  106000000      1  ...       2       590         5.680000e+05\n",
              "4        4.7   17300000      8  ...       2      1082         1.923800e+06\n",
              "..       ...        ...    ...  ...     ...       ...                  ...\n",
              "226      6.4    1210000      4  ...       1      1859         3.038193e+06\n",
              "227      5.5   21000000     15  ...       1      2290         3.038193e+06\n",
              "228      5.4   10200000      8  ...       1       409         3.038193e+06\n",
              "229      5.4   12300000      1  ...       1       201         3.038193e+06\n",
              "230      4.4   22600000     15  ...       1       606         3.038193e+06\n",
              "\n",
              "[231 rows x 11 columns]"
            ]
          },
          "metadata": {},
          "execution_count": 85
        }
      ]
    },
    {
      "cell_type": "code",
      "metadata": {
        "colab": {
          "base_uri": "https://localhost:8080/"
        },
        "id": "-QnlJazH7_lJ",
        "outputId": "8e98ddfe-72ba-4711-e7b3-8b4f6e0de29d"
      },
      "source": [
        "y = sub1['Sentiment']\n",
        "y"
      ],
      "execution_count": null,
      "outputs": [
        {
          "output_type": "execute_result",
          "data": {
            "text/plain": [
              "0      0\n",
              "1      1\n",
              "2      0\n",
              "3      0\n",
              "4      0\n",
              "      ..\n",
              "226    1\n",
              "227    1\n",
              "228    1\n",
              "229    1\n",
              "230    0\n",
              "Name: Sentiment, Length: 231, dtype: int64"
            ]
          },
          "metadata": {},
          "execution_count": 86
        }
      ]
    },
    {
      "cell_type": "code",
      "metadata": {
        "id": "-muoT3Re8bBQ"
      },
      "source": [
        "#Tạo tập test và tập train\n",
        "X_train, X_test, y_train, y_test = train_test_split(X, y, test_size=0.2, random_state=101)"
      ],
      "execution_count": null,
      "outputs": []
    },
    {
      "cell_type": "code",
      "metadata": {
        "colab": {
          "base_uri": "https://localhost:8080/"
        },
        "id": "-TZEnOW28dn7",
        "outputId": "8ed57bca-e808-44b1-b032-23bb4f237a8f"
      },
      "source": [
        "X_train.shape"
      ],
      "execution_count": null,
      "outputs": [
        {
          "output_type": "execute_result",
          "data": {
            "text/plain": [
              "(184, 11)"
            ]
          },
          "metadata": {},
          "execution_count": 88
        }
      ]
    },
    {
      "cell_type": "code",
      "metadata": {
        "colab": {
          "base_uri": "https://localhost:8080/"
        },
        "id": "EsAIex-X8huR",
        "outputId": "7852c7d8-83fd-4775-e5e6-3f8a513f9874"
      },
      "source": [
        "X_test.shape"
      ],
      "execution_count": null,
      "outputs": [
        {
          "output_type": "execute_result",
          "data": {
            "text/plain": [
              "(47, 11)"
            ]
          },
          "metadata": {},
          "execution_count": 89
        }
      ]
    },
    {
      "cell_type": "markdown",
      "metadata": {
        "id": "hPWkB0TX8ksX"
      },
      "source": [
        "Tập ban đầu đã được chia thành 2 tập train chiếm 80% và tập test chiếm 20%"
      ]
    },
    {
      "cell_type": "code",
      "metadata": {
        "colab": {
          "base_uri": "https://localhost:8080/",
          "height": 202
        },
        "id": "UdgA4UN___G1",
        "outputId": "bd9be61d-2378-4f0b-e247-2dc29f8673c0"
      },
      "source": [
        "X_train.head()"
      ],
      "execution_count": null,
      "outputs": [
        {
          "output_type": "execute_result",
          "data": {
            "text/html": [
              "<div>\n",
              "<style scoped>\n",
              "    .dataframe tbody tr th:only-of-type {\n",
              "        vertical-align: middle;\n",
              "    }\n",
              "\n",
              "    .dataframe tbody tr th {\n",
              "        vertical-align: top;\n",
              "    }\n",
              "\n",
              "    .dataframe thead th {\n",
              "        text-align: right;\n",
              "    }\n",
              "</style>\n",
              "<table border=\"1\" class=\"dataframe\">\n",
              "  <thead>\n",
              "    <tr style=\"text-align: right;\">\n",
              "      <th></th>\n",
              "      <th>Ratings</th>\n",
              "      <th>Gross</th>\n",
              "      <th>Genre</th>\n",
              "      <th>Views</th>\n",
              "      <th>Likes</th>\n",
              "      <th>Dislikes</th>\n",
              "      <th>Budget</th>\n",
              "      <th>Screens</th>\n",
              "      <th>Sequel</th>\n",
              "      <th>Comments</th>\n",
              "      <th>Aggregate Followers</th>\n",
              "    </tr>\n",
              "  </thead>\n",
              "  <tbody>\n",
              "    <tr>\n",
              "      <th>181</th>\n",
              "      <td>6.8</td>\n",
              "      <td>89400000</td>\n",
              "      <td>1</td>\n",
              "      <td>84870</td>\n",
              "      <td>265</td>\n",
              "      <td>13</td>\n",
              "      <td>155000000.0</td>\n",
              "      <td>3758.0</td>\n",
              "      <td>5</td>\n",
              "      <td>63</td>\n",
              "      <td>3.877901e+06</td>\n",
              "    </tr>\n",
              "    <tr>\n",
              "      <th>218</th>\n",
              "      <td>7.7</td>\n",
              "      <td>49500000</td>\n",
              "      <td>1</td>\n",
              "      <td>11476882</td>\n",
              "      <td>40496</td>\n",
              "      <td>1383</td>\n",
              "      <td>30000000.0</td>\n",
              "      <td>2772.0</td>\n",
              "      <td>1</td>\n",
              "      <td>4435</td>\n",
              "      <td>3.038193e+06</td>\n",
              "    </tr>\n",
              "    <tr>\n",
              "      <th>123</th>\n",
              "      <td>7.4</td>\n",
              "      <td>2720000</td>\n",
              "      <td>3</td>\n",
              "      <td>1303646</td>\n",
              "      <td>3306</td>\n",
              "      <td>211</td>\n",
              "      <td>20000000.0</td>\n",
              "      <td>461.0</td>\n",
              "      <td>1</td>\n",
              "      <td>564</td>\n",
              "      <td>7.598000e+05</td>\n",
              "    </tr>\n",
              "    <tr>\n",
              "      <th>15</th>\n",
              "      <td>6.6</td>\n",
              "      <td>11800</td>\n",
              "      <td>8</td>\n",
              "      <td>3915978</td>\n",
              "      <td>6983</td>\n",
              "      <td>247</td>\n",
              "      <td>6000000.0</td>\n",
              "      <td>18.0</td>\n",
              "      <td>1</td>\n",
              "      <td>460</td>\n",
              "      <td>2.530000e+05</td>\n",
              "    </tr>\n",
              "    <tr>\n",
              "      <th>88</th>\n",
              "      <td>6.8</td>\n",
              "      <td>83300000</td>\n",
              "      <td>12</td>\n",
              "      <td>1223790</td>\n",
              "      <td>2934</td>\n",
              "      <td>123</td>\n",
              "      <td>132000000.0</td>\n",
              "      <td>32.0</td>\n",
              "      <td>1</td>\n",
              "      <td>226</td>\n",
              "      <td>4.720000e+04</td>\n",
              "    </tr>\n",
              "  </tbody>\n",
              "</table>\n",
              "</div>"
            ],
            "text/plain": [
              "     Ratings     Gross  Genre  ...  Sequel  Comments  Aggregate Followers\n",
              "181      6.8  89400000      1  ...       5        63         3.877901e+06\n",
              "218      7.7  49500000      1  ...       1      4435         3.038193e+06\n",
              "123      7.4   2720000      3  ...       1       564         7.598000e+05\n",
              "15       6.6     11800      8  ...       1       460         2.530000e+05\n",
              "88       6.8  83300000     12  ...       1       226         4.720000e+04\n",
              "\n",
              "[5 rows x 11 columns]"
            ]
          },
          "metadata": {},
          "execution_count": 90
        }
      ]
    },
    {
      "cell_type": "code",
      "metadata": {
        "colab": {
          "base_uri": "https://localhost:8080/"
        },
        "id": "m2o3PxCOAEVe",
        "outputId": "19b3ec8a-9ce3-4d4b-f65b-9502ad06c674"
      },
      "source": [
        "y_train.head()"
      ],
      "execution_count": null,
      "outputs": [
        {
          "output_type": "execute_result",
          "data": {
            "text/plain": [
              "181    0\n",
              "218    1\n",
              "123    0\n",
              "15     1\n",
              "88     1\n",
              "Name: Sentiment, dtype: int64"
            ]
          },
          "metadata": {},
          "execution_count": 66
        }
      ]
    },
    {
      "cell_type": "code",
      "metadata": {
        "id": "ufmZMsMk8n8J"
      },
      "source": [
        "dt_model = tree.DecisionTreeClassifier(criterion='entropy', max_depth=5, min_samples_leaf=4, min_samples_split=20)"
      ],
      "execution_count": null,
      "outputs": []
    },
    {
      "cell_type": "code",
      "metadata": {
        "colab": {
          "base_uri": "https://localhost:8080/"
        },
        "id": "AKLTAiiH8z7_",
        "outputId": "fdb36878-d52e-4f06-dc3c-a6d3ba4ca3a2"
      },
      "source": [
        "#Fit model\n",
        "dt_model.fit(X_train, y_train)"
      ],
      "execution_count": null,
      "outputs": [
        {
          "output_type": "execute_result",
          "data": {
            "text/plain": [
              "DecisionTreeClassifier(ccp_alpha=0.0, class_weight=None, criterion='entropy',\n",
              "                       max_depth=5, max_features=None, max_leaf_nodes=None,\n",
              "                       min_impurity_decrease=0.0, min_impurity_split=None,\n",
              "                       min_samples_leaf=4, min_samples_split=20,\n",
              "                       min_weight_fraction_leaf=0.0, presort='deprecated',\n",
              "                       random_state=None, splitter='best')"
            ]
          },
          "metadata": {},
          "execution_count": 68
        }
      ]
    },
    {
      "cell_type": "code",
      "metadata": {
        "colab": {
          "base_uri": "https://localhost:8080/"
        },
        "id": "fJpUzMQU8-fv",
        "outputId": "d2331a88-a5a8-442a-b9ee-1260befd88c0"
      },
      "source": [
        "#Dự đoán thử tập test cho ra mức độ chính xác của mô hình trên là như thế nào\n",
        "y_pred = dt_model.predict(X_test)\n",
        "y_pred"
      ],
      "execution_count": null,
      "outputs": [
        {
          "output_type": "execute_result",
          "data": {
            "text/plain": [
              "array([0, 1, 1, 1, 0, 1, 1, 0, 1, 0, 0, 1, 1, 0, 0, 1, 1, 0, 1, 0, 0, 1,\n",
              "       0, 0, 0, 0, 1, 0, 0, 0, 1, 1, 0, 0, 0, 0, 0, 0, 0, 1, 0, 1, 0, 1,\n",
              "       0, 1, 1])"
            ]
          },
          "metadata": {},
          "execution_count": 69
        }
      ]
    },
    {
      "cell_type": "code",
      "metadata": {
        "colab": {
          "base_uri": "https://localhost:8080/"
        },
        "id": "n7Kipm819x-I",
        "outputId": "fd81f688-5148-44aa-e4ce-b35ef63abf79"
      },
      "source": [
        "y_test.values"
      ],
      "execution_count": null,
      "outputs": [
        {
          "output_type": "execute_result",
          "data": {
            "text/plain": [
              "array([0, 1, 1, 1, 1, 1, 1, 1, 1, 1, 0, 0, 1, 0, 0, 0, 1, 0, 1, 1, 0, 1,\n",
              "       1, 0, 0, 0, 1, 1, 1, 0, 1, 1, 0, 0, 1, 0, 1, 1, 0, 0, 0, 1, 0, 1,\n",
              "       1, 0, 1])"
            ]
          },
          "metadata": {},
          "execution_count": 70
        }
      ]
    },
    {
      "cell_type": "code",
      "metadata": {
        "colab": {
          "base_uri": "https://localhost:8080/",
          "height": 203
        },
        "id": "J7oHEYPV-CDM",
        "outputId": "13b5a639-e37d-4bca-ea57-0d2c64b8a093"
      },
      "source": [
        "metrics.accuracy_score(y_test, y_pred)"
      ],
      "execution_count": null,
      "outputs": [
        {
          "output_type": "error",
          "ename": "NameError",
          "evalue": "ignored",
          "traceback": [
            "\u001b[0;31m---------------------------------------------------------------------------\u001b[0m",
            "\u001b[0;31mNameError\u001b[0m                                 Traceback (most recent call last)",
            "\u001b[0;32m<ipython-input-17-d17b81fd4359>\u001b[0m in \u001b[0;36m<module>\u001b[0;34m()\u001b[0m\n\u001b[0;32m----> 1\u001b[0;31m \u001b[0mprint\u001b[0m\u001b[0;34m(\u001b[0m\u001b[0mconf_ma\u001b[0m\u001b[0;34m)\u001b[0m\u001b[0;34m\u001b[0m\u001b[0;34m\u001b[0m\u001b[0m\n\u001b[0m\u001b[1;32m      2\u001b[0m \u001b[0mprint\u001b[0m\u001b[0;34m(\u001b[0m\u001b[0;34m)\u001b[0m\u001b[0;34m\u001b[0m\u001b[0;34m\u001b[0m\u001b[0m\n\u001b[1;32m      3\u001b[0m \u001b[0mmetrics\u001b[0m\u001b[0;34m.\u001b[0m\u001b[0maccuracy_score\u001b[0m\u001b[0;34m(\u001b[0m\u001b[0my_test\u001b[0m\u001b[0;34m,\u001b[0m \u001b[0my_pred\u001b[0m\u001b[0;34m)\u001b[0m\u001b[0;34m\u001b[0m\u001b[0;34m\u001b[0m\u001b[0m\n",
            "\u001b[0;31mNameError\u001b[0m: name 'conf_ma' is not defined"
          ]
        }
      ]
    },
    {
      "cell_type": "code",
      "metadata": {
        "id": "gTvqBgZwDUmY"
      },
      "source": [
        "#Xuất mô hình đã huấn luyện ở định dạng mà graphviz có thể đọc được\n",
        "dot_data = tree.export_graphviz(dt_model, out_file=None, filled=True, rounded=True, feature_names=feartures[:], proportion=True, class_names=['Not defaulted', 'Defaulted'])"
      ],
      "execution_count": null,
      "outputs": []
    },
    {
      "cell_type": "markdown",
      "metadata": {
        "id": "xc4-vhOKD18F"
      },
      "source": [
        "Trong đó:\n",
        "filed=True: mỗi node sẽ được tô màu\n",
        "<br/>rounded=True: các node đc hiện thị dưới dạng chữ nhật có co góc tròn\n",
        "<br/>proportion=True: tỷ lệ mỗi mẫu trong mỗi node sẽ đc hiển thị"
      ]
    },
    {
      "cell_type": "code",
      "metadata": {
        "colab": {
          "base_uri": "https://localhost:8080/",
          "height": 936
        },
        "id": "ygouPrJdD2p3",
        "outputId": "6925a764-a7f2-4981-e278-81b9f3a126bb"
      },
      "source": [
        "#Sử dụng phương thức .Source của graphviz để tạo hình ảnh từ dot_data\n",
        "graph = graphviz.Source(dot_data)\n",
        "graph"
      ],
      "execution_count": null,
      "outputs": [
        {
          "output_type": "execute_result",
          "data": {
            "text/plain": [
              "<graphviz.files.Source at 0x7f9a49f9df10>"
            ],
            "image/svg+xml": "<?xml version=\"1.0\" encoding=\"UTF-8\" standalone=\"no\"?>\n<!DOCTYPE svg PUBLIC \"-//W3C//DTD SVG 1.1//EN\"\n \"http://www.w3.org/Graphics/SVG/1.1/DTD/svg11.dtd\">\n<!-- Generated by graphviz version 2.40.1 (20161225.0304)\n -->\n<!-- Title: Tree Pages: 1 -->\n<svg width=\"1078pt\" height=\"671pt\"\n viewBox=\"0.00 0.00 1078.00 671.00\" xmlns=\"http://www.w3.org/2000/svg\" xmlns:xlink=\"http://www.w3.org/1999/xlink\">\n<g id=\"graph0\" class=\"graph\" transform=\"scale(1 1) rotate(0) translate(4 667)\">\n<title>Tree</title>\n<polygon fill=\"#ffffff\" stroke=\"transparent\" points=\"-4,4 -4,-667 1074,-667 1074,4 -4,4\"/>\n<!-- 0 -->\n<g id=\"node1\" class=\"node\">\n<title>0</title>\n<path fill=\"#fbede3\" stroke=\"#000000\" d=\"M632,-663C632,-663 500,-663 500,-663 494,-663 488,-657 488,-651 488,-651 488,-592 488,-592 488,-586 494,-580 500,-580 500,-580 632,-580 632,-580 638,-580 644,-586 644,-592 644,-592 644,-651 644,-651 644,-657 638,-663 632,-663\"/>\n<text text-anchor=\"middle\" x=\"566\" y=\"-647.8\" font-family=\"Helvetica,sans-Serif\" font-size=\"14.00\" fill=\"#000000\">Ratings &lt;= 6.35</text>\n<text text-anchor=\"middle\" x=\"566\" y=\"-632.8\" font-family=\"Helvetica,sans-Serif\" font-size=\"14.00\" fill=\"#000000\">entropy = 0.996</text>\n<text text-anchor=\"middle\" x=\"566\" y=\"-617.8\" font-family=\"Helvetica,sans-Serif\" font-size=\"14.00\" fill=\"#000000\">samples = 100.0%</text>\n<text text-anchor=\"middle\" x=\"566\" y=\"-602.8\" font-family=\"Helvetica,sans-Serif\" font-size=\"14.00\" fill=\"#000000\">value = [0.538, 0.462]</text>\n<text text-anchor=\"middle\" x=\"566\" y=\"-587.8\" font-family=\"Helvetica,sans-Serif\" font-size=\"14.00\" fill=\"#000000\">class = Not defaulted</text>\n</g>\n<!-- 1 -->\n<g id=\"node2\" class=\"node\">\n<title>1</title>\n<path fill=\"#efb083\" stroke=\"#000000\" d=\"M527.5,-544C527.5,-544 386.5,-544 386.5,-544 380.5,-544 374.5,-538 374.5,-532 374.5,-532 374.5,-473 374.5,-473 374.5,-467 380.5,-461 386.5,-461 386.5,-461 527.5,-461 527.5,-461 533.5,-461 539.5,-467 539.5,-473 539.5,-473 539.5,-532 539.5,-532 539.5,-538 533.5,-544 527.5,-544\"/>\n<text text-anchor=\"middle\" x=\"457\" y=\"-528.8\" font-family=\"Helvetica,sans-Serif\" font-size=\"14.00\" fill=\"#000000\">Budget &lt;= 13600000.0</text>\n<text text-anchor=\"middle\" x=\"457\" y=\"-513.8\" font-family=\"Helvetica,sans-Serif\" font-size=\"14.00\" fill=\"#000000\">entropy = 0.844</text>\n<text text-anchor=\"middle\" x=\"457\" y=\"-498.8\" font-family=\"Helvetica,sans-Serif\" font-size=\"14.00\" fill=\"#000000\">samples = 44.0%</text>\n<text text-anchor=\"middle\" x=\"457\" y=\"-483.8\" font-family=\"Helvetica,sans-Serif\" font-size=\"14.00\" fill=\"#000000\">value = [0.728, 0.272]</text>\n<text text-anchor=\"middle\" x=\"457\" y=\"-468.8\" font-family=\"Helvetica,sans-Serif\" font-size=\"14.00\" fill=\"#000000\">class = Not defaulted</text>\n</g>\n<!-- 0&#45;&gt;1 -->\n<g id=\"edge1\" class=\"edge\">\n<title>0&#45;&gt;1</title>\n<path fill=\"none\" stroke=\"#000000\" d=\"M527.8771,-579.8796C519.5451,-570.7832 510.6502,-561.0722 502.0761,-551.7116\"/>\n<polygon fill=\"#000000\" stroke=\"#000000\" points=\"504.6211,-549.3081 495.2856,-544.2981 499.4592,-554.0363 504.6211,-549.3081\"/>\n<text text-anchor=\"middle\" x=\"494.1902\" y=\"-565.5741\" font-family=\"Helvetica,sans-Serif\" font-size=\"14.00\" fill=\"#000000\">True</text>\n</g>\n<!-- 12 -->\n<g id=\"node13\" class=\"node\">\n<title>12</title>\n<path fill=\"#b7dbf6\" stroke=\"#000000\" d=\"M741,-544C741,-544 609,-544 609,-544 603,-544 597,-538 597,-532 597,-532 597,-473 597,-473 597,-467 603,-461 609,-461 609,-461 741,-461 741,-461 747,-461 753,-467 753,-473 753,-473 753,-532 753,-532 753,-538 747,-544 741,-544\"/>\n<text text-anchor=\"middle\" x=\"675\" y=\"-528.8\" font-family=\"Helvetica,sans-Serif\" font-size=\"14.00\" fill=\"#000000\">Comments &lt;= 85.0</text>\n<text text-anchor=\"middle\" x=\"675\" y=\"-513.8\" font-family=\"Helvetica,sans-Serif\" font-size=\"14.00\" fill=\"#000000\">entropy = 0.964</text>\n<text text-anchor=\"middle\" x=\"675\" y=\"-498.8\" font-family=\"Helvetica,sans-Serif\" font-size=\"14.00\" fill=\"#000000\">samples = 56.0%</text>\n<text text-anchor=\"middle\" x=\"675\" y=\"-483.8\" font-family=\"Helvetica,sans-Serif\" font-size=\"14.00\" fill=\"#000000\">value = [0.388, 0.612]</text>\n<text text-anchor=\"middle\" x=\"675\" y=\"-468.8\" font-family=\"Helvetica,sans-Serif\" font-size=\"14.00\" fill=\"#000000\">class = Defaulted</text>\n</g>\n<!-- 0&#45;&gt;12 -->\n<g id=\"edge12\" class=\"edge\">\n<title>0&#45;&gt;12</title>\n<path fill=\"none\" stroke=\"#000000\" d=\"M604.1229,-579.8796C612.4549,-570.7832 621.3498,-561.0722 629.9239,-551.7116\"/>\n<polygon fill=\"#000000\" stroke=\"#000000\" points=\"632.5408,-554.0363 636.7144,-544.2981 627.3789,-549.3081 632.5408,-554.0363\"/>\n<text text-anchor=\"middle\" x=\"637.8098\" y=\"-565.5741\" font-family=\"Helvetica,sans-Serif\" font-size=\"14.00\" fill=\"#000000\">False</text>\n</g>\n<!-- 2 -->\n<g id=\"node3\" class=\"node\">\n<title>2</title>\n<path fill=\"#e89253\" stroke=\"#000000\" d=\"M304.5,-425C304.5,-425 171.5,-425 171.5,-425 165.5,-425 159.5,-419 159.5,-413 159.5,-413 159.5,-354 159.5,-354 159.5,-348 165.5,-342 171.5,-342 171.5,-342 304.5,-342 304.5,-342 310.5,-342 316.5,-348 316.5,-354 316.5,-354 316.5,-413 316.5,-413 316.5,-419 310.5,-425 304.5,-425\"/>\n<text text-anchor=\"middle\" x=\"238\" y=\"-409.8\" font-family=\"Helvetica,sans-Serif\" font-size=\"14.00\" fill=\"#000000\">Budget &lt;= 4750000.0</text>\n<text text-anchor=\"middle\" x=\"238\" y=\"-394.8\" font-family=\"Helvetica,sans-Serif\" font-size=\"14.00\" fill=\"#000000\">entropy = 0.523</text>\n<text text-anchor=\"middle\" x=\"238\" y=\"-379.8\" font-family=\"Helvetica,sans-Serif\" font-size=\"14.00\" fill=\"#000000\">samples = 18.5%</text>\n<text text-anchor=\"middle\" x=\"238\" y=\"-364.8\" font-family=\"Helvetica,sans-Serif\" font-size=\"14.00\" fill=\"#000000\">value = [0.882, 0.118]</text>\n<text text-anchor=\"middle\" x=\"238\" y=\"-349.8\" font-family=\"Helvetica,sans-Serif\" font-size=\"14.00\" fill=\"#000000\">class = Not defaulted</text>\n</g>\n<!-- 1&#45;&gt;2 -->\n<g id=\"edge2\" class=\"edge\">\n<title>1&#45;&gt;2</title>\n<path fill=\"none\" stroke=\"#000000\" d=\"M380.4044,-460.8796C361.983,-450.8697 342.1918,-440.1156 323.3974,-429.9031\"/>\n<polygon fill=\"#000000\" stroke=\"#000000\" points=\"325.01,-426.7961 314.5523,-425.0969 321.6679,-432.9468 325.01,-426.7961\"/>\n</g>\n<!-- 5 -->\n<g id=\"node6\" class=\"node\">\n<title>5</title>\n<path fill=\"#f5cfb4\" stroke=\"#000000\" d=\"M567,-425C567,-425 347,-425 347,-425 341,-425 335,-419 335,-413 335,-413 335,-354 335,-354 335,-348 341,-342 347,-342 347,-342 567,-342 567,-342 573,-342 579,-348 579,-354 579,-354 579,-413 579,-413 579,-419 573,-425 567,-425\"/>\n<text text-anchor=\"middle\" x=\"457\" y=\"-409.8\" font-family=\"Helvetica,sans-Serif\" font-size=\"14.00\" fill=\"#000000\">Aggregate Followers &lt;= 7316500.0</text>\n<text text-anchor=\"middle\" x=\"457\" y=\"-394.8\" font-family=\"Helvetica,sans-Serif\" font-size=\"14.00\" fill=\"#000000\">entropy = 0.96</text>\n<text text-anchor=\"middle\" x=\"457\" y=\"-379.8\" font-family=\"Helvetica,sans-Serif\" font-size=\"14.00\" fill=\"#000000\">samples = 25.5%</text>\n<text text-anchor=\"middle\" x=\"457\" y=\"-364.8\" font-family=\"Helvetica,sans-Serif\" font-size=\"14.00\" fill=\"#000000\">value = [0.617, 0.383]</text>\n<text text-anchor=\"middle\" x=\"457\" y=\"-349.8\" font-family=\"Helvetica,sans-Serif\" font-size=\"14.00\" fill=\"#000000\">class = Not defaulted</text>\n</g>\n<!-- 1&#45;&gt;5 -->\n<g id=\"edge5\" class=\"edge\">\n<title>1&#45;&gt;5</title>\n<path fill=\"none\" stroke=\"#000000\" d=\"M457,-460.8796C457,-452.6838 457,-443.9891 457,-435.5013\"/>\n<polygon fill=\"#000000\" stroke=\"#000000\" points=\"460.5001,-435.298 457,-425.2981 453.5001,-435.2981 460.5001,-435.298\"/>\n</g>\n<!-- 3 -->\n<g id=\"node4\" class=\"node\">\n<title>3</title>\n<path fill=\"#efb388\" stroke=\"#000000\" d=\"M144,-298.5C144,-298.5 12,-298.5 12,-298.5 6,-298.5 0,-292.5 0,-286.5 0,-286.5 0,-242.5 0,-242.5 0,-236.5 6,-230.5 12,-230.5 12,-230.5 144,-230.5 144,-230.5 150,-230.5 156,-236.5 156,-242.5 156,-242.5 156,-286.5 156,-286.5 156,-292.5 150,-298.5 144,-298.5\"/>\n<text text-anchor=\"middle\" x=\"78\" y=\"-283.3\" font-family=\"Helvetica,sans-Serif\" font-size=\"14.00\" fill=\"#000000\">entropy = 0.863</text>\n<text text-anchor=\"middle\" x=\"78\" y=\"-268.3\" font-family=\"Helvetica,sans-Serif\" font-size=\"14.00\" fill=\"#000000\">samples = 7.6%</text>\n<text text-anchor=\"middle\" x=\"78\" y=\"-253.3\" font-family=\"Helvetica,sans-Serif\" font-size=\"14.00\" fill=\"#000000\">value = [0.714, 0.286]</text>\n<text text-anchor=\"middle\" x=\"78\" y=\"-238.3\" font-family=\"Helvetica,sans-Serif\" font-size=\"14.00\" fill=\"#000000\">class = Not defaulted</text>\n</g>\n<!-- 2&#45;&gt;3 -->\n<g id=\"edge3\" class=\"edge\">\n<title>2&#45;&gt;3</title>\n<path fill=\"none\" stroke=\"#000000\" d=\"M182.0398,-341.8796C165.8478,-329.8368 148.2073,-316.7167 132.1292,-304.7586\"/>\n<polygon fill=\"#000000\" stroke=\"#000000\" points=\"133.9925,-301.7825 123.8797,-298.623 129.815,-307.3993 133.9925,-301.7825\"/>\n</g>\n<!-- 4 -->\n<g id=\"node5\" class=\"node\">\n<title>4</title>\n<path fill=\"#e58139\" stroke=\"#000000\" d=\"M314,-298.5C314,-298.5 186,-298.5 186,-298.5 180,-298.5 174,-292.5 174,-286.5 174,-286.5 174,-242.5 174,-242.5 174,-236.5 180,-230.5 186,-230.5 186,-230.5 314,-230.5 314,-230.5 320,-230.5 326,-236.5 326,-242.5 326,-242.5 326,-286.5 326,-286.5 326,-292.5 320,-298.5 314,-298.5\"/>\n<text text-anchor=\"middle\" x=\"250\" y=\"-283.3\" font-family=\"Helvetica,sans-Serif\" font-size=\"14.00\" fill=\"#000000\">entropy = 0.0</text>\n<text text-anchor=\"middle\" x=\"250\" y=\"-268.3\" font-family=\"Helvetica,sans-Serif\" font-size=\"14.00\" fill=\"#000000\">samples = 10.9%</text>\n<text text-anchor=\"middle\" x=\"250\" y=\"-253.3\" font-family=\"Helvetica,sans-Serif\" font-size=\"14.00\" fill=\"#000000\">value = [1.0, 0.0]</text>\n<text text-anchor=\"middle\" x=\"250\" y=\"-238.3\" font-family=\"Helvetica,sans-Serif\" font-size=\"14.00\" fill=\"#000000\">class = Not defaulted</text>\n</g>\n<!-- 2&#45;&gt;4 -->\n<g id=\"edge4\" class=\"edge\">\n<title>2&#45;&gt;4</title>\n<path fill=\"none\" stroke=\"#000000\" d=\"M242.197,-341.8796C243.2726,-331.2134 244.4334,-319.7021 245.5225,-308.9015\"/>\n<polygon fill=\"#000000\" stroke=\"#000000\" points=\"249.0186,-309.1157 246.5397,-298.8149 242.0539,-308.4133 249.0186,-309.1157\"/>\n</g>\n<!-- 6 -->\n<g id=\"node7\" class=\"node\">\n<title>6</title>\n<path fill=\"#f8dcc8\" stroke=\"#000000\" d=\"M511,-306C511,-306 379,-306 379,-306 373,-306 367,-300 367,-294 367,-294 367,-235 367,-235 367,-229 373,-223 379,-223 379,-223 511,-223 511,-223 517,-223 523,-229 523,-235 523,-235 523,-294 523,-294 523,-300 517,-306 511,-306\"/>\n<text text-anchor=\"middle\" x=\"445\" y=\"-290.8\" font-family=\"Helvetica,sans-Serif\" font-size=\"14.00\" fill=\"#000000\">Views &lt;= 2329189.5</text>\n<text text-anchor=\"middle\" x=\"445\" y=\"-275.8\" font-family=\"Helvetica,sans-Serif\" font-size=\"14.00\" fill=\"#000000\">entropy = 0.981</text>\n<text text-anchor=\"middle\" x=\"445\" y=\"-260.8\" font-family=\"Helvetica,sans-Serif\" font-size=\"14.00\" fill=\"#000000\">samples = 23.4%</text>\n<text text-anchor=\"middle\" x=\"445\" y=\"-245.8\" font-family=\"Helvetica,sans-Serif\" font-size=\"14.00\" fill=\"#000000\">value = [0.581, 0.419]</text>\n<text text-anchor=\"middle\" x=\"445\" y=\"-230.8\" font-family=\"Helvetica,sans-Serif\" font-size=\"14.00\" fill=\"#000000\">class = Not defaulted</text>\n</g>\n<!-- 5&#45;&gt;6 -->\n<g id=\"edge6\" class=\"edge\">\n<title>5&#45;&gt;6</title>\n<path fill=\"none\" stroke=\"#000000\" d=\"M452.803,-341.8796C451.9765,-333.6838 451.0997,-324.9891 450.2438,-316.5013\"/>\n<polygon fill=\"#000000\" stroke=\"#000000\" points=\"453.7007,-315.8964 449.2149,-306.2981 446.736,-316.5988 453.7007,-315.8964\"/>\n</g>\n<!-- 11 -->\n<g id=\"node12\" class=\"node\">\n<title>11</title>\n<path fill=\"#e58139\" stroke=\"#000000\" d=\"M681,-298.5C681,-298.5 553,-298.5 553,-298.5 547,-298.5 541,-292.5 541,-286.5 541,-286.5 541,-242.5 541,-242.5 541,-236.5 547,-230.5 553,-230.5 553,-230.5 681,-230.5 681,-230.5 687,-230.5 693,-236.5 693,-242.5 693,-242.5 693,-286.5 693,-286.5 693,-292.5 687,-298.5 681,-298.5\"/>\n<text text-anchor=\"middle\" x=\"617\" y=\"-283.3\" font-family=\"Helvetica,sans-Serif\" font-size=\"14.00\" fill=\"#000000\">entropy = 0.0</text>\n<text text-anchor=\"middle\" x=\"617\" y=\"-268.3\" font-family=\"Helvetica,sans-Serif\" font-size=\"14.00\" fill=\"#000000\">samples = 2.2%</text>\n<text text-anchor=\"middle\" x=\"617\" y=\"-253.3\" font-family=\"Helvetica,sans-Serif\" font-size=\"14.00\" fill=\"#000000\">value = [1.0, 0.0]</text>\n<text text-anchor=\"middle\" x=\"617\" y=\"-238.3\" font-family=\"Helvetica,sans-Serif\" font-size=\"14.00\" fill=\"#000000\">class = Not defaulted</text>\n</g>\n<!-- 5&#45;&gt;11 -->\n<g id=\"edge11\" class=\"edge\">\n<title>5&#45;&gt;11</title>\n<path fill=\"none\" stroke=\"#000000\" d=\"M512.9602,-341.8796C529.1522,-329.8368 546.7927,-316.7167 562.8708,-304.7586\"/>\n<polygon fill=\"#000000\" stroke=\"#000000\" points=\"565.185,-307.3993 571.1203,-298.623 561.0075,-301.7825 565.185,-307.3993\"/>\n</g>\n<!-- 7 -->\n<g id=\"node8\" class=\"node\">\n<title>7</title>\n<path fill=\"#eca572\" stroke=\"#000000\" d=\"M391,-179.5C391,-179.5 259,-179.5 259,-179.5 253,-179.5 247,-173.5 247,-167.5 247,-167.5 247,-123.5 247,-123.5 247,-117.5 253,-111.5 259,-111.5 259,-111.5 391,-111.5 391,-111.5 397,-111.5 403,-117.5 403,-123.5 403,-123.5 403,-167.5 403,-167.5 403,-173.5 397,-179.5 391,-179.5\"/>\n<text text-anchor=\"middle\" x=\"325\" y=\"-164.3\" font-family=\"Helvetica,sans-Serif\" font-size=\"14.00\" fill=\"#000000\">entropy = 0.764</text>\n<text text-anchor=\"middle\" x=\"325\" y=\"-149.3\" font-family=\"Helvetica,sans-Serif\" font-size=\"14.00\" fill=\"#000000\">samples = 9.8%</text>\n<text text-anchor=\"middle\" x=\"325\" y=\"-134.3\" font-family=\"Helvetica,sans-Serif\" font-size=\"14.00\" fill=\"#000000\">value = [0.778, 0.222]</text>\n<text text-anchor=\"middle\" x=\"325\" y=\"-119.3\" font-family=\"Helvetica,sans-Serif\" font-size=\"14.00\" fill=\"#000000\">class = Not defaulted</text>\n</g>\n<!-- 6&#45;&gt;7 -->\n<g id=\"edge7\" class=\"edge\">\n<title>6&#45;&gt;7</title>\n<path fill=\"none\" stroke=\"#000000\" d=\"M403.0298,-222.8796C391.276,-211.2237 378.5046,-198.5587 366.7628,-186.9148\"/>\n<polygon fill=\"#000000\" stroke=\"#000000\" points=\"369.1684,-184.3712 359.6033,-179.8149 364.2394,-189.3416 369.1684,-184.3712\"/>\n</g>\n<!-- 8 -->\n<g id=\"node9\" class=\"node\">\n<title>8</title>\n<path fill=\"#d5eaf9\" stroke=\"#000000\" d=\"M549,-187C549,-187 433,-187 433,-187 427,-187 421,-181 421,-175 421,-175 421,-116 421,-116 421,-110 427,-104 433,-104 433,-104 549,-104 549,-104 555,-104 561,-110 561,-116 561,-116 561,-175 561,-175 561,-181 555,-187 549,-187\"/>\n<text text-anchor=\"middle\" x=\"491\" y=\"-171.8\" font-family=\"Helvetica,sans-Serif\" font-size=\"14.00\" fill=\"#000000\">Dislikes &lt;= 383.5</text>\n<text text-anchor=\"middle\" x=\"491\" y=\"-156.8\" font-family=\"Helvetica,sans-Serif\" font-size=\"14.00\" fill=\"#000000\">entropy = 0.99</text>\n<text text-anchor=\"middle\" x=\"491\" y=\"-141.8\" font-family=\"Helvetica,sans-Serif\" font-size=\"14.00\" fill=\"#000000\">samples = 13.6%</text>\n<text text-anchor=\"middle\" x=\"491\" y=\"-126.8\" font-family=\"Helvetica,sans-Serif\" font-size=\"14.00\" fill=\"#000000\">value = [0.44, 0.56]</text>\n<text text-anchor=\"middle\" x=\"491\" y=\"-111.8\" font-family=\"Helvetica,sans-Serif\" font-size=\"14.00\" fill=\"#000000\">class = Defaulted</text>\n</g>\n<!-- 6&#45;&gt;8 -->\n<g id=\"edge8\" class=\"edge\">\n<title>6&#45;&gt;8</title>\n<path fill=\"none\" stroke=\"#000000\" d=\"M461.0886,-222.8796C464.3611,-214.4136 467.8395,-205.4153 471.2229,-196.6626\"/>\n<polygon fill=\"#000000\" stroke=\"#000000\" points=\"474.5017,-197.8874 474.8428,-187.2981 467.9726,-195.3635 474.5017,-197.8874\"/>\n</g>\n<!-- 9 -->\n<g id=\"node10\" class=\"node\">\n<title>9</title>\n<path fill=\"#399de5\" stroke=\"#000000\" d=\"M436,-68C436,-68 332,-68 332,-68 326,-68 320,-62 320,-56 320,-56 320,-12 320,-12 320,-6 326,0 332,0 332,0 436,0 436,0 442,0 448,-6 448,-12 448,-12 448,-56 448,-56 448,-62 442,-68 436,-68\"/>\n<text text-anchor=\"middle\" x=\"384\" y=\"-52.8\" font-family=\"Helvetica,sans-Serif\" font-size=\"14.00\" fill=\"#000000\">entropy = 0.0</text>\n<text text-anchor=\"middle\" x=\"384\" y=\"-37.8\" font-family=\"Helvetica,sans-Serif\" font-size=\"14.00\" fill=\"#000000\">samples = 2.7%</text>\n<text text-anchor=\"middle\" x=\"384\" y=\"-22.8\" font-family=\"Helvetica,sans-Serif\" font-size=\"14.00\" fill=\"#000000\">value = [0.0, 1.0]</text>\n<text text-anchor=\"middle\" x=\"384\" y=\"-7.8\" font-family=\"Helvetica,sans-Serif\" font-size=\"14.00\" fill=\"#000000\">class = Defaulted</text>\n</g>\n<!-- 8&#45;&gt;9 -->\n<g id=\"edge9\" class=\"edge\">\n<title>8&#45;&gt;9</title>\n<path fill=\"none\" stroke=\"#000000\" d=\"M451.1571,-103.9815C442.2492,-94.6989 432.7999,-84.8522 423.8901,-75.5677\"/>\n<polygon fill=\"#000000\" stroke=\"#000000\" points=\"426.3302,-73.0555 416.8808,-68.2637 421.2795,-77.9023 426.3302,-73.0555\"/>\n</g>\n<!-- 10 -->\n<g id=\"node11\" class=\"node\">\n<title>10</title>\n<path fill=\"#fae8db\" stroke=\"#000000\" d=\"M606,-68C606,-68 478,-68 478,-68 472,-68 466,-62 466,-56 466,-56 466,-12 466,-12 466,-6 472,0 478,0 478,0 606,0 606,0 612,0 618,-6 618,-12 618,-12 618,-56 618,-56 618,-62 612,-68 606,-68\"/>\n<text text-anchor=\"middle\" x=\"542\" y=\"-52.8\" font-family=\"Helvetica,sans-Serif\" font-size=\"14.00\" fill=\"#000000\">entropy = 0.993</text>\n<text text-anchor=\"middle\" x=\"542\" y=\"-37.8\" font-family=\"Helvetica,sans-Serif\" font-size=\"14.00\" fill=\"#000000\">samples = 10.9%</text>\n<text text-anchor=\"middle\" x=\"542\" y=\"-22.8\" font-family=\"Helvetica,sans-Serif\" font-size=\"14.00\" fill=\"#000000\">value = [0.55, 0.45]</text>\n<text text-anchor=\"middle\" x=\"542\" y=\"-7.8\" font-family=\"Helvetica,sans-Serif\" font-size=\"14.00\" fill=\"#000000\">class = Not defaulted</text>\n</g>\n<!-- 8&#45;&gt;10 -->\n<g id=\"edge10\" class=\"edge\">\n<title>8&#45;&gt;10</title>\n<path fill=\"none\" stroke=\"#000000\" d=\"M509.9905,-103.9815C513.9421,-95.3423 518.1172,-86.2144 522.1005,-77.5059\"/>\n<polygon fill=\"#000000\" stroke=\"#000000\" points=\"525.3511,-78.8134 526.3278,-68.2637 518.9854,-75.9017 525.3511,-78.8134\"/>\n</g>\n<!-- 13 -->\n<g id=\"node14\" class=\"node\">\n<title>13</title>\n<path fill=\"#f1b991\" stroke=\"#000000\" d=\"M741,-417.5C741,-417.5 609,-417.5 609,-417.5 603,-417.5 597,-411.5 597,-405.5 597,-405.5 597,-361.5 597,-361.5 597,-355.5 603,-349.5 609,-349.5 609,-349.5 741,-349.5 741,-349.5 747,-349.5 753,-355.5 753,-361.5 753,-361.5 753,-405.5 753,-405.5 753,-411.5 747,-417.5 741,-417.5\"/>\n<text text-anchor=\"middle\" x=\"675\" y=\"-402.3\" font-family=\"Helvetica,sans-Serif\" font-size=\"14.00\" fill=\"#000000\">entropy = 0.89</text>\n<text text-anchor=\"middle\" x=\"675\" y=\"-387.3\" font-family=\"Helvetica,sans-Serif\" font-size=\"14.00\" fill=\"#000000\">samples = 7.1%</text>\n<text text-anchor=\"middle\" x=\"675\" y=\"-372.3\" font-family=\"Helvetica,sans-Serif\" font-size=\"14.00\" fill=\"#000000\">value = [0.692, 0.308]</text>\n<text text-anchor=\"middle\" x=\"675\" y=\"-357.3\" font-family=\"Helvetica,sans-Serif\" font-size=\"14.00\" fill=\"#000000\">class = Not defaulted</text>\n</g>\n<!-- 12&#45;&gt;13 -->\n<g id=\"edge13\" class=\"edge\">\n<title>12&#45;&gt;13</title>\n<path fill=\"none\" stroke=\"#000000\" d=\"M675,-460.8796C675,-450.2134 675,-438.7021 675,-427.9015\"/>\n<polygon fill=\"#000000\" stroke=\"#000000\" points=\"678.5001,-427.8149 675,-417.8149 671.5001,-427.815 678.5001,-427.8149\"/>\n</g>\n<!-- 14 -->\n<g id=\"node15\" class=\"node\">\n<title>14</title>\n<path fill=\"#a1d0f3\" stroke=\"#000000\" d=\"M915,-425C915,-425 783,-425 783,-425 777,-425 771,-419 771,-413 771,-413 771,-354 771,-354 771,-348 777,-342 783,-342 783,-342 915,-342 915,-342 921,-342 927,-348 927,-354 927,-354 927,-413 927,-413 927,-419 921,-425 915,-425\"/>\n<text text-anchor=\"middle\" x=\"849\" y=\"-409.8\" font-family=\"Helvetica,sans-Serif\" font-size=\"14.00\" fill=\"#000000\">Screens &lt;= 4115.5</text>\n<text text-anchor=\"middle\" x=\"849\" y=\"-394.8\" font-family=\"Helvetica,sans-Serif\" font-size=\"14.00\" fill=\"#000000\">entropy = 0.929</text>\n<text text-anchor=\"middle\" x=\"849\" y=\"-379.8\" font-family=\"Helvetica,sans-Serif\" font-size=\"14.00\" fill=\"#000000\">samples = 48.9%</text>\n<text text-anchor=\"middle\" x=\"849\" y=\"-364.8\" font-family=\"Helvetica,sans-Serif\" font-size=\"14.00\" fill=\"#000000\">value = [0.344, 0.656]</text>\n<text text-anchor=\"middle\" x=\"849\" y=\"-349.8\" font-family=\"Helvetica,sans-Serif\" font-size=\"14.00\" fill=\"#000000\">class = Defaulted</text>\n</g>\n<!-- 12&#45;&gt;14 -->\n<g id=\"edge14\" class=\"edge\">\n<title>12&#45;&gt;14</title>\n<path fill=\"none\" stroke=\"#000000\" d=\"M735.8568,-460.8796C750.0294,-451.1868 765.2225,-440.7961 779.7288,-430.8752\"/>\n<polygon fill=\"#000000\" stroke=\"#000000\" points=\"781.8992,-433.6311 788.1776,-425.0969 777.9475,-427.8531 781.8992,-433.6311\"/>\n</g>\n<!-- 15 -->\n<g id=\"node16\" class=\"node\">\n<title>15</title>\n<path fill=\"#a9d4f4\" stroke=\"#000000\" d=\"M884,-306C884,-306 768,-306 768,-306 762,-306 756,-300 756,-294 756,-294 756,-235 756,-235 756,-229 762,-223 768,-223 768,-223 884,-223 884,-223 890,-223 896,-229 896,-235 896,-235 896,-294 896,-294 896,-300 890,-306 884,-306\"/>\n<text text-anchor=\"middle\" x=\"826\" y=\"-290.8\" font-family=\"Helvetica,sans-Serif\" font-size=\"14.00\" fill=\"#000000\">Dislikes &lt;= 52.0</text>\n<text text-anchor=\"middle\" x=\"826\" y=\"-275.8\" font-family=\"Helvetica,sans-Serif\" font-size=\"14.00\" fill=\"#000000\">entropy = 0.943</text>\n<text text-anchor=\"middle\" x=\"826\" y=\"-260.8\" font-family=\"Helvetica,sans-Serif\" font-size=\"14.00\" fill=\"#000000\">samples = 46.7%</text>\n<text text-anchor=\"middle\" x=\"826\" y=\"-245.8\" font-family=\"Helvetica,sans-Serif\" font-size=\"14.00\" fill=\"#000000\">value = [0.36, 0.64]</text>\n<text text-anchor=\"middle\" x=\"826\" y=\"-230.8\" font-family=\"Helvetica,sans-Serif\" font-size=\"14.00\" fill=\"#000000\">class = Defaulted</text>\n</g>\n<!-- 14&#45;&gt;15 -->\n<g id=\"edge15\" class=\"edge\">\n<title>14&#45;&gt;15</title>\n<path fill=\"none\" stroke=\"#000000\" d=\"M840.9557,-341.8796C839.3543,-333.5938 837.6542,-324.798 835.9966,-316.2216\"/>\n<polygon fill=\"#000000\" stroke=\"#000000\" points=\"839.4128,-315.4522 834.0786,-306.2981 832.5399,-316.7806 839.4128,-315.4522\"/>\n</g>\n<!-- 20 -->\n<g id=\"node21\" class=\"node\">\n<title>20</title>\n<path fill=\"#399de5\" stroke=\"#000000\" d=\"M1030,-298.5C1030,-298.5 926,-298.5 926,-298.5 920,-298.5 914,-292.5 914,-286.5 914,-286.5 914,-242.5 914,-242.5 914,-236.5 920,-230.5 926,-230.5 926,-230.5 1030,-230.5 1030,-230.5 1036,-230.5 1042,-236.5 1042,-242.5 1042,-242.5 1042,-286.5 1042,-286.5 1042,-292.5 1036,-298.5 1030,-298.5\"/>\n<text text-anchor=\"middle\" x=\"978\" y=\"-283.3\" font-family=\"Helvetica,sans-Serif\" font-size=\"14.00\" fill=\"#000000\">entropy = 0.0</text>\n<text text-anchor=\"middle\" x=\"978\" y=\"-268.3\" font-family=\"Helvetica,sans-Serif\" font-size=\"14.00\" fill=\"#000000\">samples = 2.2%</text>\n<text text-anchor=\"middle\" x=\"978\" y=\"-253.3\" font-family=\"Helvetica,sans-Serif\" font-size=\"14.00\" fill=\"#000000\">value = [0.0, 1.0]</text>\n<text text-anchor=\"middle\" x=\"978\" y=\"-238.3\" font-family=\"Helvetica,sans-Serif\" font-size=\"14.00\" fill=\"#000000\">class = Defaulted</text>\n</g>\n<!-- 14&#45;&gt;20 -->\n<g id=\"edge20\" class=\"edge\">\n<title>14&#45;&gt;20</title>\n<path fill=\"none\" stroke=\"#000000\" d=\"M894.1179,-341.8796C906.7533,-330.2237 920.4826,-317.5587 933.105,-305.9148\"/>\n<polygon fill=\"#000000\" stroke=\"#000000\" points=\"935.8244,-308.168 940.8015,-298.8149 931.078,-303.0228 935.8244,-308.168\"/>\n</g>\n<!-- 16 -->\n<g id=\"node17\" class=\"node\">\n<title>16</title>\n<path fill=\"#399de5\" stroke=\"#000000\" d=\"M798,-179.5C798,-179.5 694,-179.5 694,-179.5 688,-179.5 682,-173.5 682,-167.5 682,-167.5 682,-123.5 682,-123.5 682,-117.5 688,-111.5 694,-111.5 694,-111.5 798,-111.5 798,-111.5 804,-111.5 810,-117.5 810,-123.5 810,-123.5 810,-167.5 810,-167.5 810,-173.5 804,-179.5 798,-179.5\"/>\n<text text-anchor=\"middle\" x=\"746\" y=\"-164.3\" font-family=\"Helvetica,sans-Serif\" font-size=\"14.00\" fill=\"#000000\">entropy = 0.0</text>\n<text text-anchor=\"middle\" x=\"746\" y=\"-149.3\" font-family=\"Helvetica,sans-Serif\" font-size=\"14.00\" fill=\"#000000\">samples = 2.2%</text>\n<text text-anchor=\"middle\" x=\"746\" y=\"-134.3\" font-family=\"Helvetica,sans-Serif\" font-size=\"14.00\" fill=\"#000000\">value = [0.0, 1.0]</text>\n<text text-anchor=\"middle\" x=\"746\" y=\"-119.3\" font-family=\"Helvetica,sans-Serif\" font-size=\"14.00\" fill=\"#000000\">class = Defaulted</text>\n</g>\n<!-- 15&#45;&gt;16 -->\n<g id=\"edge16\" class=\"edge\">\n<title>15&#45;&gt;16</title>\n<path fill=\"none\" stroke=\"#000000\" d=\"M798.0199,-222.8796C790.4797,-211.6636 782.3113,-199.5131 774.7309,-188.2372\"/>\n<polygon fill=\"#000000\" stroke=\"#000000\" points=\"777.5527,-186.1612 769.0689,-179.8149 771.7434,-190.0667 777.5527,-186.1612\"/>\n</g>\n<!-- 17 -->\n<g id=\"node18\" class=\"node\">\n<title>17</title>\n<path fill=\"#b1d9f5\" stroke=\"#000000\" d=\"M972,-187C972,-187 840,-187 840,-187 834,-187 828,-181 828,-175 828,-175 828,-116 828,-116 828,-110 834,-104 840,-104 840,-104 972,-104 972,-104 978,-104 984,-110 984,-116 984,-116 984,-175 984,-175 984,-181 978,-187 972,-187\"/>\n<text text-anchor=\"middle\" x=\"906\" y=\"-171.8\" font-family=\"Helvetica,sans-Serif\" font-size=\"14.00\" fill=\"#000000\">Views &lt;= 470306.5</text>\n<text text-anchor=\"middle\" x=\"906\" y=\"-156.8\" font-family=\"Helvetica,sans-Serif\" font-size=\"14.00\" fill=\"#000000\">entropy = 0.957</text>\n<text text-anchor=\"middle\" x=\"906\" y=\"-141.8\" font-family=\"Helvetica,sans-Serif\" font-size=\"14.00\" fill=\"#000000\">samples = 44.6%</text>\n<text text-anchor=\"middle\" x=\"906\" y=\"-126.8\" font-family=\"Helvetica,sans-Serif\" font-size=\"14.00\" fill=\"#000000\">value = [0.378, 0.622]</text>\n<text text-anchor=\"middle\" x=\"906\" y=\"-111.8\" font-family=\"Helvetica,sans-Serif\" font-size=\"14.00\" fill=\"#000000\">class = Defaulted</text>\n</g>\n<!-- 15&#45;&gt;17 -->\n<g id=\"edge17\" class=\"edge\">\n<title>15&#45;&gt;17</title>\n<path fill=\"none\" stroke=\"#000000\" d=\"M853.9801,-222.8796C859.8531,-214.1434 866.1073,-204.8404 872.1679,-195.8253\"/>\n<polygon fill=\"#000000\" stroke=\"#000000\" points=\"875.2259,-197.5498 877.9005,-187.2981 869.4166,-193.6444 875.2259,-197.5498\"/>\n</g>\n<!-- 18 -->\n<g id=\"node19\" class=\"node\">\n<title>18</title>\n<path fill=\"#e58139\" stroke=\"#000000\" d=\"M884,-68C884,-68 756,-68 756,-68 750,-68 744,-62 744,-56 744,-56 744,-12 744,-12 744,-6 750,0 756,0 756,0 884,0 884,0 890,0 896,-6 896,-12 896,-12 896,-56 896,-56 896,-62 890,-68 884,-68\"/>\n<text text-anchor=\"middle\" x=\"820\" y=\"-52.8\" font-family=\"Helvetica,sans-Serif\" font-size=\"14.00\" fill=\"#000000\">entropy = 0.0</text>\n<text text-anchor=\"middle\" x=\"820\" y=\"-37.8\" font-family=\"Helvetica,sans-Serif\" font-size=\"14.00\" fill=\"#000000\">samples = 2.2%</text>\n<text text-anchor=\"middle\" x=\"820\" y=\"-22.8\" font-family=\"Helvetica,sans-Serif\" font-size=\"14.00\" fill=\"#000000\">value = [1.0, 0.0]</text>\n<text text-anchor=\"middle\" x=\"820\" y=\"-7.8\" font-family=\"Helvetica,sans-Serif\" font-size=\"14.00\" fill=\"#000000\">class = Not defaulted</text>\n</g>\n<!-- 17&#45;&gt;18 -->\n<g id=\"edge18\" class=\"edge\">\n<title>17&#45;&gt;18</title>\n<path fill=\"none\" stroke=\"#000000\" d=\"M873.9768,-103.9815C867.0298,-94.9747 859.6731,-85.4367 852.7004,-76.3965\"/>\n<polygon fill=\"#000000\" stroke=\"#000000\" points=\"855.3064,-74.0444 846.4276,-68.2637 849.7636,-78.3196 855.3064,-74.0444\"/>\n</g>\n<!-- 19 -->\n<g id=\"node20\" class=\"node\">\n<title>19</title>\n<path fill=\"#a2d1f3\" stroke=\"#000000\" d=\"M1058,-68C1058,-68 926,-68 926,-68 920,-68 914,-62 914,-56 914,-56 914,-12 914,-12 914,-6 920,0 926,0 926,0 1058,0 1058,0 1064,0 1070,-6 1070,-12 1070,-12 1070,-56 1070,-56 1070,-62 1064,-68 1058,-68\"/>\n<text text-anchor=\"middle\" x=\"992\" y=\"-52.8\" font-family=\"Helvetica,sans-Serif\" font-size=\"14.00\" fill=\"#000000\">entropy = 0.931</text>\n<text text-anchor=\"middle\" x=\"992\" y=\"-37.8\" font-family=\"Helvetica,sans-Serif\" font-size=\"14.00\" fill=\"#000000\">samples = 42.4%</text>\n<text text-anchor=\"middle\" x=\"992\" y=\"-22.8\" font-family=\"Helvetica,sans-Serif\" font-size=\"14.00\" fill=\"#000000\">value = [0.346, 0.654]</text>\n<text text-anchor=\"middle\" x=\"992\" y=\"-7.8\" font-family=\"Helvetica,sans-Serif\" font-size=\"14.00\" fill=\"#000000\">class = Defaulted</text>\n</g>\n<!-- 17&#45;&gt;19 -->\n<g id=\"edge19\" class=\"edge\">\n<title>17&#45;&gt;19</title>\n<path fill=\"none\" stroke=\"#000000\" d=\"M938.0232,-103.9815C944.9702,-94.9747 952.3269,-85.4367 959.2996,-76.3965\"/>\n<polygon fill=\"#000000\" stroke=\"#000000\" points=\"962.2364,-78.3196 965.5724,-68.2637 956.6936,-74.0444 962.2364,-78.3196\"/>\n</g>\n</g>\n</svg>\n"
          },
          "metadata": {},
          "execution_count": 73
        }
      ]
    },
    {
      "cell_type": "code",
      "metadata": {
        "colab": {
          "base_uri": "https://localhost:8080/"
        },
        "id": "YFj95DgHmwdz",
        "outputId": "33ecbebe-b943-406e-80af-dae73ff3e2c1"
      },
      "source": [
        "#Đưa vào một mẫu thử xem mô hình sẽ cho ra kết quả gì\n",
        "dt_model.predict([[7,100000000, 2, 4000000,50000, 20000, 145000000, 2000, 1, 3000, 200000]])"
      ],
      "execution_count": null,
      "outputs": [
        {
          "output_type": "execute_result",
          "data": {
            "text/plain": [
              "array([1])"
            ]
          },
          "metadata": {},
          "execution_count": 80
        }
      ]
    }
  ]
}